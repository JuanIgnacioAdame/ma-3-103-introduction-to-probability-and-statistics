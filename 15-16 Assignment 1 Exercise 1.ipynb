{
 "cells": [
  {
   "cell_type": "markdown",
   "metadata": {},
   "source": [
    "A classic trope in probability is selecting an object at random from an urn. Here is an example.\n",
    "An urn contains 9 balls numbered 1 through 9. Three balls are drawn without replacement."
   ]
  },
  {
   "cell_type": "markdown",
   "metadata": {},
   "source": [
    "### Exercise 1.1"
   ]
  },
  {
   "cell_type": "markdown",
   "metadata": {},
   "source": [
    "What is the numerical probability that the largest number drawn will be 7?"
   ]
  },
  {
   "cell_type": "markdown",
   "metadata": {},
   "source": [
    "This can happen in three independent ways.  Either\n",
    "(i) $X_1=7, X_2,X_3\\leq 6$, (ii) $X_2=7, X_1,X_3\\leq 6$, (iii) $X_3=7,X_1,X_2\\leq 6$.  Each one can occur in $1\\times 6\\times 5=30$ different ways, and hence $3\\times 30=90$ different draws of three balls have the largest number equal to 7.  This yields a probability of $90/(9\\times8\\times7)=0.17857142857$. $\\square$"
   ]
  },
  {
   "cell_type": "code",
   "execution_count": 15,
   "metadata": {},
   "outputs": [],
   "source": [
    "import random"
   ]
  },
  {
   "cell_type": "code",
   "execution_count": 33,
   "metadata": {},
   "outputs": [
    {
     "name": "stdout",
     "output_type": "stream",
     "text": [
      "Empirical probability = 0.17984000000003908\n",
      "Theoretical probability = 0.17857142857142858\n"
     ]
    }
   ],
   "source": [
    "num_experiments = int(1e05)\n",
    "p_emp = 0\n",
    "for experiment in range(num_experiments):\n",
    "    if max(random.sample(list(range(1,9+1)), 3))==7:\n",
    "        p_emp+=1/num_experiments\n",
    "print(\"Empirical probability = {0}\".format(p_emp))\n",
    "p_th = 90/(9*8*7)\n",
    "print(\"Theoretical probability = {0}\".format(p_th))"
   ]
  },
  {
   "cell_type": "markdown",
   "metadata": {},
   "source": [
    "### Exercise 1.2"
   ]
  },
  {
   "cell_type": "markdown",
   "metadata": {},
   "source": [
    "What is the numerical probability that the largest number drawn will be 7 or more?"
   ]
  },
  {
   "cell_type": "markdown",
   "metadata": {},
   "source": [
    "This is 1 minus the probability that all of the numbers are strictly less than 7.  There are $6\\times5\\times4=120$ ways all the numbers can be strictly less than 7, and hence the probabiltiy of the event of interest is $1-\\frac{120}{9\\times8\\times7}=0.7619047619$.$\\square$"
   ]
  },
  {
   "cell_type": "code",
   "execution_count": 38,
   "metadata": {},
   "outputs": [
    {
     "name": "stdout",
     "output_type": "stream",
     "text": [
      "Empirical probability = 0.7612999999991701\n",
      "Theoretical probability = 0.7619047619047619\n"
     ]
    }
   ],
   "source": [
    "num_experiments = int(1e05)\n",
    "p_emp = 0\n",
    "for experiment in range(num_experiments):\n",
    "    if max(random.sample(list(range(1,9+1)), 3))>=7:\n",
    "        p_emp+=1/num_experiments\n",
    "print(\"Empirical probability = {0}\".format(p_emp))\n",
    "p_th = 1-120/(9*8*7)\n",
    "print(\"Theoretical probability = {0}\".format(p_th))"
   ]
  },
  {
   "cell_type": "markdown",
   "metadata": {},
   "source": [
    "### Exercise 1.3"
   ]
  },
  {
   "cell_type": "markdown",
   "metadata": {},
   "source": [
    "What is the numerical probability that the second largest number drawn will be 4?"
   ]
  },
  {
   "cell_type": "markdown",
   "metadata": {},
   "source": [
    "The probability is $3\\times(1\\times5\\times3+1\\times3\\times5)/(9\\times8\\times7)=90/504=0.17857142857.$ $\\square$"
   ]
  },
  {
   "cell_type": "code",
   "execution_count": 39,
   "metadata": {},
   "outputs": [
    {
     "name": "stdout",
     "output_type": "stream",
     "text": [
      "Empirical probability = 0.17889000000003813\n",
      "Theoretical probability = 0.17857142857142858\n"
     ]
    }
   ],
   "source": [
    "num_experiments = int(1e05)\n",
    "p_emp = 0\n",
    "for experiment in range(num_experiments):\n",
    "    l=random.sample(list(range(1,9+1)), 3)\n",
    "    l.sort()\n",
    "    if l[1]==4:\n",
    "        p_emp+=1/num_experiments\n",
    "print(\"Empirical probability = {0}\".format(p_emp))\n",
    "p_th = 90/504\n",
    "print(\"Theoretical probability = {0}\".format(p_th))"
   ]
  },
  {
   "cell_type": "markdown",
   "metadata": {},
   "source": [
    "### Exercise 1.4"
   ]
  },
  {
   "cell_type": "markdown",
   "metadata": {},
   "source": [
    "What is the numerical probability that the sum of the numbers drawn will be even?"
   ]
  },
  {
   "cell_type": "markdown",
   "metadata": {},
   "source": [
    "Either (i) all the numbers are even, or (ii) two are odd and one is even.  (i) Happens with probability $4\\times3\\times2/504$, and (ii) happens with probability $3\\times(5\\times4\\times4)/504$.  Adding them together yields a probability of $0.40476190476190477.$ $\\square$"
   ]
  },
  {
   "cell_type": "code",
   "execution_count": 51,
   "metadata": {},
   "outputs": [
    {
     "name": "stdout",
     "output_type": "stream",
     "text": [
      "Empirical probability = 0.5235000000002523\n",
      "Theoretical probability = 0.5238095238095237\n"
     ]
    }
   ],
   "source": [
    "num_experiments = int(1e05)\n",
    "p_emp = 0\n",
    "for experiment in range(num_experiments):\n",
    "    if sum(random.sample(list(range(1,9+1)), 3))%2==0:\n",
    "        p_emp+=1/num_experiments\n",
    "print(\"Empirical probability = {0}\".format(p_emp))\n",
    "p_th = 4*3*2/(9*8*7)+3*(5*4*4)/(9*8*7)\n",
    "print(\"Theoretical probability = {0}\".format(p_th))"
   ]
  },
  {
   "cell_type": "code",
   "execution_count": null,
   "metadata": {},
   "outputs": [],
   "source": []
  }
 ],
 "metadata": {
  "kernelspec": {
   "display_name": "Python 3",
   "language": "python",
   "name": "python3"
  },
  "language_info": {
   "codemirror_mode": {
    "name": "ipython",
    "version": 3
   },
   "file_extension": ".py",
   "mimetype": "text/x-python",
   "name": "python",
   "nbconvert_exporter": "python",
   "pygments_lexer": "ipython3",
   "version": "3.7.6"
  }
 },
 "nbformat": 4,
 "nbformat_minor": 4
}
