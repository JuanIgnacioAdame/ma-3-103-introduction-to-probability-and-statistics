{
 "cells": [
  {
   "cell_type": "markdown",
   "metadata": {},
   "source": [
    "# Exercise 1"
   ]
  },
  {
   "cell_type": "markdown",
   "metadata": {},
   "source": [
    "A classic trope in probability is repeatedly tossing a coin. Here is an example.\n",
    "A fair coin is tossed three times."
   ]
  },
  {
   "cell_type": "markdown",
   "metadata": {},
   "source": [
    "#### Exercise 1.1"
   ]
  },
  {
   "cell_type": "markdown",
   "metadata": {},
   "source": [
    "Make a list of all the outcomes in the sample space for this experiment. How many points does it contain?"
   ]
  },
  {
   "cell_type": "markdown",
   "metadata": {},
   "source": [
    "The sample space for this experiment is given by $S=\\{HHH, HHT, HTH, HTT, THH, THT, TTH, TTT\\}$.  It cointains 8 points. $\\square$"
   ]
  },
  {
   "cell_type": "markdown",
   "metadata": {},
   "source": [
    "#### Exercise 1.2"
   ]
  },
  {
   "cell_type": "markdown",
   "metadata": {},
   "source": [
    "What is the numerical probability that there are two consecutive Tails?"
   ]
  },
  {
   "cell_type": "markdown",
   "metadata": {},
   "source": [
    "The numerical probability that there are two consecutive Tails is $\\frac{3}{8}$. $\\square$"
   ]
  },
  {
   "cell_type": "markdown",
   "metadata": {},
   "source": [
    "#### Exercise 1.3"
   ]
  },
  {
   "cell_type": "markdown",
   "metadata": {},
   "source": [
    "What is the probability that all three tosses yield distinct outcomes?"
   ]
  },
  {
   "cell_type": "markdown",
   "metadata": {},
   "source": [
    "0.$\\square$"
   ]
  },
  {
   "cell_type": "markdown",
   "metadata": {},
   "source": [
    "# Exercise 2"
   ]
  },
  {
   "cell_type": "markdown",
   "metadata": {},
   "source": [
    "Another classic trope in probability is selecting an object at random from an urn. Here is an example.\n",
    "An urn contains five balls numbered 1 through 5. Two balls are drawn at random without replacement. Let B1 be the number on the first ball drawn and B2 be number on the second one drawn. These are random variables."
   ]
  },
  {
   "cell_type": "markdown",
   "metadata": {},
   "source": [
    "#### Exercise 2.1"
   ]
  },
  {
   "cell_type": "markdown",
   "metadata": {},
   "source": [
    "Make a table of all the outcomes in the sample space for this experiment. How many points does it contain?"
   ]
  },
  {
   "cell_type": "markdown",
   "metadata": {},
   "source": [
    "$B_1\\in\\{1,\\dots,5\\}, B_2\\in\\{1,\\dots,5\\}\\setminus B_1$.  The same space contains $5\\times 4=20$ points. $\\square$"
   ]
  },
  {
   "cell_type": "code",
   "execution_count": 1,
   "metadata": {},
   "outputs": [
    {
     "name": "stdout",
     "output_type": "stream",
     "text": [
      "20\n"
     ]
    }
   ],
   "source": [
    "import itertools\n",
    "print(len(set(itertools.permutations(range(5),2))))"
   ]
  },
  {
   "cell_type": "markdown",
   "metadata": {},
   "source": [
    "#### Exercise 2.2"
   ]
  },
  {
   "cell_type": "markdown",
   "metadata": {},
   "source": [
    "What is the numerical probability that the largest number drawn will be 3?"
   ]
  },
  {
   "cell_type": "markdown",
   "metadata": {},
   "source": [
    "Either $B_1=3$ and $B_2\\in\\{1,2\\}$, or $B_2=3$ and $B_1\\in\\{1,2\\}$.  These are 4 points total out of 20, i.e. $\\frac{4}{20}=\\frac{1}{5}$.$\\square$"
   ]
  },
  {
   "cell_type": "code",
   "execution_count": 2,
   "metadata": {},
   "outputs": [],
   "source": [
    "import random"
   ]
  },
  {
   "cell_type": "code",
   "execution_count": 3,
   "metadata": {},
   "outputs": [
    {
     "name": "stdout",
     "output_type": "stream",
     "text": [
      "0.1986\n"
     ]
    }
   ],
   "source": [
    "# empirical test\n",
    "counter=0\n",
    "num_experiments=10000\n",
    "sample_space=set([1,2,3,4,5])\n",
    "counter=sum([(max(random.sample(sample_space, 2))==3) for i in range(num_experiments)])\n",
    "print(counter/num_experiments)"
   ]
  },
  {
   "cell_type": "markdown",
   "metadata": {},
   "source": [
    "#### Exercise 2.3"
   ]
  },
  {
   "cell_type": "markdown",
   "metadata": {},
   "source": [
    "What is the numerical probability that the largest number drawn will be 4 or more?"
   ]
  },
  {
   "cell_type": "markdown",
   "metadata": {},
   "source": [
    "This is equal to 1 minus the probability that the largest number drawn will be 3 or less.  This happens whenever $B_1\\in\\{1,2,3\\}$, and $B_2\\in\\{1,2,3\\}\\setminus B_1$.  Hence, there are $3\\times 2=6$ points, so the probability is $1-\\frac{6}{20}=\\frac{14}{20}=\\frac{7}{10}$. $\\square$"
   ]
  },
  {
   "cell_type": "code",
   "execution_count": 4,
   "metadata": {},
   "outputs": [
    {
     "name": "stdout",
     "output_type": "stream",
     "text": [
      "0.6986\n"
     ]
    }
   ],
   "source": [
    "# empirical test\n",
    "counter=0\n",
    "num_experiments=10000\n",
    "sample_space=set([1,2,3,4,5])\n",
    "counter=sum([(max(random.sample(sample_space, 2))>=4) for i in range(num_experiments)])\n",
    "print(counter/num_experiments)"
   ]
  },
  {
   "cell_type": "markdown",
   "metadata": {},
   "source": [
    "#### Exercise 2.4"
   ]
  },
  {
   "cell_type": "markdown",
   "metadata": {},
   "source": [
    "What is the numerical probability that the sum of the numbers drawn will be even?"
   ]
  },
  {
   "cell_type": "markdown",
   "metadata": {},
   "source": [
    "The sum of the numbers drawn is even whenever both $B_1$ is even and $B_2$ is even, or $B_1$ is odd and $B_2$ is odd.  They are both even if $B_1\\in\\{2,4\\}$ and $B_2\\in\\{2,4\\}\\setminus B_1$, so $2\\times 1=2$ points.  They are both odd if  if $B_1\\in\\{1,3,5\\}$ and $B_2\\in\\{1,3,5\\}\\setminus B_1$, so $3\\times 2=6$ points.  Hence, the probability is $\\frac{8}{20}=\\frac{2}{5}$. $\\square$"
   ]
  },
  {
   "cell_type": "code",
   "execution_count": 5,
   "metadata": {},
   "outputs": [
    {
     "name": "stdout",
     "output_type": "stream",
     "text": [
      "0.4051\n"
     ]
    }
   ],
   "source": [
    "# empirical test\n",
    "counter=0\n",
    "num_experiments=10000\n",
    "sample_space=set([1,2,3,4,5])\n",
    "counter=sum([(sum(random.sample(sample_space, 2))%2==0) for i in range(num_experiments)])\n",
    "print(counter/num_experiments)"
   ]
  },
  {
   "cell_type": "markdown",
   "metadata": {},
   "source": [
    "#### Exercise 2.5"
   ]
  },
  {
   "cell_type": "markdown",
   "metadata": {},
   "source": [
    "What is the numerical probability that the sum of the numbers drawn will be a multiple of three?"
   ]
  },
  {
   "cell_type": "markdown",
   "metadata": {},
   "source": [
    "This can happen if (i) $B_1+B_2=3$, (ii) $B_1+B_2=6, and (iii) $B_1+B_2=9$.\n",
    "\n",
    "Case (i) happens when $B_1\\in\\{1,2\\},B_2=3-B_1$. 2 points total.\n",
    "\n",
    "Case (ii) happens when $B_1\\in\\{1,2,4,5\\}$, $B_2=6-B_1$. 4 points total.\n",
    "\n",
    "Case (ii) happens when $B_1\\in\\{4,5\\}, B_2=9-B_1$. 2 points total.\n",
    "\n",
    "Hence, the pribability is $\\frac{2+4+2}{20}=\\frac{8}{20}=\\frac{2}{5}$.$\\square$"
   ]
  },
  {
   "cell_type": "code",
   "execution_count": 6,
   "metadata": {},
   "outputs": [
    {
     "name": "stdout",
     "output_type": "stream",
     "text": [
      "0.3973\n"
     ]
    }
   ],
   "source": [
    "# empirical test\n",
    "counter=0\n",
    "num_experiments=10000\n",
    "sample_space=set([1,2,3,4,5])\n",
    "counter=sum([(sum(random.sample(sample_space, 2))%3==0) for i in range(num_experiments)])\n",
    "print(counter/num_experiments)"
   ]
  },
  {
   "cell_type": "markdown",
   "metadata": {},
   "source": [
    "# Exercise 3"
   ]
  },
  {
   "cell_type": "markdown",
   "metadata": {},
   "source": [
    "A tiny day-care center has six children from three different families. One family has\n",
    "one child in the center, another has two, and the third family has three. All three families have all their children in the center.\n",
    "What is the probability that a randomly selected child is the first-born of its family? The answer depends on the sampling scheme. Consider the two following schemes:"
   ]
  },
  {
   "cell_type": "markdown",
   "metadata": {},
   "source": [
    "#### Exercise 3.1"
   ]
  },
  {
   "cell_type": "markdown",
   "metadata": {},
   "source": [
    "1. There is an urn for each family, which contains all the children in that family. A family is selected at random, and then a child is selected randomly from the family urn."
   ]
  },
  {
   "cell_type": "markdown",
   "metadata": {},
   "source": [
    "Without loss of generality, assume the urns are ordered from smallest to largest family.\n",
    "\n",
    "If the first urn is chosen, there child is guaranteed to be the first born. $P_1=\\frac{1}{3}\\times1=\\frac{1}{3}$.\n",
    "\n",
    "If the second urn is chosen, there is a $\\frac{1}{2}$ probability the first born is chosen. $P_2=\\frac{1}{3}\\times\\frac{1}{2}=\\frac{1}{6}$.\n",
    "\n",
    "If the third urn is chosen, there is a $\\frac{1}{3}$ probability the first born is chosen. $P_2=\\frac{1}{3}\\times\\frac{1}{3}=\\frac{1}{9}$.\n",
    "\n",
    "$P_1+P_2+P_3=\\frac{11}{18}\\approx 0.61$.$\\square$"
   ]
  },
  {
   "cell_type": "code",
   "execution_count": 7,
   "metadata": {},
   "outputs": [
    {
     "name": "stdout",
     "output_type": "stream",
     "text": [
      "0.6048\n"
     ]
    }
   ],
   "source": [
    "# empirical test\n",
    "family={}\n",
    "family[1]=[1]\n",
    "family[2]=[1,2]\n",
    "family[3]=[1,2,3]\n",
    "# run experiments\n",
    "counter=0\n",
    "num_experiments=10000\n",
    "for _ in range(num_experiments):\n",
    "    # sample random family\n",
    "    fam_int = random.randint(1,3)\n",
    "    counter += int(random.choice(family[fam_int])==1)\n",
    "print(counter/num_experiments)"
   ]
  },
  {
   "cell_type": "markdown",
   "metadata": {},
   "source": [
    "2. All the children are put into one urn, and a child is selected at random."
   ]
  },
  {
   "cell_type": "markdown",
   "metadata": {},
   "source": [
    "There are 1+2+3=6 children total.  3 of these children are first-borns.  Therefore, there is $\\frac{3}{6}=\\frac{1}{2}$ probability. $\\square$"
   ]
  },
  {
   "cell_type": "code",
   "execution_count": 8,
   "metadata": {},
   "outputs": [
    {
     "name": "stdout",
     "output_type": "stream",
     "text": [
      "0.4971\n"
     ]
    }
   ],
   "source": [
    "# empirical test\n",
    "children = [0]+[1,2]+[3,4,5]\n",
    "# run experiments\n",
    "counter=0\n",
    "num_experiments=10000\n",
    "for _ in range(num_experiments):\n",
    "    # sample random child\n",
    "    counter += int(random.choice(children) in [0, 1, 3])\n",
    "print(counter/num_experiments)"
   ]
  },
  {
   "cell_type": "code",
   "execution_count": null,
   "metadata": {},
   "outputs": [],
   "source": []
  }
 ],
 "metadata": {
  "kernelspec": {
   "display_name": "Python 3",
   "language": "python",
   "name": "python3"
  },
  "language_info": {
   "codemirror_mode": {
    "name": "ipython",
    "version": 3
   },
   "file_extension": ".py",
   "mimetype": "text/x-python",
   "name": "python",
   "nbconvert_exporter": "python",
   "pygments_lexer": "ipython3",
   "version": "3.7.6"
  }
 },
 "nbformat": 4,
 "nbformat_minor": 4
}
