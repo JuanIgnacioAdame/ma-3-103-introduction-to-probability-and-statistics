{
 "cells": [
  {
   "cell_type": "markdown",
   "metadata": {},
   "source": [
    "### Problem"
   ]
  },
  {
   "cell_type": "markdown",
   "metadata": {},
   "source": [
    "Select $n$ points on a circle independently according to a uniform distribution. What is the probability that all of them lie on the same semicircle?"
   ]
  },
  {
   "cell_type": "markdown",
   "metadata": {},
   "source": [
    "Hint: Think before you calculate."
   ]
  },
  {
   "cell_type": "markdown",
   "metadata": {},
   "source": [
    "### Solution"
   ]
  },
  {
   "cell_type": "markdown",
   "metadata": {},
   "source": [
    "The key observation to make here is that the $n$ points all lie on the same semi-circle, an event we denote $E$, if and only they all lie in one of the $n$ semi-circles $S_i^{+}$, $i\\in\\{1,\\dots,n\\}$, that \"start\" at one of the $n$ points, and extend out $\\pi$ radians counterclockwise."
   ]
  },
  {
   "cell_type": "markdown",
   "metadata": {},
   "source": [
    "We will prove that this is in just a bit.  For now, assume it is true."
   ]
  },
  {
   "cell_type": "markdown",
   "metadata": {},
   "source": [
    "First, let $E_i$ denote the event that all points are in $S_i$, so that we have\n",
    "\\begin{equation}\n",
    "P(E)=P(E_1\\cup\\dots\\cup E_n).\n",
    "\\end{equation}"
   ]
  },
  {
   "cell_type": "markdown",
   "metadata": {},
   "source": [
    "Note that for $i\\neq j$, $E_i\\cap E_j=\\emptyset$, and hence\n",
    "\\begin{equation}\n",
    "P(E_1\\cup\\dots\\cup E_n)=\\sum_{i=1}^{n}P(E_i).\n",
    "\\end{equation}"
   ]
  },
  {
   "cell_type": "markdown",
   "metadata": {},
   "source": [
    "Because of symmetry, $P(E_i)=P(E_j)$ for all $i,j$, so the above expression simplifies further to\n",
    "\\begin{equation}\n",
    "P(E_1\\cup\\dots\\cup E_n)=nP(E_i), \\quad \\text{true for any } i.\n",
    "\\end{equation}"
   ]
  },
  {
   "cell_type": "markdown",
   "metadata": {},
   "source": [
    "Hence, it is enough to compute $P(E_i)$.  But this is simple.  For any point $j\\neq i$, note that because of symmetry,\n",
    "\\begin{equation}\n",
    "P(j\\in S_i^{+})=P(j\\in S_i^{-})=\\frac{1}{2},\n",
    "\\end{equation}\n",
    "where $S_i^{-}$ is the circle \"starting\" at point $i$, but extending out *clockwise* $\\pi$ radians."
   ]
  },
  {
   "cell_type": "markdown",
   "metadata": {},
   "source": [
    "Because the points are independent, then probability that all the $n-1$ points that are not $i$ are in $S^{+}_i$ is $\\frac{1}{2^{n-1}}$, and hence\n",
    "\\begin{equation}\n",
    "P(E_i)=\\frac{1}{2^{n-1}}.\n",
    "\\end{equation}"
   ]
  },
  {
   "cell_type": "markdown",
   "metadata": {},
   "source": [
    "Plugging this back into the equation above, we get\n",
    "\\begin{equation}\n",
    "P(E_1\\cup\\dots\\cup E_n)=n\\frac{1}{2^{n-1}},\n",
    "\\end{equation}\n",
    "and thus we arrive at our result\n",
    "\\begin{equation}\n",
    "\\boxed{P(E)=n\\frac{1}{2^{n-1}}}.\n",
    "\\end{equation}"
   ]
  },
  {
   "cell_type": "markdown",
   "metadata": {},
   "source": [
    "It remains to show that $P(E)=P(E_1\\cup\\dots\\cup E_n)$."
   ]
  },
  {
   "cell_type": "markdown",
   "metadata": {},
   "source": [
    "=>) Suppose the event $E$ has occurred, i.e., all points lie on some semi-circle $S$.  If we orient $S$ \"counterclockwise\", then we can identify its \"leading\" point $i_1\\in\\{1,\\dots,n\\}$ as the unique point such that for all $i_2\\in\\{1,\\dots,n\\}$,\n",
    "\\begin{gather}\n",
    "\\exists\\;\\theta_{1,2}\\in[0,\\pi] \\text{ such that}\\\\\n",
    "i_2=i_1+\\theta_{i,2}.\n",
    "\\end{gather}"
   ]
  },
  {
   "cell_type": "markdown",
   "metadata": {},
   "source": [
    "Informally, this means that we can get to any point $i_2$ by first starting at $i_1$, and then moving counterlockwise anywhere from 0 to $\\pi$ to radians."
   ]
  },
  {
   "cell_type": "markdown",
   "metadata": {},
   "source": [
    "But that means that event $E_{i_1}$ has occurred, and hence the event $E_1\\cup\\dots\\cup E_n$ has occurred.  Hence, $E_1\\cup\\dots\\cup E_n\\subseteq E$."
   ]
  },
  {
   "cell_type": "markdown",
   "metadata": {},
   "source": [
    "<=) Now suppose $E_1\\cap\\dots\\cap E_n$ has occurred.  Then for some $i\\in\\{1,\\dots,n\\}$, all the points lie in the semi-circle $S_i^{+}$.  Because all the points lie on a semi-circle (e.g. $S_i^{+}$), the event $E$ has occurred.  In other words $E\\subseteq E_1\\cup\\dots\\cup E_n$."
   ]
  },
  {
   "cell_type": "markdown",
   "metadata": {},
   "source": [
    "Combining the two results above, we can conclude that $E=E_1\\cup\\dots\\cup E_n$, which in particular implies $P(E)=P(E_1\\cup\\dots\\cup E_n)$.  This finishes our proof. $\\square$"
   ]
  },
  {
   "cell_type": "markdown",
   "metadata": {},
   "source": [
    "### Code"
   ]
  },
  {
   "cell_type": "code",
   "execution_count": 24,
   "metadata": {},
   "outputs": [],
   "source": [
    "from scipy.stats import uniform\n",
    "from math import pi\n",
    "import numpy as np"
   ]
  },
  {
   "cell_type": "markdown",
   "metadata": {},
   "source": [
    "### Empirical vs theoretical probability"
   ]
  },
  {
   "cell_type": "code",
   "execution_count": 25,
   "metadata": {},
   "outputs": [
    {
     "name": "stdout",
     "output_type": "stream",
     "text": [
      "Empiricaly probability = 0.0646\n",
      "Theoretical probability = 0.0625\n"
     ]
    }
   ],
   "source": [
    "# number of points\n",
    "n = 8\n",
    "num_experiments = int(1e04)\n",
    "p = 0\n",
    "for experiment in range(num_experiments):\n",
    "    # generate random points\n",
    "    points = 2*pi*uniform.rvs(size=n)\n",
    "    # check $n$ relevant semi circles\n",
    "    for point1 in points:\n",
    "        # semi circle \"doesn't overshoot\"\n",
    "        if point1+pi<2*pi:     \n",
    "            res = [int(point2>=point1 and point1+pi>=point2) for point2 in points]\n",
    "        # semi circle overshoots\n",
    "        else:\n",
    "            res = [int(point2>=point1) or int(point2<=pi-(2*pi-point1)) for point2 in points]\n",
    "        if sum(res)==n:\n",
    "            p += 1/num_experiments\n",
    "            break\n",
    "print(\"Empiricaly probability = {0}\".format(round(p,5)))\n",
    "pth = n/(2**(n-1))\n",
    "print(\"Theoretical probability = {0}\".format(round(pth,5)))"
   ]
  },
  {
   "cell_type": "markdown",
   "metadata": {},
   "source": [
    "### Visualized sampled points on the circle"
   ]
  },
  {
   "cell_type": "code",
   "execution_count": 26,
   "metadata": {},
   "outputs": [],
   "source": [
    "from matplotlib import pyplot as plt"
   ]
  },
  {
   "cell_type": "code",
   "execution_count": 27,
   "metadata": {},
   "outputs": [
    {
     "data": {
      "image/png": "[encoded data removed]",
      "text/plain": [
       "<Figure size 432x288 with 1 Axes>"
      ]
     },
     "metadata": {
      "needs_background": "light"
     },
     "output_type": "display_data"
    }
   ],
   "source": [
    "# plot circle\n",
    "plt.clf()\n",
    "n = 100\n",
    "points = 2*pi*uniform.rvs(size=n)\n",
    "# print(points)\n",
    "x = np.cos(points)\n",
    "y = np.sin(points)\n",
    "plt.scatter(x, y, s=20)\n",
    "plt.gca().set_aspect('equal', adjustable='box')\n",
    "plt.show()"
   ]
  },
  {
   "cell_type": "markdown",
   "metadata": {},
   "source": [
    "### Visualize empirical cdf"
   ]
  },
  {
   "cell_type": "code",
   "execution_count": 28,
   "metadata": {},
   "outputs": [
    {
     "data": {
      "image/png": "[encoded data removed]",
      "text/plain": [
       "<Figure size 432x288 with 1 Axes>"
      ]
     },
     "metadata": {
      "needs_background": "light"
     },
     "output_type": "display_data"
    }
   ],
   "source": [
    "# plot corresponding points\n",
    "plt.clf()\n",
    "# empirical; i.e. samples\n",
    "points.sort()\n",
    "raw = {point: (i+1)/n for i,point in enumerate(points)}\n",
    "plt.plot([0]+list(raw.keys())+[2*pi],\n",
    "         [0]+list(raw.values())+[1], label='empirical')\n",
    "# theoretical\n",
    "x = np.linspace(0, 2*pi, num=2, endpoint=True)\n",
    "y = np.linspace(0, 1, num=2, endpoint=True)\n",
    "plt.plot(x, y, label='theoretical')\n",
    "plt.legend()\n",
    "plt.show()"
   ]
  },
  {
   "cell_type": "code",
   "execution_count": null,
   "metadata": {},
   "outputs": [],
   "source": []
  }
 ],
 "metadata": {
  "kernelspec": {
   "display_name": "Python 3",
   "language": "python",
   "name": "python3"
  },
  "language_info": {
   "codemirror_mode": {
    "name": "ipython",
    "version": 3
   },
   "file_extension": ".py",
   "mimetype": "text/x-python",
   "name": "python",
   "nbconvert_exporter": "python",
   "pygments_lexer": "ipython3",
   "version": "3.7.6"
  }
 },
 "nbformat": 4,
 "nbformat_minor": 4
}
