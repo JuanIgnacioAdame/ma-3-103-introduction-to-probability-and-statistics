{
 "cells": [
  {
   "cell_type": "markdown",
   "metadata": {},
   "source": [
    "### Problem"
   ]
  },
  {
   "cell_type": "markdown",
   "metadata": {},
   "source": [
    "There are $n$ balls numbered $1,\\dots,n$ and $n$ bins numbered $1,\\dots,n$. The balls are put into the bins at random, one per bin. For each $k=0,\\dots,n$, what is the probability that exactly $k$ balls are put in the matching bin? Explain your reasoning.\n",
    "(Hint: Let $E_i$ be the event that ball $i$ is in bin $i$. Use indicator functions.)"
   ]
  },
  {
   "cell_type": "markdown",
   "metadata": {},
   "source": [
    "### Solution"
   ]
  },
  {
   "cell_type": "markdown",
   "metadata": {},
   "source": [
    "Let us consider the event that the balls with indices $i_1,\\dots,i_k$ are put in matching bins, and the balls $i_{k+1},\\dots,i_{n}$ are not.  This event can be written as\n",
    "\\begin{equation}\n",
    "E_{i_1}\\cap\\dots\\cap E_{i_k}\\cap E^{c}_{i_{k+1}}\\cap\\dots\\cap E^{c}_{i_n}.\n",
    "\\end{equation}"
   ]
  },
  {
   "cell_type": "markdown",
   "metadata": {},
   "source": [
    "Using indicator functions, the probability of this even is given by\n",
    "\\begin{equation}\n",
    "P(E_{i_1}\\cap\\dots\\cap E_{i_k}\\cap E^{c}_{i_{k+1}}\\cap\\dots\\cap E^{c}_{i_n})=E[\\mathbb{1}_{E_{i_1}\\cap\\dots\\cap E_{i_k}\\cap E^{c}_{i_{k+1}}\\cap\\dots\\cap E^{c}_{i_n}}].\n",
    "\\end{equation}"
   ]
  },
  {
   "cell_type": "markdown",
   "metadata": {},
   "source": [
    "Using the correspondance between operations on sets and operations on indicator functions, we have that\n",
    "\\begin{equation}\n",
    "\\mathbb{1}_{E_{i_1}\\cap\\dots\\cap E_{i_k}\\cap E^{c}_{i_{k+1}}\\cap\\dots\\cap E^{c}_{i_n}}=\\prod_{j=1}^{k}\\mathbb{1}_{E_{i_j}}\\prod_{l=k+1}^{n}\\mathbb{1}_{E^c_{i_j}}.\n",
    "\\end{equation}"
   ]
  },
  {
   "cell_type": "markdown",
   "metadata": {},
   "source": [
    "Plugging this back into the equation above, we get\n",
    "\\begin{align}\n",
    "P(E_{i_1}\\cap\\dots\\cap E_{i_k}\\cap E^{c}_{i_{k+1}}\\cap\\dots\\cap E^{c}_{i_n})&=E\\left[\\prod_{j=1}^{k}\\mathbb{1}_{E_{i_j}}\\prod_{l=k+1}^{n}\\mathbb{1}_{E^c_{i_j}}\\right]\\\\\n",
    "\\frac{1}{n!}\\sum_{\\omega\\in\\Omega}\\prod_{j=1}^{k}\\mathbb{1}_{E_{i_j}}\\prod_{l=k+1}^{n}\\mathbb{1}_{E^c_{i_j}}.\n",
    "\\end{align}"
   ]
  },
  {
   "cell_type": "markdown",
   "metadata": {},
   "source": [
    "To compute that sum, note that each term in the sum is $1$ if and only if all of the factors in the product are equal to 1, and 0 otherwise.  Hence, we need to count the number of configurations $\\omega\\in\\Omega$ such that all of those factors are 1."
   ]
  },
  {
   "cell_type": "markdown",
   "metadata": {},
   "source": [
    "In order for the product $\\prod_{j=1}^{k}\\mathbb{1}_{E_{i_j}}$ to equal 1, each of the balls $i_1,\\dots i_k$ need to be placed in their matching.  In order for the product $\\prod_{l=k+1}^{n}\\mathbb{1}_{E^c_{i_j}}$ to equal 1, each of the balls $i_{k+1},\\dots i_{n}$ need to be placed in something *other* than their matching bin.  How many such configurations there?  This is precisely (i.e. by definition) the number of *derangements* of $|\\{k+1,\\dots,n\\}|=n-k$ elements.  For $m$ elements, the number of derangements is denoted $!m$, and is given by\n",
    "\\begin{equation}\n",
    "!m:=m!\\sum_{i=0}^m\\frac{(-1)^i}{i!}, \\quad m\\geq 0.\n",
    "\\end{equation}"
   ]
  },
  {
   "cell_type": "markdown",
   "metadata": {},
   "source": [
    "Thus,\n",
    "\\begin{equation}\n",
    "\\frac{1}{n!}\\sum_{\\omega\\in\\Omega}\\prod_{j=1}^{k}\\mathbb{1}_{E_{i_j}}\\prod_{l=k+1}^{n}\\mathbb{1}_{E^c_{i_j}}=\\frac{1}{n!}!(n-k),\n",
    "\\end{equation}\n",
    "and hence\n",
    "\\begin{equation}\n",
    "P(E_{i_1}\\cap\\dots\\cap E_{i_k}\\cap E^{c}_{i_{k+1}})=\\frac{1}{n!}!(n-k).\n",
    "\\end{equation}"
   ]
  },
  {
   "cell_type": "markdown",
   "metadata": {},
   "source": [
    "Finally, not that there are are ${n\\choose k}$ ways we could have chosen the indices $i_1,\\dots i_k$, and hence the probability of getting exactly $k$ balls in their matching bins is given by\n",
    "\\begin{equation}\n",
    "{n\\choose k}\\frac{1}{n!}!(n-k). \\square.\n",
    "\\end{equation}"
   ]
  },
  {
   "cell_type": "markdown",
   "metadata": {},
   "source": [
    "### Code"
   ]
  },
  {
   "cell_type": "code",
   "execution_count": 111,
   "metadata": {},
   "outputs": [],
   "source": [
    "import random"
   ]
  },
  {
   "cell_type": "code",
   "execution_count": 112,
   "metadata": {},
   "outputs": [],
   "source": [
    "from scipy.special import binom\n",
    "from math import factorial"
   ]
  },
  {
   "cell_type": "code",
   "execution_count": 113,
   "metadata": {},
   "outputs": [],
   "source": [
    "# define function to count number of derangements\n",
    "def countDer(n):\n",
    "    if n==0:\n",
    "        return 1\n",
    "    elif n==1:\n",
    "        return 0\n",
    "    else:\n",
    "        return (n - 1) * (countDer(n - 1) + countDer(n - 2))"
   ]
  },
  {
   "cell_type": "code",
   "execution_count": 121,
   "metadata": {},
   "outputs": [],
   "source": [
    "# number of experiments for empirical estimation\n",
    "num_experiments = int(1e06)\n",
    "# number of balls\n",
    "n = 7\n",
    "# stores counts for all possible values of k\n",
    "K = {i:0 for i in range(0,n+1)}\n",
    "for experiment in range(num_experiments):\n",
    "    # randomly place balls, 1 per bin\n",
    "    l = random.sample(list(range(1,n+1)),n)\n",
    "    # number of balls in matching bin\n",
    "    k = sum([(i+1)==l[i] for i in list(range(len(l)))])\n",
    "    # update probability\n",
    "    K[k]+=1/num_experiments"
   ]
  },
  {
   "cell_type": "code",
   "execution_count": 122,
   "metadata": {},
   "outputs": [
    {
     "name": "stdout",
     "output_type": "stream",
     "text": [
      "k = 0, p_empirical = 0.367423\n",
      "k = 0, p_theoretical = 0.367857\n",
      "\n",
      "\n",
      "k = 1, p_empirical = 0.368241\n",
      "k = 1, p_theoretical = 0.368056\n",
      "\n",
      "\n",
      "k = 2, p_empirical = 0.183865\n",
      "k = 2, p_theoretical = 0.183333\n",
      "\n",
      "\n",
      "k = 3, p_empirical = 0.062494\n",
      "k = 3, p_theoretical = 0.0625\n",
      "\n",
      "\n",
      "k = 4, p_empirical = 0.013727\n",
      "k = 4, p_theoretical = 0.013889\n",
      "\n",
      "\n",
      "k = 5, p_empirical = 0.004051\n",
      "k = 5, p_theoretical = 0.004167\n",
      "\n",
      "\n",
      "k = 6, p_empirical = 0\n",
      "k = 6, p_theoretical = 0.0\n",
      "\n",
      "\n",
      "k = 7, p_empirical = 0.000199\n",
      "k = 7, p_theoretical = 0.000198\n",
      "\n",
      "\n"
     ]
    }
   ],
   "source": [
    "for key, value in K.items():\n",
    "    # emprirically estimated value\n",
    "    print(\"k = {0}, p_empirical = {1}\".format(key, round(value,6)))\n",
    "    # theoretical value\n",
    "    p_th = binom(n,key)/factorial(n)*countDer(n-key)\n",
    "    print(\"k = {0}, p_theoretical = {1}\".format(key, round(p_th, 6)))\n",
    "    print(\"\\n\")"
   ]
  },
  {
   "cell_type": "code",
   "execution_count": null,
   "metadata": {},
   "outputs": [],
   "source": []
  }
 ],
 "metadata": {
  "kernelspec": {
   "display_name": "Python 3",
   "language": "python",
   "name": "python3"
  },
  "language_info": {
   "codemirror_mode": {
    "name": "ipython",
    "version": 3
   },
   "file_extension": ".py",
   "mimetype": "text/x-python",
   "name": "python",
   "nbconvert_exporter": "python",
   "pygments_lexer": "ipython3",
   "version": "3.7.6"
  }
 },
 "nbformat": 4,
 "nbformat_minor": 4
}
