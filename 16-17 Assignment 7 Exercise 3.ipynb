{
 "cells": [
  {
   "cell_type": "markdown",
   "metadata": {},
   "source": [
    "Creativity, as any number of studies have shown, is very much a province of the the young. Whether the focus is music, literature, science, or mathematics an individual’s best work seldom occurs late in life. Einstein, for example, made his most profound discoveries at the age of twenty-six; Newton, at the age of twenty-three. Robert Wood compiled the following list of twelve scientific breakthroughs dating from the middle of the sixteenth century to to the early years of the twentieth century. All represented high-water marks in the careers of the scientists involved."
   ]
  },
  {
   "cell_type": "markdown",
   "metadata": {},
   "source": [
    "### Exercise 3.1"
   ]
  },
  {
   "cell_type": "markdown",
   "metadata": {},
   "source": [
    "What are the sample average and standard deviation? What can be inferred from these data about the true age at which scientists do their best work? Answer the question by constructing a 95% confidence interval."
   ]
  },
  {
   "cell_type": "code",
   "execution_count": 2,
   "metadata": {},
   "outputs": [],
   "source": [
    "import numpy as np"
   ]
  },
  {
   "cell_type": "code",
   "execution_count": 4,
   "metadata": {},
   "outputs": [],
   "source": [
    "ages = np.array([40, 34, 23, 40, 31, 33, 49, 33, 34, 43, 26, 39])"
   ]
  },
  {
   "cell_type": "code",
   "execution_count": 18,
   "metadata": {},
   "outputs": [
    {
     "name": "stdout",
     "output_type": "stream",
     "text": [
      "Sample average = 35.42\n",
      "Sample standard deviation = 6.92\n",
      "7.23\n",
      "3.4641016151377544\n"
     ]
    }
   ],
   "source": [
    "u = np.mean(ages)\n",
    "print(\"Sample average = {0}\".format(np.round(u,2)))\n",
    "s = np.std(ages)\n",
    "print(\"Sample standard deviation = {0}\".format(np.round(s,2)))\n",
    "# unbiased estimate S\n",
    "S = s*np.sqrt(len(ages))/np.sqrt(len(ages)-1)\n",
    "print(np.round(S,2))\n",
    "print(np.sqrt(len(x)))"
   ]
  },
  {
   "cell_type": "markdown",
   "metadata": {},
   "source": [
    "From Theorem 21.9.1 of Lecture 21, we know that\n",
    "\\begin{equation}\n",
    "T_{n-1}=\\frac{\\bar{X}-\\mu}{S/\\sqrt{n}}\n",
    "\\end{equation}\n",
    "has a Student-$t$ distribution with $n-1$ degrees of freedom.  We also know that a $1-\\alpha$ confidence interval is given by\n",
    "\\begin{equation}\n",
    "\\left(\\bar{x}-t_{\\alpha/2,n-1}s/\\sqrt{n}, \\bar{x}+t_{\\alpha/2,n-1}s/\\sqrt{n}\\right)\n",
    "\\end{equation}\n",
    "is a $1-\\alpha$ confidence interval."
   ]
  },
  {
   "cell_type": "markdown",
   "metadata": {},
   "source": [
    "In our case,\n",
    "\\begin{align}\n",
    "\\bar{x}=35.42,\\\\\n",
    "s=7.23,\\\\\n",
    "\\sqrt{n}=\\sqrt{12}\\approx3.46,\\\\\n",
    "t_{0.25,11}\\approx2.21,\n",
    "\\end{align}\n",
    "where the value of $t_{0.25,11}$ was approximated from those provided in Lecture 21.  Plugging all of this in, we obtain the $95\\%$ confidence interval of\n",
    "\\begin{equation}\n",
    "(30.80, 40.03). \\square\n",
    "\\end{equation}"
   ]
  },
  {
   "cell_type": "markdown",
   "metadata": {},
   "source": [
    "### Exercise 3.2"
   ]
  },
  {
   "cell_type": "code",
   "execution_count": 8,
   "metadata": {},
   "outputs": [],
   "source": [
    "from matplotlib import pyplot as plt"
   ]
  },
  {
   "cell_type": "code",
   "execution_count": 9,
   "metadata": {},
   "outputs": [],
   "source": [
    "y = list(ages)\n",
    "x = [1543, 1600, 1665, 1746, 1774, 1839, 1858, 1864, 1896, 1901, 1905, 1926]"
   ]
  },
  {
   "cell_type": "code",
   "execution_count": 12,
   "metadata": {},
   "outputs": [
    {
     "data": {
      "image/png": "[encoded data removed]",
      "text/plain": [
       "<Figure size 432x288 with 1 Axes>"
      ]
     },
     "metadata": {
      "needs_background": "light"
     },
     "output_type": "display_data"
    }
   ],
   "source": [
    "# clear plot\n",
    "plt.clf()\n",
    "\n",
    "# y axis\n",
    "y_min=min(y)\n",
    "y_max=max(y)\n",
    "plt.ylim(bottom=y_min,top=y_max)\n",
    "#plt.yscale('log')\n",
    "plt.ylabel('Age', fontsize=12)\n",
    "\n",
    "#x axis\n",
    "x_min=min(x)\n",
    "x_max=max(x)\n",
    "plt.xlabel(\"Yera\", fontsize=12)\n",
    "#plt.xscale('log', basex=10)\n",
    "plt.xlim(left=x_min, right=x_max)\n",
    "plt.plot(x,y)\n",
    "plt.show()"
   ]
  },
  {
   "cell_type": "markdown",
   "metadata": {},
   "source": [
    "The ages do appear to behave randomly across time.  See plot above. $\\square$"
   ]
  },
  {
   "cell_type": "markdown",
   "metadata": {},
   "source": [
    "### Exercise 3.3"
   ]
  },
  {
   "cell_type": "markdown",
   "metadata": {},
   "source": [
    "Give a good reason for questioning how much light these data shed on the age of greatest scientific creativity. Hint: How do you think the sample was constructed? How would you have picked your sample?"
   ]
  },
  {
   "cell_type": "markdown",
   "metadata": {},
   "source": [
    "These data probably don't shed too much light on the age of greatest scientific creativity.  For starters, there simply isn't enough data.  Second, the sample was probably constructed *after* the great*est* discoveries were made, and then those were chosen *not* at random, but rather by using the very fact that great discoveries had been made.  A better way of constructing the sample would have been to choose scientists at random, and then attempt to measure when each those created their greatest discoveries. $\\square$"
   ]
  },
  {
   "cell_type": "code",
   "execution_count": null,
   "metadata": {},
   "outputs": [],
   "source": []
  }
 ],
 "metadata": {
  "kernelspec": {
   "display_name": "Python 3",
   "language": "python",
   "name": "python3"
  },
  "language_info": {
   "codemirror_mode": {
    "name": "ipython",
    "version": 3
   },
   "file_extension": ".py",
   "mimetype": "text/x-python",
   "name": "python",
   "nbconvert_exporter": "python",
   "pygments_lexer": "ipython3",
   "version": "3.7.6"
  }
 },
 "nbformat": 4,
 "nbformat_minor": 4
}
