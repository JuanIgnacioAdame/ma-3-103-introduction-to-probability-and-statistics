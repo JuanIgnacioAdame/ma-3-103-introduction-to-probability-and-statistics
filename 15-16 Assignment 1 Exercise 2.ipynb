{
 "cells": [
  {
   "cell_type": "markdown",
   "metadata": {},
   "source": [
    "Introductory probability courses often assume that a deck of cards is “well-shuffled.” Usually that means that you should assume that all orderings of the cards are equally likely. For a $52$-card deck there are $52!$ orderings. This number is about $8\\times10^{67}$."
   ]
  },
  {
   "cell_type": "markdown",
   "metadata": {},
   "source": [
    "### Exercise 2.1"
   ]
  },
  {
   "cell_type": "markdown",
   "metadata": {},
   "source": [
    "If every person on the planet were set to work arranging a deck in a given order, and could do so in one second, about how many lifetimes of the universe would it take humanity to achieve all possible orderings? (Get within a few orders of magnitude, don’t worry too much about the age of the universe or the population of the earth.)"
   ]
  },
  {
   "cell_type": "markdown",
   "metadata": {},
   "source": [
    "$8\\times10^{67}/(4.3\\times10^{17})=1.86\\times10^{50}$ universe ages. $\\square$"
   ]
  },
  {
   "cell_type": "markdown",
   "metadata": {},
   "source": [
    "### Exercise 2.2"
   ]
  },
  {
   "cell_type": "markdown",
   "metadata": {},
   "source": [
    "In contract bridge, all 52 cards are dealt out to four players, so each has a “hand” of 13 cards. The order in which a player receives his or her cards is irrelevant. How many distinct hands are there for the first player? Give both the formula, and its evaluation."
   ]
  },
  {
   "cell_type": "markdown",
   "metadata": {},
   "source": [
    "There are $52\\times51\\times\\dots\\times(52-11)\\times(52-12)=52!/(52-13)!$ *lists* of length 13.  However, the order of the cards is irrelevant, so we would be double counting if we stopped here.  Note that for each *list* of length 13 there exists $13!$ permutations, so the final answer is $(52!/(52-13)!)/13!\\approx6.35\\times10^{11}$. $\\square$"
   ]
  },
  {
   "cell_type": "markdown",
   "metadata": {},
   "source": [
    "### Exercise 2.3"
   ]
  },
  {
   "cell_type": "markdown",
   "metadata": {},
   "source": [
    "In contract bridge, it does matter who gets which hand. For instance, if player 1 gets 13 spades and player 2 gets 13 clubs, the outcome will likely be different than if the hands are interchanged. How many distinct “deals” are there for contract bridge? (Two deals are the same if player $i$ has the same set of cards, $i = 1,...,4$.) Give both the formula, and its evaluation."
   ]
  },
  {
   "cell_type": "markdown",
   "metadata": {},
   "source": [
    "The answer is ${52\\choose 13}\\times{39\\choose 13}\\times{26\\choose 13}\\times{13\\choose 13}\\approx5.36 × 10^{28}$. $\\square$"
   ]
  },
  {
   "cell_type": "code",
   "execution_count": null,
   "metadata": {},
   "outputs": [],
   "source": []
  }
 ],
 "metadata": {
  "kernelspec": {
   "display_name": "Python 3",
   "language": "python",
   "name": "python3"
  },
  "language_info": {
   "codemirror_mode": {
    "name": "ipython",
    "version": 3
   },
   "file_extension": ".py",
   "mimetype": "text/x-python",
   "name": "python",
   "nbconvert_exporter": "python",
   "pygments_lexer": "ipython3",
   "version": "3.7.6"
  }
 },
 "nbformat": 4,
 "nbformat_minor": 4
}
