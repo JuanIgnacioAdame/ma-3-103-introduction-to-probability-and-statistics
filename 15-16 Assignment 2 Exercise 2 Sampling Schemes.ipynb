{
 "cells": [
  {
   "cell_type": "markdown",
   "metadata": {},
   "source": [
    "# Exercise 2 (Sampling Schemes)"
   ]
  },
  {
   "cell_type": "markdown",
   "metadata": {},
   "source": [
    "A child is selected at random from a group of children. What is the probability that\n",
    "it is the first born in its family? For simplicity, we will only consider families that have\n",
    " children. (Who is the firstborn in a childless family?) (Note that even with multiple births, e.g., twins, one will be born before the others.)\n",
    "The answer depends on the sampling scheme. Consider the two following schemes:"
   ]
  },
  {
   "cell_type": "markdown",
   "metadata": {},
   "source": [
    "1. There is an urn for each family, which contains all the children in that family. A family is selected at random, and then a child is selected randomly from the family urn."
   ]
  },
  {
   "cell_type": "markdown",
   "metadata": {},
   "source": [
    "Let $N$ be the number of families, and $s_i$ the size of family $i$.\n",
    "\\begin{align}\n",
    "p_1=\\sum_{i=1}^{N}\\mathbb{P}(\\text{family $i$ is selected})\\times \\frac{1}{s_i}\\\\\n",
    "=\\sum_{i=1}^{N}\\frac{1}{N}\\times \\frac{1}{s_i}\\\\\n",
    "=\\frac{1}{N}\\sum_{i=1}^{N}\\frac{1}{s_i}. \\square\n",
    "\\end{align}"
   ]
  },
  {
   "cell_type": "markdown",
   "metadata": {},
   "source": [
    "2. All the children are put into one urn, and a child is selected at random.\n",
    "One of these schemes always yields a greater probability of finding a firstborn child than the other, with equality only if all families are the same size. Which one? Prove it."
   ]
  },
  {
   "cell_type": "markdown",
   "metadata": {},
   "source": [
    "Note that there is a 1-to-1 correspondence between the set of families and the set of first-borns.  Letting $S:=\\sum_{i=1}^{N}s_i$ equal the total number of children, we arrive at the simple expression\n",
    "\\begin{equation}\n",
    "p_2=\\frac{N}{S}. \\square\n",
    "\\end{equation}"
   ]
  },
  {
   "cell_type": "code",
   "execution_count": 149,
   "metadata": {},
   "outputs": [],
   "source": [
    "import random"
   ]
  },
  {
   "cell_type": "code",
   "execution_count": 242,
   "metadata": {},
   "outputs": [],
   "source": [
    "# empirical check\n",
    "num_families = 10\n",
    "max_family_size = 2\n",
    "families = {i+1:list(range(1,random.randint(1,max_family_size)+1)) for i in range(num_families)}\n",
    "#print(families)\n",
    "#print([1./len(value) for value in families.values()])"
   ]
  },
  {
   "cell_type": "code",
   "execution_count": 243,
   "metadata": {},
   "outputs": [
    {
     "name": "stdout",
     "output_type": "stream",
     "text": [
      "Empirical result = 0.8001\n",
      "Theoretical result = 0.8\n"
     ]
    }
   ],
   "source": [
    "num_experiments = 10000\n",
    "# scheme 1\n",
    "counter = 0\n",
    "for experiment in range(num_experiments):\n",
    "    # choose family first\n",
    "    family_index = random.randint(1,num_families)\n",
    "    # probability that child is first born is 1/family_size\n",
    "    counter += int(random.choice(families[family_index])==1)\n",
    "empirical_p = counter/num_experiments\n",
    "print(\"Empirical result = {0}\".format(empirical_p))\n",
    "theoretical_p = (1/num_families)*sum([1./len(value) for value in families.values()])\n",
    "print(\"Theoretical result = {0}\".format(theoretical_p))"
   ]
  },
  {
   "cell_type": "code",
   "execution_count": 244,
   "metadata": {},
   "outputs": [
    {
     "name": "stdout",
     "output_type": "stream",
     "text": [
      "Empirical result = 0.7149\n",
      "Theoretical result = 0.7142857142857143\n"
     ]
    }
   ],
   "source": [
    "# scheme 2\n",
    "child_labels = [label for value in families.values() for label in value]\n",
    "num_experiments = 10000\n",
    "# scheme 1\n",
    "counter = 0\n",
    "for experiment in range(num_experiments):\n",
    "    # sample child from single urn with all children\n",
    "    counter += int(random.choice(child_labels)==1)\n",
    "empirical_p = counter/num_experiments\n",
    "print(\"Empirical result = {0}\".format(empirical_p))\n",
    "theoretical_p = num_families/len(child_labels)\n",
    "print(\"Theoretical result = {0}\".format(theoretical_p))"
   ]
  },
  {
   "cell_type": "markdown",
   "metadata": {},
   "source": [
    "The empirically and theoretically derived results above suggest that scheme 1 always leads to a greater probability, i.e. $p_1\\geq p_2$  Let's prove this.\n",
    "\\begin{align}\n",
    "\\frac{p_1}{p_2}&=\\frac{\\frac{1}{N}\\sum_{i=1}^{N}\\frac{1}{s_i}}{\\frac{N}{S}}\\\\\n",
    "&=\\frac{S\\sum_{i=1}^{N}\\frac{1}{s_i}}{N^{2}}.\n",
    "\\end{align}"
   ]
  },
  {
   "cell_type": "markdown",
   "metadata": {},
   "source": [
    "Our aim now is to show $S\\sum_{i=1}^{N}\\frac{1}{s_i}\\geq N^2$.\n",
    "\\begin{align}\n",
    "S\\sum_{i=1}^{N}\\frac{1}{s_i}&=\\sum_{i=1}^{N}s_i\\sum_{j=1}^{N}\\frac{1}{s_j}\\\\\n",
    "&=\\sum_{i=1}^{N}\\sum_{j=1}^{N}\\frac{s_i}{s_j}\\\\\n",
    "&=\\sum_{i\\neq j}\\frac{s_i}{s_j}+\\sum_{i=j}\\frac{s_i}{s_j}\\\\\n",
    "&=\\sum_{i\\neq j}\\frac{s_i}{s_j}+N.\n",
    "\\end{align}"
   ]
  },
  {
   "cell_type": "markdown",
   "metadata": {},
   "source": [
    "Our goal now is to calculate $\\sum_{i\\neq j}\\frac{s_i}{s_j}$.\n",
    "\\begin{align}\n",
    "\\sum_{i\\neq j}\\frac{s_i}{s_j}&=\\sum_{i>j}\\frac{s_i}{s_j}+\\frac{s_j}{s_i}\\\\\n",
    "&=\\sum_{i>j}\\frac{s_is_i}{s_js_i}+\\frac{s_js_j}{s_is_j}\\\\\n",
    "&=\\sum_{i>j}\\frac{s_i^2+s_j^2}{s_js_i}.\n",
    "\\end{align}"
   ]
  },
  {
   "cell_type": "markdown",
   "metadata": {},
   "source": [
    "Observe from the the following simple calculation that $0\\leq (s_i-s_j)^2=s_i^2+s_j^2-2s_is_j\\Rightarrow s_i^2+s_j^2\\geq 2s_is_j$, and hence we obtain a bound for the expression above\n",
    "\\begin{align}\n",
    "\\sum_{i>j}\\frac{s_i^2+s_j^2}{s_js_i}&\\geq \\sum_{i>j}\\frac{2s_is_j}{s_js_i}\\\\\n",
    "&=\\sum_{i>j}2\\\\\n",
    "&=2\\left(\\frac{N^2-N}{2}\\right)\\\\\n",
    "&=N^2-N.\n",
    "\\end{align}"
   ]
  },
  {
   "cell_type": "markdown",
   "metadata": {},
   "source": [
    "Putting it all together, we finally get\n",
    "\\begin{align}\n",
    "\\frac{p_1}{p_2}=\\frac{\\overbrace{S\\sum_{i=1}^{N}\\frac{1}{s_i}}^{\\geq N^2-N+N}}{N^2}\\geq1.\n",
    "\\end{align}"
   ]
  },
  {
   "cell_type": "markdown",
   "metadata": {},
   "source": [
    "Note that equality is achieved when $s_i\\equiv s$.  In that case, $S=sN$, and $\\sum_{i=1}^{N}\\frac{1}{s_i}=\\frac{N}{s}$, in which case the above expression yields\n",
    "\\begin{align}\n",
    "\\frac{p_1}{p_2}=\\frac{Ns\\times\\frac{N}{s}}{N^2}=1.\\square\n",
    "\\end{align}"
   ]
  }
 ],
 "metadata": {
  "kernelspec": {
   "display_name": "Python 3",
   "language": "python",
   "name": "python3"
  },
  "language_info": {
   "codemirror_mode": {
    "name": "ipython",
    "version": 3
   },
   "file_extension": ".py",
   "mimetype": "text/x-python",
   "name": "python",
   "nbconvert_exporter": "python",
   "pygments_lexer": "ipython3",
   "version": "3.7.6"
  }
 },
 "nbformat": 4,
 "nbformat_minor": 4
}
