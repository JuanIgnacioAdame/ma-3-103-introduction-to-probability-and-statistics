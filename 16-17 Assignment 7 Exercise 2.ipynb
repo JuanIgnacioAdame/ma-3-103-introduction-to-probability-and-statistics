{
 "cells": [
  {
   "cell_type": "markdown",
   "metadata": {},
   "source": [
    "I love hardware stores. One of the things you can now find at a decent hardware store\n",
    "is a laser “tape measure.” It is battery powered and has digital readout of the length. The length is measured with an error $e$ that has mean zero and small variance $\\sigma^2$. You have two boards, of lengths $A$ and $B$, where $A$ is obviously greater than $B$. You may make two measurements before the battery in your laser tape measure dies. Errors on different measurements are stochastically independent.\n",
    "You could (i) measure each board separately. Or you could (ii) align the boards on one end and measure the difference $A − B$ of their lengths and then put them end-to-end and measure the sum $A + B$ of their lengths."
   ]
  },
  {
   "cell_type": "markdown",
   "metadata": {},
   "source": [
    "### Exercise 2.1"
   ]
  },
  {
   "cell_type": "markdown",
   "metadata": {},
   "source": [
    "In case (i), what is the variance of the measurement of $A$?  What is the variance of the measurement of $B$?"
   ]
  },
  {
   "cell_type": "markdown",
   "metadata": {},
   "source": [
    "$\\mathrm{Var}(A)=\\sigma^2$, and $\\mathrm{Var}(B)=\\sigma^2$. $\\square$"
   ]
  },
  {
   "cell_type": "markdown",
   "metadata": {},
   "source": [
    "### Exercise 2.2"
   ]
  },
  {
   "cell_type": "markdown",
   "metadata": {},
   "source": [
    "In case (ii), let $D$ be the measurement of the difference in lengths $A − B$, and let S be the measurement of the sum of lengths $A + B$. Then an estimate of the length of $A$ is a = $(S + D)/2$, and an estimate of the length of $B$ is $b = (S − D)/2$. What is the variance of the measurement of $a$? What is the variance of the measurement of $b$?"
   ]
  },
  {
   "cell_type": "markdown",
   "metadata": {},
   "source": [
    "In this case, $\\mathrm{Var}(A)=\\mathrm{Var}\\left(\\frac{S+D}{2}\\right)=\\left(\\frac{1}{2}\\right)^2\\mathrm{Var}(S+D)=\\frac{1}{4}(\\mathrm{Var}(S)+\\mathrm{Var}(D))=\\frac{1}{4}(\\sigma^2+\\sigma^2)=\\frac{1}{2}\\sigma^2$.  Nearly the same calculations hold for $B$.  Hence, in case (ii) we have $\\mathrm{Var}(A)=\\sigma^2/2$, and $\\mathrm{Var}(B)=\\sigma^2/2$. $\\square$"
   ]
  },
  {
   "cell_type": "markdown",
   "metadata": {},
   "source": [
    "### Exercise 2.3"
   ]
  },
  {
   "cell_type": "markdown",
   "metadata": {},
   "source": [
    "What is the better method for ascertaining the lengths?"
   ]
  },
  {
   "cell_type": "markdown",
   "metadata": {},
   "source": [
    "The second method results in a smaller variance, and hence the second method is a better method for ascertaining the lengths. $\\square$"
   ]
  },
  {
   "cell_type": "code",
   "execution_count": null,
   "metadata": {},
   "outputs": [],
   "source": []
  }
 ],
 "metadata": {
  "kernelspec": {
   "display_name": "Python 3",
   "language": "python",
   "name": "python3"
  },
  "language_info": {
   "codemirror_mode": {
    "name": "ipython",
    "version": 3
   },
   "file_extension": ".py",
   "mimetype": "text/x-python",
   "name": "python",
   "nbconvert_exporter": "python",
   "pygments_lexer": "ipython3",
   "version": "3.7.6"
  }
 },
 "nbformat": 4,
 "nbformat_minor": 4
}
