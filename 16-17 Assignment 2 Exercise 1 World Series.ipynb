{
 "cells": [
  {
   "cell_type": "markdown",
   "metadata": {},
   "source": [
    "# Exercise 1 (The World Series) "
   ]
  },
  {
   "cell_type": "markdown",
   "metadata": {},
   "source": [
    "The “World Series” is a tournament between the champion of the USA’s National League and American League to decide the U.S. Major League Baseball champion. At present, it is won by the first team to win four games out of a possible seven. Since baseball games do not end in ties, at most seven games are ever played."
   ]
  },
  {
   "cell_type": "markdown",
   "metadata": {},
   "source": [
    "It is often said that “baseball is a game of inches.” This means that small changes in the physical outcomes of a given play can lead to loss or victory. It also means that the outcome of a game between two teams is effectively random. Let us say that if the probability p that Team A beats Team B is strictly greater than 1/2, then Team A is better than Team B. Note that it is possible (with probability 1 − p) for the better team to lose a game. Frederick Mosteller estimated (based on data from 44 Series from the first half of the 20th century) that the probability that the better team wins any given World Series game is 0.65 and that the outcomes of the games are stochastically independent. A few years ago I redid his calculation for all 108 Series through 2012 and came up with 0.59. (You will have a chance to figure this out later in the course with data through the 2016 Series.)"
   ]
  },
  {
   "cell_type": "markdown",
   "metadata": {},
   "source": [
    "Let p be the probability that Team A wins any given game. Assume that it is the same for every game, and that the outcomes of the game are stochastically independent. The probability that Team B wins is thus 1 − p."
   ]
  },
  {
   "cell_type": "markdown",
   "metadata": {},
   "source": [
    "We can describe the general rule to determine the winner in two ways. Either the winner is first team to win m games, or as the team that wins the most out of 2m − 1 games. In practice, the series is over as soon as one team wins m games."
   ]
  },
  {
   "cell_type": "markdown",
   "metadata": {},
   "source": [
    "#### Exercise 1.1"
   ]
  },
  {
   "cell_type": "markdown",
   "metadata": {},
   "source": [
    "1. What is the probability that Team A wins the series in exactly m games? (Give the formula, and explain it.)"
   ]
  },
  {
   "cell_type": "markdown",
   "metadata": {},
   "source": [
    "The only way Team A can win the series in exactly $m$ games is if it wins the first $m$ games.  This happens with probability $p^m$. $\\square$"
   ]
  },
  {
   "cell_type": "code",
   "execution_count": 1,
   "metadata": {},
   "outputs": [],
   "source": [
    "import numpy as np"
   ]
  },
  {
   "cell_type": "code",
   "execution_count": 75,
   "metadata": {},
   "outputs": [
    {
     "name": "stdout",
     "output_type": "stream",
     "text": [
      "Empirical result = 0.208\n",
      "Theoretical result = 0.21599999999999997\n"
     ]
    }
   ],
   "source": [
    "# empirical check\n",
    "m = 3\n",
    "p = 0.6\n",
    "num_experiments = 1000\n",
    "data = np.random.binomial(m, p, size=num_experiments)\n",
    "print(\"Empirical result = {0}\".format(np.count_nonzero(data == m)/num_experiments))\n",
    "print(\"Theoretical result = {0}\".format(p**m))"
   ]
  },
  {
   "cell_type": "markdown",
   "metadata": {},
   "source": [
    "#### Exercise 1.2"
   ]
  },
  {
   "cell_type": "markdown",
   "metadata": {},
   "source": [
    "2. What is the probability that Team B wins the series in exactly m games?"
   ]
  },
  {
   "cell_type": "markdown",
   "metadata": {},
   "source": [
    "Similarly, the only way Team B can win the series in exactly $m$ games is if it wins the first $m$ games.  This happens with probability $(1-p)^m$. $\\square$"
   ]
  },
  {
   "cell_type": "code",
   "execution_count": 74,
   "metadata": {},
   "outputs": [
    {
     "name": "stdout",
     "output_type": "stream",
     "text": [
      "Empirical result = 0.067\n",
      "Theoretical result = 0.06400000000000002\n"
     ]
    }
   ],
   "source": [
    "# empirical check\n",
    "m = 3\n",
    "p = 0.6\n",
    "num_experiments = 1000\n",
    "data = np.random.binomial(m, (1-p), size=num_experiments)\n",
    "print(\"Empirical result = {0}\".format(np.count_nonzero(data == m)/num_experiments))\n",
    "print(\"Theoretical result = {0}\".format((1-p)**m))"
   ]
  },
  {
   "cell_type": "markdown",
   "metadata": {},
   "source": [
    "#### Exercise 1.3"
   ]
  },
  {
   "cell_type": "markdown",
   "metadata": {},
   "source": [
    "3. What is the probability that the series is over in exactly m games?"
   ]
  },
  {
   "cell_type": "markdown",
   "metadata": {},
   "source": [
    "There are only two ways the series is over in exactly $m$ games.  Either Team A wins the first $m$ games, or Team B wins the first $m$ games.  This happens with probability $p^m+(1-p)^m$.$\\square$"
   ]
  },
  {
   "cell_type": "code",
   "execution_count": 50,
   "metadata": {},
   "outputs": [
    {
     "name": "stdout",
     "output_type": "stream",
     "text": [
      "Empirical result = 0.262\n",
      "Theoretical result = 0.27999999999999997\n"
     ]
    }
   ],
   "source": [
    "# empirical check\n",
    "m = 3\n",
    "p = 0.6\n",
    "num_experiments = 1000\n",
    "data = np.random.binomial(m, p, size=num_experiments)\n",
    "print(\"Empirical result = {0}\".format(np.count_nonzero(data == m)/num_experiments+\n",
    "                                      np.count_nonzero(data == 0)/num_experiments))\n",
    "print(\"Theoretical result = {0}\".format(p**m + (1-p)**m))"
   ]
  },
  {
   "cell_type": "markdown",
   "metadata": {},
   "source": [
    "#### Exercise 1.4"
   ]
  },
  {
   "cell_type": "markdown",
   "metadata": {},
   "source": [
    "4. What is the probability that Team A wins in exactly m + 1 games?"
   ]
  },
  {
   "cell_type": "markdown",
   "metadata": {},
   "source": [
    "This happens whenver Team A loses one of the first $m$ games, and wins the remainder of the first $m+1$ games.  Each such outcome has probability $p^m(1-p)$, and there are $m$ different ways this can happen (Team A loses game $i, i\\in\\{1,\\dots,m\\}$).  Hence, the probability Team A wins in exactly in $m+1$ games is given by $mp^m(1-p)$. $\\square$"
   ]
  },
  {
   "cell_type": "code",
   "execution_count": 73,
   "metadata": {},
   "outputs": [
    {
     "name": "stdout",
     "output_type": "stream",
     "text": [
      "Empirical result = 0.2648\n",
      "Theoretical result = 0.2592\n"
     ]
    }
   ],
   "source": [
    "# empirical check\n",
    "m = 3\n",
    "p = 0.6\n",
    "num_experiments = 10000\n",
    "# outcomes of first m games\n",
    "first_m = np.random.binomial(m, p, size=num_experiments)\n",
    "# outcome of m+1-th game\n",
    "mPlus1 = np.random.binomial(1, p, size=num_experiments)\n",
    "# series is over precisely when there are m-1 successes in the first m games,\n",
    "# and the mth game is a success\n",
    "results = [int(first_m[i]==m-1 and mPlus1[i]==1) for i in range(num_experiments)]\n",
    "print(\"Empirical result = {0}\".format(sum(results)/num_experiments))\n",
    "print(\"Theoretical result = {0}\".format(m*(p**m)*(1-p)))"
   ]
  },
  {
   "cell_type": "markdown",
   "metadata": {},
   "source": [
    "#### Exercise 1.5"
   ]
  },
  {
   "cell_type": "markdown",
   "metadata": {},
   "source": [
    "5. What is the probability that the series lasts exactly 2m − 1 games?"
   ]
  },
  {
   "cell_type": "markdown",
   "metadata": {},
   "source": [
    "In order for the series to last exactly $2m-1$ games, both teams must win exactly $m-1$ games in the fist $2(m-1)$ games.  Each such outcome has probability $p^{m-1}(1-p)^{m-1}$.  There are ${2(m-1)\\choose m-1}$ distinct ways such an outcome could occur.  Hence, the probability is ${2(m-1)\\choose m-1}p^{m-1}(1-p)^{m-1}$. $\\square$"
   ]
  },
  {
   "cell_type": "code",
   "execution_count": null,
   "metadata": {},
   "outputs": [],
   "source": [
    "import scipy.special"
   ]
  },
  {
   "cell_type": "code",
   "execution_count": 110,
   "metadata": {},
   "outputs": [
    {
     "name": "stdout",
     "output_type": "stream",
     "text": [
      "Empirical result = 0.3141\n",
      "Theoretical result = 0.3125\n"
     ]
    }
   ],
   "source": [
    "# empirical check\n",
    "m = 4\n",
    "p = 0.5\n",
    "num_experiments = 10000\n",
    "counter = 0\n",
    "# run experiments\n",
    "for experiment in range(num_experiments):\n",
    "    # store first 2*(m-1) games\n",
    "    data = []\n",
    "    for game in range(2*(m-1)):\n",
    "        outcome = np.random.binomial(1, p, size=1)[0]\n",
    "        data.append(outcome)\n",
    "    # sum(data)==m-1 if and only if series ends in 2m-1 games\n",
    "    if sum(data)==m-1:\n",
    "        counter+=1\n",
    "print(\"Empirical result = {0}\".format(counter/num_experiments))\n",
    "print(\"Theoretical result = {0}\".format(scipy.special.binom(2*(m-1), m-1)*p**(m-1)*(1-p)**(m-1)))"
   ]
  },
  {
   "cell_type": "markdown",
   "metadata": {},
   "source": [
    "#### Exercise 1.6"
   ]
  },
  {
   "cell_type": "markdown",
   "metadata": {},
   "source": [
    "What is the probability that Team A wins the series by being the first team to win m games?"
   ]
  },
  {
   "cell_type": "markdown",
   "metadata": {},
   "source": [
    "Team A wins the series by being the first team to win $m$ games precisely when:\n",
    "\n",
    "$0$) There are $m+0$ games total.  Team A wins the first $m$ games.\n",
    "\n",
    "$1$)  There are $m+1$ games total.  Team A wins $m$ of these games, with one of those games necessarily being the last (i.e. $m+1$-th) game.  Note that if this were not the case, then the series would have ended earlier.\n",
    "\n",
    "\\vdots\n",
    "\n",
    "$m-1$) There are $m+m-1=2m-1$ games total.  Team A wins $m$ of these games, with one of those games necessarily being the last (i.e. $2m-1$-th) game.  Again, note that if this were not the case, then the series would have ended earlier."
   ]
  },
  {
   "cell_type": "markdown",
   "metadata": {},
   "source": [
    "For each case (i) above, the probability that such an outcome occurs is $p^m(1-p)^i$, and there are ${m+i-1\\choose i}$ (i.e. \"we have to distribute $i$ losses among the first $m+i-1$ games)  such ways for that outcome to occur.  Hence, the probability is\n",
    "\\begin{equation}\n",
    "\\sum_{i=0}^{m-1}{m+i-1\\choose i}p^m(1-p)^i.\\square\n",
    "\\end{equation}"
   ]
  },
  {
   "cell_type": "code",
   "execution_count": 143,
   "metadata": {},
   "outputs": [
    {
     "name": "stdout",
     "output_type": "stream",
     "text": [
      "Empirical result = 0.1295\n",
      "Theoretical result = 0.1296\n",
      "Empirical result = 0.2065\n",
      "Theoretical result = 0.20736\n",
      "Empirical result = 0.2041\n",
      "Theoretical result = 0.20736000000000002\n",
      "Empirical result = 0.1657\n",
      "Theoretical result = 0.165888\n"
     ]
    }
   ],
   "source": [
    "# empirical check\n",
    "# probability Team A wins\n",
    "p = 0.6\n",
    "# first to m games\n",
    "m = 4\n",
    "# case, integer in {0,1,...,m-2,m-1}\n",
    "for case in range(0, m-1+1):\n",
    "    # total games = m+case\n",
    "    total_games = m + case\n",
    "    # start experiments\n",
    "    num_experiments = 10000\n",
    "    counter = 0\n",
    "    # run experiments\n",
    "    for experiment in range(num_experiments):\n",
    "        # store first 2*(m-1) games\n",
    "        data = []\n",
    "        for game in range(total_games):\n",
    "            outcome = np.random.binomial(1, p, size=1)[0]\n",
    "            data.append(outcome)\n",
    "        # sum(data)==m-1 if and only if series ends in 2m-1 games\n",
    "        if data[-1]==1 and sum(data[:-1])==m-1:\n",
    "            counter+=1\n",
    "    print(\"Empirical result = {0}\".format(counter/num_experiments))\n",
    "    theoretical_p = scipy.special.binom(m+case-1, case)*p**m*(1-p)**case\n",
    "    print(\"Theoretical result = {0}\".format(theoretical_p))"
   ]
  },
  {
   "cell_type": "markdown",
   "metadata": {},
   "source": [
    "#### Exercise 1.7"
   ]
  },
  {
   "cell_type": "markdown",
   "metadata": {},
   "source": [
    "Suppose the rule was that the teams had to play all $2m−1$ games. What is the probability that Team A wins the series? What interesting algebraic fact does this prove?"
   ]
  },
  {
   "cell_type": "markdown",
   "metadata": {},
   "source": [
    "Team A wins the series precisely if \n",
    "\n",
    "$0$) Team A wins $m+0$ games.\n",
    "\n",
    "$1$)  Team A wins $m+1$ games total.\n",
    "\n",
    "\\vdots\n",
    "\n",
    "$m-1$) Team A wins $m+m-1=2m-1$ games."
   ]
  },
  {
   "cell_type": "markdown",
   "metadata": {},
   "source": [
    "For each case $i$ above, the outcome occurs with probability $p^{m+i}(1-p)^{2m-1-m-i}=p^{m+i}(1-p)^{m-1-i}$.  There are ${2m-1\\choose m+i}$ ways for this to occur (i.e., we have to distribute $m+i$ victories across $2m-1$ total games).  Hence, the probability is given by\n",
    "\\begin{equation}\n",
    "\\sum_{i=0}^{m-1} {2m-1\\choose m+i}p^{m+i}(1-p)^{m-1-i}.\n",
    "\\end{equation}\n",
    "This is the same probability we obtained in the previous exercise. $\\square$"
   ]
  },
  {
   "cell_type": "code",
   "execution_count": null,
   "metadata": {},
   "outputs": [],
   "source": [
    "# empirical check\n",
    "# probability Team A wins\n",
    "p = 0.6\n",
    "# first to m games\n",
    "m = 4\n",
    "# total games = m+case\n",
    "total_games = 2*m-1\n",
    "# start experiments\n",
    "num_experiments = 10000\n",
    "counter = 0\n",
    "# run experiments\n",
    "for experiment in range(num_experiments):\n",
    "    # store first 2*(m-1) games\n",
    "    data = []\n",
    "    for game in range(total_games):\n",
    "        outcome = np.random.binomial(1, p, size=1)[0]\n",
    "        data.append(outcome)\n",
    "    # sum(data)==m-1 if and only if series ends in 2m-1 games\n",
    "    if sum(data)>=m:\n",
    "        counter+=1\n",
    "print(\"Empirical result = {0}\".format(counter/num_experiments))\n",
    "theoretical_p=0\n",
    "for i in range(0,m-1+1):\n",
    "    theoretical_p += scipy.special.binom(2*m-1, m+i)*p**(m+i)*(1-p)**(m-1-i)\n",
    "print(\"Theoretical result = {0}\".format(theoretical_p))"
   ]
  },
  {
   "cell_type": "markdown",
   "metadata": {},
   "source": [
    "#### Exercise 1.8"
   ]
  },
  {
   "cell_type": "markdown",
   "metadata": {},
   "source": [
    "What is the probability that the Team A wins a best-of-7 series (m = 4) if p = 0.65? (Remember to give both a formula and a numeric answer.)"
   ]
  },
  {
   "cell_type": "markdown",
   "metadata": {},
   "source": [
    "We already derived a formula above.  The code below produces a numerical answer. $\\square$"
   ]
  },
  {
   "cell_type": "code",
   "execution_count": 145,
   "metadata": {},
   "outputs": [
    {
     "name": "stdout",
     "output_type": "stream",
     "text": [
      "Empirical result = 0.79912\n",
      "Theoretical result = 0.8001542656250001\n"
     ]
    }
   ],
   "source": [
    "# empirical check\n",
    "# probability Team A wins\n",
    "p = 0.65\n",
    "# first to m games\n",
    "m = 4\n",
    "# total games = m+case\n",
    "total_games = 2*m-1\n",
    "# start experiments\n",
    "num_experiments = 100000\n",
    "counter = 0\n",
    "# run experiments\n",
    "for experiment in range(num_experiments):\n",
    "    # store first 2*(m-1) games\n",
    "    data = []\n",
    "    for game in range(total_games):\n",
    "        outcome = np.random.binomial(1, p, size=1)[0]\n",
    "        data.append(outcome)\n",
    "    # sum(data)==m-1 if and only if series ends in 2m-1 games\n",
    "    if sum(data)>=m:\n",
    "        counter+=1\n",
    "print(\"Empirical result = {0}\".format(counter/num_experiments))\n",
    "theoretical_p=0\n",
    "for i in range(0,m-1+1):\n",
    "    theoretical_p += scipy.special.binom(2*m-1, m+i)*p**(m+i)*(1-p)**(m-1-i)\n",
    "print(\"Theoretical result = {0}\".format(theoretical_p))"
   ]
  }
 ],
 "metadata": {
  "kernelspec": {
   "display_name": "Python 3",
   "language": "python",
   "name": "python3"
  },
  "language_info": {
   "codemirror_mode": {
    "name": "ipython",
    "version": 3
   },
   "file_extension": ".py",
   "mimetype": "text/x-python",
   "name": "python",
   "nbconvert_exporter": "python",
   "pygments_lexer": "ipython3",
   "version": "3.7.6"
  }
 },
 "nbformat": 4,
 "nbformat_minor": 4
}
