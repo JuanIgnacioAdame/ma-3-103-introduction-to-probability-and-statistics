{
 "cells": [
  {
   "cell_type": "markdown",
   "metadata": {},
   "source": [
    "The empirical distribution function is a good way to look at data. It just charts for each number t the fraction of the data that is less than or equal to t. I believe that in many ways, it is superior to histograms for “eyeballing” the distribution of data. Let’s see what you think."
   ]
  },
  {
   "cell_type": "markdown",
   "metadata": {},
   "source": [
    "At the beginning of the term you flipped coins. This generated a long string of 0s and 1s. A segment of this string can be interpreted as a binary number, and by dividing this by the appropriate power of two, it can be interpreted as a number between 0 and 1. Moreover, if the coin tosses are independent and Heads and Tails are equally likely, then these numbers should be i.i.d. with an approximately uniform distribution. We are going to subject this to an “eyeball test,” which is one of the first things you should always do with data."
   ]
  },
  {
   "cell_type": "markdown",
   "metadata": {},
   "source": [
    "I have taken the liberty of chopping the coin toss data from this year into 776 strings of length 32, and converting them into numbers between 0 and 1. You can download these results from http://www.math.caltech.edu/~2016-17/2term/ma003/ Data/Random32.txt. Or you can do it yourself from the raw data at http://www.math. caltech.edu/~2016-17/2term/ma003/Data/Flips.txt\n",
    "Using the program/language of your choice do the following. (I give hints for R and Mathematica below.)"
   ]
  },
  {
   "cell_type": "markdown",
   "metadata": {},
   "source": [
    "1. What is the expected value of a Uniform[0,1] random variable? What is its standard deviation?"
   ]
  },
  {
   "cell_type": "markdown",
   "metadata": {},
   "source": [
    "The expected value is $0.5$, and the standard deviation is $\\int_{0}^{1}(x-0.5)^2f(x)dx=\\int_{0}^{1}(x-0.5)^2\\times 1dx=\\frac{1}{12}.$ $\\square$"
   ]
  },
  {
   "cell_type": "markdown",
   "metadata": {},
   "source": [
    "2. What is the average of the numbers in your samples? What is the sample standard deviation of each sample? (The sample standard deviation is gotten by squaring the deviation of each sample value from the sample mean, summing them, dividing by (sample size − 1), and then taking the square root."
   ]
  },
  {
   "cell_type": "code",
   "execution_count": 36,
   "metadata": {},
   "outputs": [
    {
     "name": "stdout",
     "output_type": "stream",
     "text": [
      "Average = 0.501744904241839\n"
     ]
    }
   ],
   "source": [
    "txt = open(\"Untitled.txt\").readlines()\n",
    "first_index = 9\n",
    "last_index = len(txt) - 1\n",
    "avg = sum([float(txt[i][:-2]) for i in range(first_index, last_index+1)])\n",
    "avg = avg/(last_index-first_index+1)\n",
    "print(\"Average = {0}\".format(avg))"
   ]
  },
  {
   "cell_type": "code",
   "execution_count": 39,
   "metadata": {},
   "outputs": [
    {
     "name": "stdout",
     "output_type": "stream",
     "text": [
      "Sample standard deviation = 0.2925909550493758\n"
     ]
    }
   ],
   "source": [
    "ssd = sum([(float(txt[i][:-2])-avg)**2 for i in range(first_index, last_index+1)])\n",
    "ssd = ssd/(last_index-first_index)\n",
    "ssd = ssd**0.5\n",
    "print(\"Sample standard deviation = {0}\".format(ssd))"
   ]
  },
  {
   "cell_type": "markdown",
   "metadata": {},
   "source": [
    "3. Plot a histogram of these numbers, using the default. Then plot a histogram using bins of length 0.05."
   ]
  },
  {
   "cell_type": "code",
   "execution_count": 40,
   "metadata": {},
   "outputs": [],
   "source": [
    "from matplotlib import pyplot as plt"
   ]
  },
  {
   "cell_type": "code",
   "execution_count": 49,
   "metadata": {},
   "outputs": [
    {
     "data": {
      "image/png": "[encoded data removed]",
      "text/plain": [
       "<Figure size 432x288 with 1 Axes>"
      ]
     },
     "metadata": {
      "needs_background": "light"
     },
     "output_type": "display_data"
    }
   ],
   "source": [
    "plt.clf()\n",
    "data = [float(txt[i][:-2]) for i in range(first_index, last_index+1)]\n",
    "plt.hist(data, bins=10)\n",
    "plt.show()"
   ]
  },
  {
   "cell_type": "code",
   "execution_count": 50,
   "metadata": {},
   "outputs": [
    {
     "data": {
      "image/png": "[encoded data removed]",
      "text/plain": [
       "<Figure size 432x288 with 1 Axes>"
      ]
     },
     "metadata": {
      "needs_background": "light"
     },
     "output_type": "display_data"
    }
   ],
   "source": [
    "plt.clf()\n",
    "data = [float(txt[i][:-2]) for i in range(first_index, last_index+1)]\n",
    "plt.hist(data, bins=20)\n",
    "plt.show()"
   ]
  },
  {
   "cell_type": "markdown",
   "metadata": {},
   "source": [
    "4. Now plot a cumulative histogram or the empirical cumulative distribution function. (In Mathematica, this is just an option of the Histogram command, and in R use the ecdf command.)"
   ]
  },
  {
   "cell_type": "code",
   "execution_count": 68,
   "metadata": {},
   "outputs": [
    {
     "name": "stdout",
     "output_type": "stream",
     "text": [
      "776\n",
      "0.991863659117371\n",
      "[0.085656980285421, 0.182624472072348, 0.295127844903618, 0.412926162825897, 0.503219922771677, 0.596455232007429, 0.693809190997854, 0.7917544497177, 0.905221492052078, 0.991863659117371]\n",
      "[0.1, 0.2, 0.3, 0.4, 0.5, 0.6, 0.7, 0.8, 0.9, 1.0]\n"
     ]
    },
    {
     "data": {
      "image/png": "[encoded data removed]",
      "text/plain": [
       "<Figure size 432x288 with 1 Axes>"
      ]
     },
     "metadata": {
      "needs_background": "light"
     },
     "output_type": "display_data"
    }
   ],
   "source": [
    "data.sort()\n",
    "#print(data)\n",
    "print(len(data))\n",
    "divide_by = 10\n",
    "step_size = int(len(data)/divide_by)\n",
    "y = [step_size*i for i in range(1, divide_by+1)]\n",
    "print(max(x))\n",
    "x = [data[min(j,len(data)-1)] for j in y]\n",
    "y = [value/max(y) for value in y]\n",
    "print(x)\n",
    "print(y)\n",
    "plt.plot(x, y)\n",
    "plt.show()"
   ]
  },
  {
   "cell_type": "markdown",
   "metadata": {},
   "source": [
    "5. Which method makes it easier to check by eye if the data appear to be uniform?"
   ]
  },
  {
   "cell_type": "markdown",
   "metadata": {},
   "source": [
    "The cdf method makes it _way_ easier!"
   ]
  }
 ],
 "metadata": {
  "kernelspec": {
   "display_name": "Python 3",
   "language": "python",
   "name": "python3"
  },
  "language_info": {
   "codemirror_mode": {
    "name": "ipython",
    "version": 3
   },
   "file_extension": ".py",
   "mimetype": "text/x-python",
   "name": "python",
   "nbconvert_exporter": "python",
   "pygments_lexer": "ipython3",
   "version": "3.7.6"
  }
 },
 "nbformat": 4,
 "nbformat_minor": 4
}
