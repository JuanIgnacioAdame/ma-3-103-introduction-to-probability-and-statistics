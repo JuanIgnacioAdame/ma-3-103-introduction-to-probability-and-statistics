{
 "cells": [
  {
   "cell_type": "markdown",
   "metadata": {},
   "source": [
    "When we discussed confidence intervals for the mean of a normal distribution with unknown mean $\\mu$ and known standard deviation $\\sigma$, based on a sample of $n$ independent random variables, we started with the maximum likelihood estimate $\\hat{\\mu}$, showed that $(\\hat{\\mu} − \\mu)/(\\sigma/\\sqrt{n})$ is a standard normal, and identified an interval $[a, b]$ so that $P_{(\\mu,\\sigma^2)}((\\hat{\\mu}−\\mu)/(\\sigma/\\sqrt{n})\\in[a,b])=1−\\alpha$. We then found an interval $[\\bar{a}(\\hat{\\mu}),\\bar{b}(\\hat{\\mu})]$ so that $\\frac{\\hat{\\mu} − \\mu}{\\sigma/\\sqrt{n}} \\in [a, b]\\iff \\mu ∈ [\\bar{a}(\\hat{\\mu}), \\bar{b}(\\hat{\\mu})]$,\n",
    "  and called that interval the $1 − \\alpha$ confidence interval for $\\mu$. Just to make sure we’re on the same page,"
   ]
  },
  {
   "cell_type": "markdown",
   "metadata": {},
   "source": [
    "### Exercise 1.1"
   ]
  },
  {
   "cell_type": "markdown",
   "metadata": {},
   "source": [
    "What are the expressions for $\\bar{a}(\\hat{\\mu})$ and $\\bar{b}(\\hat{\\mu})$? (Hint: they depend on $n, \\hat{\\mu}, z\\alpha/2,$ and $\\sigma$.)"
   ]
  },
  {
   "cell_type": "markdown",
   "metadata": {},
   "source": [
    "From Lecture 19, we see that\n",
    "\\begin{align}\n",
    "&\\bar{a}({\\hat{\\mu}})=\\hat{\\mu}-\\frac{z_{\\alpha/2}\\sigma}{\\sqrt{n}},\\\\\n",
    "&\\bar{b}({\\hat{\\mu}})=\\hat{\\mu}+\\frac{z_{\\alpha/2}\\sigma}{\\sqrt{n}}. \\square\n",
    "\\end{align}"
   ]
  },
  {
   "cell_type": "markdown",
   "metadata": {},
   "source": [
    "### Exercise 1.2"
   ]
  },
  {
   "cell_type": "markdown",
   "metadata": {},
   "source": [
    "The likelihood function is given by\n",
    "\\begin{align}\n",
    "L(x_1,\\dots,x_n;\\theta)&=\\prod_{i=1}^{n}f(x_i;\\theta)\\\\\n",
    "&=\\left(\\frac{1}{\\theta}\\right)^n,\n",
    "\\end{align}\n",
    "whenever $0\\leq x_i\\leq\\theta$ for all $x_i$, and\n",
    "\\begin{equation}\n",
    "L(x_1,\\dots,x_n;\\theta)\\equiv0\n",
    "\\end{equation}\n",
    "whenever the condition $0\\leq x_i\\leq\\theta$ is violated for any $i$."
   ]
  },
  {
   "cell_type": "markdown",
   "metadata": {},
   "source": [
    "Hence, $L$ is maximized by making $\\theta$ as small as possible while still satisfying $\\theta\\geq x_i$ for all $i$.  This is given by\n",
    "\\begin{equation}\n",
    "\\hat{\\theta}=\\max_ix_i. \\square\n",
    "\\end{equation}"
   ]
  },
  {
   "cell_type": "markdown",
   "metadata": {},
   "source": [
    "### Exercise 1.3"
   ]
  },
  {
   "cell_type": "markdown",
   "metadata": {},
   "source": [
    "If you knew $\\theta$, what is the smallest interval $[a,b]$ (the endpoints may depend on $\\theta$) such that\n",
    "\\begin{equation}\n",
    "P_{\\theta}(\\hat{\\theta}(\\vec{x})\\not\\in[a,b])=\\alpha?\n",
    "\\end{equation}"
   ]
  },
  {
   "cell_type": "markdown",
   "metadata": {},
   "source": [
    "Note that\n",
    "\\begin{equation}\n",
    "P_{\\theta}(\\hat{\\theta}(\\vec{x})\\not\\in[a,b])=1-P_{\\theta}(\\hat{\\theta}(\\vec{x})\\in[a,b]).\n",
    "\\end{equation}\n",
    "Our goal now is to evaluate \n",
    "\\begin{equation}\n",
    "P_{\\theta}(\\hat{\\theta}(\\vec{x})\\in[a,b])=P_{\\theta}(\\max\\vec{x}\\in[a,b]).\n",
    "\\end{equation}"
   ]
  },
  {
   "cell_type": "markdown",
   "metadata": {},
   "source": [
    "From lecture 14, recall that cumulative distribution function of the maximum of $n$ iid random variables is given by $F(x)^n$, so\n",
    "\\begin{equation}\n",
    "P_{\\theta}(\\max\\vec{x}\\in[a,b])=F(b)^n-F(a)^n.\n",
    "\\end{equation}\n",
    "Assuming we know $\\theta$, the equation on the right hand side becomes\n",
    "\\begin{equation}\n",
    "F(b)^n-F(a)^n=\\left(\\frac{b}{\\theta}\\right)^n-\\left(\\frac{a}{\\theta}\\right)^n.\n",
    "\\end{equation}"
   ]
  },
  {
   "cell_type": "markdown",
   "metadata": {},
   "source": [
    "Putting everything together, we obtain\n",
    "\\begin{gather}\n",
    "1-\\left(\\frac{b-a}{\\theta}\\right)^n=\\alpha\\Rightarrow\\\\\n",
    "1-\\alpha=\\left(\\frac{b-a}{\\theta}\\right)^n\\Rightarrow\\\\\n",
    "(1-\\alpha)\\theta^n=b^n-a^n.\n",
    "\\end{gather}"
   ]
  },
  {
   "cell_type": "markdown",
   "metadata": {},
   "source": [
    "Our goal now is to choose the *smallest* interval, i.e. minimize $b-a$, such that the equation above holds.  Note that for $n\\geq1$, $b-a$ is minimized by making $b$ as large as possible, and then choosing $a$ appropriately.  For a visual example of why this is the case, consider the example plot below with $n=2$.  Observe that for a fixed interval length of the $x$ axis, the vertical distance between $y$-endpoints of that interval increases."
   ]
  },
  {
   "cell_type": "code",
   "execution_count": 5,
   "metadata": {},
   "outputs": [
    {
     "data": {
      "image/png": "[encoded data removed]",
      "text/plain": [
       "<Figure size 432x288 with 1 Axes>"
      ]
     },
     "metadata": {
      "needs_background": "light"
     },
     "output_type": "display_data"
    }
   ],
   "source": [
    "from matplotlib import pyplot as plt\n",
    "plt.clf()\n",
    "# n\n",
    "n = 2\n",
    "x = [i for i in range(0,3+1)]\n",
    "y = [i**2 for i in range(0,3+1)]\n",
    "plt.plot(x, y)\n",
    "\n",
    "# draw horizontal lines\n",
    "plt.plot([0,3], [0,0], color='black', alpha=0.5)\n",
    "plt.plot([0,3], [1,1], color='black', alpha=0.5)\n",
    "plt.plot([0,3], [4,4], color='black', alpha=0.5)\n",
    "plt.plot([0,3], [9,9], color='black', alpha=0.5)\n",
    "# draw vertical lines\n",
    "plt.axvline(x=0, color='black', alpha=0.5)\n",
    "plt.axvline(x=1, color='black', alpha=0.5)\n",
    "plt.axvline(x=2, color='black', alpha=0.5)\n",
    "plt.axvline(x=3, color='black', alpha=0.5)\n",
    "plt.show()"
   ]
  },
  {
   "cell_type": "markdown",
   "metadata": {},
   "source": [
    "Now note that $\\max\\vec{x}\\leq\\theta$ by definition, and hence the largest value we can choose for $b$ is $\\theta$.  Plugging this into the above equation, we get\n",
    "\\begin{gather}\n",
    "(1-\\alpha)\\theta^n=\\theta^n-a^n\\Rightarrow\\\\\n",
    "\\theta^n-\\alpha\\theta^n=\\theta^n-a^n\\Rightarrow\\\\\n",
    "-\\alpha\\theta^n=-a^n\\Rightarrow\\\\\n",
    "a=\\alpha^{\\frac{1}{n}}\\theta.\n",
    "\\end{gather}"
   ]
  },
  {
   "cell_type": "markdown",
   "metadata": {},
   "source": [
    "In summary, our interval is given by\n",
    "\\begin{equation}\n",
    "[a, b]=[\\alpha^{\\frac{1}{n}}\\theta, \\theta]. \\square\n",
    "\\end{equation}"
   ]
  },
  {
   "cell_type": "markdown",
   "metadata": {},
   "source": [
    "### Exercise 1.4"
   ]
  },
  {
   "cell_type": "markdown",
   "metadata": {},
   "source": [
    "Find an interval $[\\bar{a}(\\hat{\\theta}), \\bar{b}(\\hat{\\theta})]$ such that\n",
    "\\begin{equation}\n",
    "\\hat{\\theta}({\\vec{x}})\\not\\in[a,b]\\iff\\theta\\not\\in[\\bar{a}(\\hat{\\theta}), \\bar{b}(\\hat{\\theta})].\n",
    "\\end{equation}"
   ]
  },
  {
   "cell_type": "markdown",
   "metadata": {},
   "source": [
    "Let's consider the interval we constructed in Exercise 1.3, i.e., the interval satisfying\n",
    "\\begin{equation}\n",
    "\\hat{\\theta}({\\vec{x}})\\not\\in[a, b]=[\\alpha^{\\frac{1}{n}}\\theta, \\theta].\n",
    "\\end{equation}"
   ]
  },
  {
   "cell_type": "markdown",
   "metadata": {},
   "source": [
    "This is true if and only if\n",
    "\\begin{align}\n",
    "&\\hat{\\theta}({\\vec{x}})>\\theta, \\quad \\text{and}\\\\\n",
    "&\\hat{\\theta}({\\vec{x}})<\\alpha^{\\frac{1}{n}}\\theta.\n",
    "\\end{align}"
   ]
  },
  {
   "cell_type": "markdown",
   "metadata": {},
   "source": [
    "The first inequality can be rewritten as\n",
    "\\begin{equation}\n",
    "\\theta<\\hat{\\theta}(\\vec{x}),\n",
    "\\end{equation}\n",
    "and the second inequality can be written as\n",
    "\\begin{equation}\n",
    "\\theta>\\frac{\\hat{\\theta}(\\vec{x})}{\\alpha^{\\frac{1}{n}}}.\n",
    "\\end{equation}"
   ]
  },
  {
   "cell_type": "markdown",
   "metadata": {},
   "source": [
    "Hence, if we let\n",
    "\\begin{align}\n",
    "&\\bar{a}(\\hat{\\theta})=\\hat{\\theta}, \\quad \\text{and}\\\\\n",
    "&\\bar{b}(\\hat{\\theta})=\\frac{\\hat{\\theta}(\\vec{x})}{\\alpha^{\\frac{1}{n}}},\n",
    "\\end{align}\n",
    "we see that\n",
    "\\begin{equation}\n",
    "\\hat{\\theta}({\\vec{x}})\\not\\in[\\alpha^{\\frac{1}{n}}\\theta, \\theta]\\iff\\theta\\not\\in\\left[\\hat{\\theta}, \\frac{\\hat{\\theta}(\\vec{x})}{\\alpha^{\\frac{1}{n}}}\\right]. \\square\n",
    "\\end{equation}"
   ]
  },
  {
   "cell_type": "markdown",
   "metadata": {},
   "source": [
    "### Exercise 1.5"
   ]
  },
  {
   "cell_type": "markdown",
   "metadata": {},
   "source": [
    "Compute $[\\bar{a}(\\hat{\\theta}), \\bar{b}(\\hat{\\theta})]$ for $n=5$, and $\\alpha=0.10, 0.05, 0.01$."
   ]
  },
  {
   "cell_type": "markdown",
   "metadata": {},
   "source": [
    "For $\\alpha=0.10$,\n",
    "\\begin{equation}\n",
    "[\\bar{a}(\\hat{\\theta}), \\bar{b}(\\hat{\\theta})]=\\left[\\hat{\\theta}, \\frac{\\hat{\\theta}(\\vec{x})}{0.10^{\\frac{1}{5}}}\\right]=[\\hat{\\theta}, 1.58\\hat{\\theta}].\n",
    "\\end{equation}\n",
    "For $\\alpha=0.05$:\n",
    "\\begin{equation}\n",
    "[\\bar{a}(\\hat{\\theta}), \\bar{b}(\\hat{\\theta})]=\\left[\\hat{\\theta}, \\frac{\\hat{\\theta}(\\vec{x})}{0.05^{\\frac{1}{5}}}\\right]=[\\hat{\\theta}, 1.82\\hat{\\theta}].\n",
    "\\end{equation}\n",
    "$\\alpha=0.01$:\n",
    "\\begin{equation}\n",
    "[\\bar{a}(\\hat{\\theta}), \\bar{b}(\\hat{\\theta})]=\\left[\\hat{\\theta}, \\frac{\\hat{\\theta}(\\vec{x})}{0.01^{\\frac{1}{5}}}\\right]=[\\hat{\\theta}, 2.51\\hat{\\theta}]. \\square\n",
    "\\end{equation}"
   ]
  },
  {
   "cell_type": "markdown",
   "metadata": {},
   "source": [
    "### Exercise 1.6"
   ]
  },
  {
   "cell_type": "markdown",
   "metadata": {},
   "source": [
    "Derive the method of moments estimator of $\\theta$."
   ]
  },
  {
   "cell_type": "markdown",
   "metadata": {},
   "source": [
    "We want to find $\\hat{\\theta}$ such that\n",
    "\\begin{equation}\n",
    "\\int_{0}^{\\hat{\\theta}}x^kf(x;\\hat{\\theta})dx=\\sum_{i=1}^{n}\\frac{x_i^k}{n}.\n",
    "\\end{equation}"
   ]
  },
  {
   "cell_type": "markdown",
   "metadata": {},
   "source": [
    "Let us first evaluate the integral.\n",
    "\\begin{align}\n",
    "\\int_{0}^{\\hat{\\theta}}x^kf(x;\\hat{\\theta})dx&=\\int_{0}^{\\hat{\\theta}}x^k\\frac{1}{\\hat{\\theta}}dx\\\\\n",
    "&=\\frac{1}{\\hat{\\theta}}\\frac{x^{k+1}}{k+1}\\Biggr|_{0}^{\\hat{\\theta}}\\\\\n",
    "&=\\frac{1}{\\hat{\\theta}}\\frac{\\hat{\\theta}^{k+1}}{k+1}\\\\\n",
    "&=\\frac{\\hat{\\theta}^{k}}{k+1}.\n",
    "\\end{align}"
   ]
  },
  {
   "cell_type": "markdown",
   "metadata": {},
   "source": [
    "Plugging this value back into the equation above, we get\n",
    "\\begin{gather}\n",
    "\\frac{\\hat{\\theta}^{k}}{k+1}=\\sum_{i=1}^{n}\\frac{x_i^k}{n}\\Rightarrow\\\\\n",
    "\\hat{\\theta}^{k}=\\frac{k+1}{n}\\sum_{i=1}^{n}x_i^k\\Rightarrow\\\\\n",
    "\\hat{\\theta}=\\left(\\frac{k+1}{n}\\sum_{i=1}^{n}x_i^k\\right)^{\\frac{1}{k}}. \\square\n",
    "\\end{gather}"
   ]
  },
  {
   "cell_type": "markdown",
   "metadata": {},
   "source": [
    "### Exercise 1.7"
   ]
  },
  {
   "cell_type": "markdown",
   "metadata": {},
   "source": [
    "Must the method of moments estimate fall in the confidence interval? (Why or why not?)"
   ]
  },
  {
   "cell_type": "markdown",
   "metadata": {},
   "source": [
    "No, this is not necessarily the case.  Consider, for example, method of moments estimator when $k=1$.  In this case, we have\n",
    "\\begin{equation}\n",
    "\\hat{\\theta}_1=\\left(\\frac{1+1}{n}\\sum_{i=1}^{n}x_i^1\\right)^{\\frac{1}{1}}=\\frac{2}{n}\\sum_{i=1}^{n}x_i.\n",
    "\\end{equation}"
   ]
  },
  {
   "cell_type": "markdown",
   "metadata": {},
   "source": [
    "Suppose that our sample is given by $(0,0,1)$, so that\n",
    "$\\hat{\\theta}_1=\\frac{2}{3}(0+0+1)=\\frac{2}{3}$, and $\\hat{\\theta}_{\\text{MLE}}=\\max x_i=3$.  Note that $\\hat{\\theta}_1$ is not in the confidence intervals of the form we derived above for *any* alpha, since our confidence intervals would be of the form\n",
    "\\begin{equation}\n",
    "\\left[\\hat{\\theta}, \\frac{\\hat{\\theta}}{\\alpha^{\\frac{1}{n}}}\\right]=\\left[1,\\frac{1}{\\alpha^{\\frac{1}{3}}}\\right],\n",
    "\\end{equation}\n",
    "and $\\hat{\\theta}_1$ is not in such an interval for *any* $\\alpha$. $\\square$"
   ]
  }
 ],
 "metadata": {
  "kernelspec": {
   "display_name": "Python 3",
   "language": "python",
   "name": "python3"
  },
  "language_info": {
   "codemirror_mode": {
    "name": "ipython",
    "version": 3
   },
   "file_extension": ".py",
   "mimetype": "text/x-python",
   "name": "python",
   "nbconvert_exporter": "python",
   "pygments_lexer": "ipython3",
   "version": "3.7.6"
  }
 },
 "nbformat": 4,
 "nbformat_minor": 4
}
