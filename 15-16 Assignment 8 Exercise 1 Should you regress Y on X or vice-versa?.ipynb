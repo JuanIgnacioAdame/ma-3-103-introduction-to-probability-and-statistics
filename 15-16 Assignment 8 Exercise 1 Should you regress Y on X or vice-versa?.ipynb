{
 "cells": [
  {
   "cell_type": "markdown",
   "metadata": {},
   "source": [
    "The answer to that question is not a statistical question, it is a scientific one. Do you have a theory that makes one variable dependent, and the other independent? The statistical question is what difference does it make?"
   ]
  },
  {
   "cell_type": "markdown",
   "metadata": {},
   "source": [
    "Suppose your model is\n",
    "\\begin{equation}\n",
    "Y=\\beta_01+\\beta_1X+\\epsilon.\n",
    "\\end{equation}"
   ]
  },
  {
   "cell_type": "markdown",
   "metadata": {},
   "source": [
    "Let $\\hat{\\beta}_1$ be the least squares estimate of $\\beta_1$ for this model."
   ]
  },
  {
   "cell_type": "markdown",
   "metadata": {},
   "source": [
    "Now suppose you try the model\n",
    "\\begin{equation}\n",
    "X=\\alpha_0+\\alpha_1Y+\\eta.\n",
    "\\end{equation}"
   ]
  },
  {
   "cell_type": "markdown",
   "metadata": {},
   "source": [
    "If the sample means satisfy $\\bar{y}=\\bar{x}=0$, your LS regression line will pass through $(0,0)$ so $\\hat{\\alpha}_0=\\hat{\\beta}_0=0$, and your models will reduce to\n",
    "\\begin{equation}\n",
    "Y=\\beta_1X+\\epsilon \\quad \\text{and} \\quad X=\\alpha_1Y+\\eta.\n",
    "\\end{equation}"
   ]
  },
  {
   "cell_type": "markdown",
   "metadata": {},
   "source": [
    "What is the relation between $\\hat{\\alpha}_1$ and $\\hat{\\beta}_1$?"
   ]
  },
  {
   "cell_type": "markdown",
   "metadata": {},
   "source": [
    "Intuition may tell you that $\\hat{\\alpha}_1=1/\\hat{\\beta}_1$. Is that correct?"
   ]
  },
  {
   "cell_type": "markdown",
   "metadata": {},
   "source": [
    "Spoiler: That is not correct, as the following counterexample will show."
   ]
  },
  {
   "cell_type": "markdown",
   "metadata": {},
   "source": [
    "### Exercise 1.1"
   ]
  },
  {
   "cell_type": "markdown",
   "metadata": {},
   "source": [
    "Regress $Y$ on $X$ and a constant term. What are the least squares estimates of the coefficients?"
   ]
  },
  {
   "cell_type": "markdown",
   "metadata": {},
   "source": [
    "$\\hat{\\beta}_0=0$, and $\\hat{\\beta}_1=1$.  See code below. $\\square$"
   ]
  },
  {
   "cell_type": "code",
   "execution_count": 14,
   "metadata": {},
   "outputs": [],
   "source": [
    "import numpy as np"
   ]
  },
  {
   "cell_type": "code",
   "execution_count": 7,
   "metadata": {},
   "outputs": [
    {
     "name": "stdout",
     "output_type": "stream",
     "text": [
      "[0. 1.]\n"
     ]
    }
   ],
   "source": [
    "# x\n",
    "x = np.array([-1, 0, 1])\n",
    "# y\n",
    "y = np.array([-2, 2, 0])\n",
    "# X\n",
    "X = np.array([[1, -1],\n",
    "              [1, 0],\n",
    "              [1, 1]])\n",
    "# bOLS\n",
    "bOLS = np.linalg.inv(X.T.dot(X)).dot(X.T).dot(y)\n",
    "print(bOLS)"
   ]
  },
  {
   "cell_type": "markdown",
   "metadata": {},
   "source": [
    "### Exercise 1.2"
   ]
  },
  {
   "cell_type": "markdown",
   "metadata": {},
   "source": [
    "Regress $X$ on $Y$ and a constant term. What are the least squares estimates of the coefficients?"
   ]
  },
  {
   "cell_type": "markdown",
   "metadata": {},
   "source": [
    "$\\hat{\\alpha}_0=0$, and $\\hat{\\alpha}_1=0.25$.  See code below. $\\square$"
   ]
  },
  {
   "cell_type": "code",
   "execution_count": 8,
   "metadata": {},
   "outputs": [
    {
     "name": "stdout",
     "output_type": "stream",
     "text": [
      "[0.   0.25]\n"
     ]
    }
   ],
   "source": [
    "# x\n",
    "x = np.array([-1, 0, 1])\n",
    "# y\n",
    "y = np.array([-2, 2, 0])\n",
    "# X\n",
    "Y = np.array([[1, -2],\n",
    "              [1, 2],\n",
    "              [1, 0]])\n",
    "# bOLS\n",
    "aOLS = np.linalg.inv(Y.T.dot(Y)).dot(Y.T).dot(x)\n",
    "print(aOLS)"
   ]
  },
  {
   "cell_type": "markdown",
   "metadata": {},
   "source": [
    "### Exercise 1.3"
   ]
  },
  {
   "cell_type": "markdown",
   "metadata": {},
   "source": [
    " Create a scatter plot of the data set showing each regression line."
   ]
  },
  {
   "cell_type": "code",
   "execution_count": 9,
   "metadata": {},
   "outputs": [],
   "source": [
    "from matplotlib import pyplot as plt"
   ]
  },
  {
   "cell_type": "code",
   "execution_count": 13,
   "metadata": {},
   "outputs": [
    {
     "data": {
      "image/png": "[encoded data removed]",
      "text/plain": [
       "<Figure size 432x288 with 1 Axes>"
      ]
     },
     "metadata": {
      "needs_background": "light"
     },
     "output_type": "display_data"
    }
   ],
   "source": [
    "# clear figure\n",
    "plt.clf()\n",
    "\n",
    "# scatter data\n",
    "plt.scatter(x, y, label='obersvations')\n",
    "\n",
    "# Regress y on x\n",
    "plt.plot(x, 1*x, label='y on x')\n",
    "\n",
    "# Regress x on y\n",
    "plt.plot(0.25*y, y, label='x on y')\n",
    "\n",
    "#legend\n",
    "plt.legend()\n",
    "\n",
    "plt.show()"
   ]
  },
  {
   "cell_type": "markdown",
   "metadata": {},
   "source": [
    "### Exercise 1.4"
   ]
  },
  {
   "cell_type": "markdown",
   "metadata": {},
   "source": [
    "The intuition is *not* supported by this example. $\\square$"
   ]
  },
  {
   "cell_type": "code",
   "execution_count": null,
   "metadata": {},
   "outputs": [],
   "source": []
  }
 ],
 "metadata": {
  "kernelspec": {
   "display_name": "Python 3",
   "language": "python",
   "name": "python3"
  },
  "language_info": {
   "codemirror_mode": {
    "name": "ipython",
    "version": 3
   },
   "file_extension": ".py",
   "mimetype": "text/x-python",
   "name": "python",
   "nbconvert_exporter": "python",
   "pygments_lexer": "ipython3",
   "version": "3.7.6"
  }
 },
 "nbformat": 4,
 "nbformat_minor": 4
}
