{
 "cells": [
  {
   "cell_type": "markdown",
   "metadata": {},
   "source": [
    "### Problem"
   ]
  },
  {
   "cell_type": "markdown",
   "metadata": {},
   "source": [
    "Consider the experiment of tossing a coin until you get two consecutive heads. What is the probability distribution of the number of tosses?\n",
    "(Just to be clear, the sequence $HH$ requires two tosses and $HTTHH$ requires five tosses.)"
   ]
  },
  {
   "cell_type": "markdown",
   "metadata": {},
   "source": [
    "### Solution"
   ]
  },
  {
   "cell_type": "markdown",
   "metadata": {},
   "source": [
    "First, we count the number of ways we can obtain our *first* run of two heads at the $n$th toss, a quantity we denote $C_n$.  Once we find this number, it is just a matter of diving by $2^n$ to obtain the probability."
   ]
  },
  {
   "cell_type": "markdown",
   "metadata": {},
   "source": [
    "Note that for small $n$, $C_n$ is easy to calculate.  For example,\n",
    "\\begin{align}\n",
    "C_n &= 0, \\quad n<2,\\\\\n",
    "C_2 &= C_3 = 1, \\quad HH \\text{ and } THH,\\\\\n",
    "C_4 &= 2, \\quad HTHH \\text { and } TTHH.\n",
    "\\end{align}"
   ]
  },
  {
   "cell_type": "markdown",
   "metadata": {},
   "source": [
    "For larger $n$, note that $C_n$ satisfies the following recursion relation:\n",
    "\\begin{equation}\n",
    "C_n = 2^{n-3}-\\sum_{i=2}^{n-3}2^{n-3-i}C_i, \\quad n\\geq 5.\n",
    "\\end{equation}"
   ]
  },
  {
   "cell_type": "markdown",
   "metadata": {},
   "source": [
    "To see this, observe that if we obtain our first run of two heads at the $n$th toss, then our sequence of coin tosses must be of the following form:\n",
    "\\begin{equation}\n",
    "\\underbrace{*\\dots*}_{\\text{first $n-3$ tosses}}THH.\n",
    "\\end{equation}"
   ]
  },
  {
   "cell_type": "markdown",
   "metadata": {},
   "source": [
    "Note that a $T$ must precede the final $HH$ because otherwise our first run of two heads would have occured at the $n-1$th toss."
   ]
  },
  {
   "cell_type": "markdown",
   "metadata": {},
   "source": [
    "It remains to understand in detail how the first $n-3$ tosses may look.  Of the $2^{n-3}$ possible sequences, we need to remove those where an $HH$ occured.  We can do this by removing those for which the first $HH$ occured at the 2nd toss, then removing those for which the first $HH$ occurred at the 3rd toss, and so forth until we get to toss $n-3$.  But this is precisely the recursion relation we are after:\n",
    "\\begin{equation}\n",
    "C_n = 2^{n-3}-\\sum_{i=2}^{n-3}2^{n-3-i}C_i, \\quad n\\geq 5.\n",
    "\\end{equation}"
   ]
  },
  {
   "cell_type": "markdown",
   "metadata": {},
   "source": [
    "We can rewrite this equation in a simpler form observaing the relationship between $2C_n$ and $C_{n+1}$.  First, note that \n",
    "\\begin{align}\n",
    "2C_n = 2^{n+1-3}-\\sum_{i=2}^{n-3}2^{n+1-3-i}C_i\\Rightarrow\\\\\n",
    "2C_n + \\sum_{i=2}^{n-3}2^{n+1-3-i}C_i = 2^{n+1-3},\n",
    "\\end{align}\n",
    "and\n",
    "\\begin{align}\n",
    "C_{n+1} = 2^{n+1-3} - \\sum_{i=2}^{n+1-3}2^{n+1-3-i}C_i\\Rightarrow\\\\\n",
    "C_{n+1} + \\sum_{i=2}^{n+1-3}2^{n+1-3-i}C_i = 2^{n+1-3}.\n",
    "\\end{align}"
   ]
  },
  {
   "cell_type": "markdown",
   "metadata": {},
   "source": [
    "Hence, we obtain the equality\n",
    "\\begin{equation}\n",
    "C_{n+1} + \\sum_{i=2}^{n+1-3}2^{n+1-3-i}C_i = 2C_n + \\sum_{i=2}^{n-3}2^{n+1-3-i}C_i\\Rightarrow\\\\\n",
    "C_{n+1} = 2C_n - C_{n-2}.\n",
    "\\end{equation}"
   ]
  },
  {
   "cell_type": "markdown",
   "metadata": {},
   "source": [
    "This is just a linear, homogeneous, third-degree recursion equation with constant coefficients,  which we can readily solve (see e.g. [https://math.berkeley.edu/~arash/55/8_2.pdf](https://math.berkeley.edu/~arash/55/8_2.pdf)).  The solution is given by\n",
    "\\begin{equation}\n",
    "C_n = \\left(\\frac{5+\\sqrt{5}}{10}\\right)\\left(\\frac{1}{2}-\\frac{\\sqrt{5}}{2}\\right)^n+\\left(\\frac{5-\\sqrt{5}}{10}\\right)\\left(\\frac{1}{2}+\\frac{\\sqrt{5}}{2}\\right)^n, \\quad n\\geq 5.\n",
    "\\end{equation}"
   ]
  },
  {
   "cell_type": "markdown",
   "metadata": {},
   "source": [
    "Finally, dividing by $2^n$ we obtain the probability $p_n$ that the first $HH$ occurs at the $n$th toss:\n",
    "\\begin{gather}\n",
    "p_2=\\frac{1}{4}, \\quad p_3=\\frac{1}{8}, \\quad p_4=\\frac{2}{16},\\\\\n",
    "p_n=\\frac{1}{2^n}\\left[\\left(\\frac{5+\\sqrt{5}}{10}\\right)\\left(\\frac{1}{2}-\\frac{\\sqrt{5}}{2}\\right)^n+\\left(\\frac{5-\\sqrt{5}}{10}\\right)\\left(\\frac{1}{2}+\\frac{\\sqrt{5}}{2}\\right)^n\\right], \\quad n\\geq 5.\\square\n",
    "\\end{gather}"
   ]
  },
  {
   "cell_type": "markdown",
   "metadata": {},
   "source": [
    "### Code"
   ]
  },
  {
   "cell_type": "code",
   "execution_count": 1,
   "metadata": {},
   "outputs": [],
   "source": [
    "# returns list of possible sequence of coin tosses of length n.\n",
    "#\n",
    "# NOTE: TAKES UP A LOT OF MEMORY BECAUSE IT RETURNS ENTIRE LIST\n",
    "#\n",
    "def possible_coin_tosses(n=1):\n",
    "    coin_toss_possibilities = []\n",
    "    for bin_seq in [(n-len(bin(i)[2:]))*'0'+bin(i)[2:] for i in range(2**n)]:\n",
    "        coin_toss_seq = ''\n",
    "        for bit in bin_seq:\n",
    "            if bit == '0':\n",
    "                coin_toss_seq = coin_toss_seq + 'H'\n",
    "            elif bit == '1':\n",
    "                coin_toss_seq = coin_toss_seq + 'T'\n",
    "        coin_toss_possibilities.append(coin_toss_seq)\n",
    "    return coin_toss_possibilities\n",
    "l = possible_coin_tosses(n=6)"
   ]
  },
  {
   "cell_type": "code",
   "execution_count": 2,
   "metadata": {},
   "outputs": [],
   "source": [
    "from collections import defaultdict\n",
    "import random\n",
    "from math import sqrt"
   ]
  },
  {
   "cell_type": "code",
   "execution_count": 3,
   "metadata": {},
   "outputs": [
    {
     "name": "stdout",
     "output_type": "stream",
     "text": [
      "{2: 0.2511, 3: 0.1204, 4: 0.1244, 5: 0.0894, 6: 0.0759, 7: 0.0671, 8: 0.0536, 9: 0.0406, 10: 0.0359}\n",
      "{2: 0.25, 3: 0.125, 4: 0.125, 5: 0.09375000000000001, 6: 0.078125, 7: 0.06250000000000001, 8: 0.050781250000000014, 9: 0.04101562500000001, 10: 0.033203125000000014}\n"
     ]
    }
   ],
   "source": [
    "# choose size\n",
    "N = 10\n",
    "l = possible_coin_tosses(n=N)\n",
    "num_experiments = int(1e04)\n",
    "# theoretical probabilities\n",
    "p = {2:1/4, 3:1/8, 4:2/16}\n",
    "for m in range(5,N+1):\n",
    "    p[m] = (1/2)**m * ((5+sqrt(5))/10*(1/2-sqrt(5)/2)**m + (5-sqrt(5))/10*(1/2+sqrt(5)/2)**m)\n",
    "# store empirical results\n",
    "counter = {i:0 for i in range(1,N+1)}\n",
    "for experiment in range(num_experiments):\n",
    "    seq = random.choice(l)\n",
    "    counter[seq.find('HH')+2]+=1\n",
    "# convert to empirical probabilities\n",
    "counter = {key:round(value/num_experiments,6) for key,value in counter.items()}  \n",
    "# get rid of times when HH didn't happen\n",
    "counter.pop(1, None)\n",
    "print(counter)\n",
    "print(p)"
   ]
  },
  {
   "cell_type": "code",
   "execution_count": 4,
   "metadata": {},
   "outputs": [],
   "source": [
    "from matplotlib import pyplot as plt"
   ]
  },
  {
   "cell_type": "code",
   "execution_count": 5,
   "metadata": {},
   "outputs": [
    {
     "data": {
      "image/png": "[encoded data removed]",
      "text/plain": [
       "<Figure size 432x288 with 1 Axes>"
      ]
     },
     "metadata": {
      "needs_background": "light"
     },
     "output_type": "display_data"
    }
   ],
   "source": [
    "plt.clf()\n",
    "\n",
    "# x axis\n",
    "plt.xticks(range(2,N+1,2))\n",
    "plt.xlabel(\"Toss number, \"+r\"$n$\")\n",
    "\n",
    "# y axis\n",
    "plt.ylabel(\"Probability, \"+r\"$p_n$\")\n",
    "\n",
    "# plot data\n",
    "plt.plot(counter.keys(), counter.values(), label='empirical')\n",
    "plt.plot(p.keys(), p.values(), label='theoretical')\n",
    "\n",
    "# title\n",
    "plt.title(\"Probability of getting first HH at \" + r\"$n$\"+\"th\"+\" toss\")\n",
    "\n",
    "#legend\n",
    "plt.legend()\n",
    "plt.show()"
   ]
  },
  {
   "cell_type": "code",
   "execution_count": null,
   "metadata": {},
   "outputs": [],
   "source": []
  },
  {
   "cell_type": "code",
   "execution_count": null,
   "metadata": {},
   "outputs": [],
   "source": []
  }
 ],
 "metadata": {
  "kernelspec": {
   "display_name": "Python 3",
   "language": "python",
   "name": "python3"
  },
  "language_info": {
   "codemirror_mode": {
    "name": "ipython",
    "version": 3
   },
   "file_extension": ".py",
   "mimetype": "text/x-python",
   "name": "python",
   "nbconvert_exporter": "python",
   "pygments_lexer": "ipython3",
   "version": "3.7.6"
  }
 },
 "nbformat": 4,
 "nbformat_minor": 4
}
