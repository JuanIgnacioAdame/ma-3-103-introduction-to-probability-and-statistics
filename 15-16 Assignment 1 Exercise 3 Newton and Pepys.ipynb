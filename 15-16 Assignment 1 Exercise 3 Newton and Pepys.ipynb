{
 "cells": [
  {
   "cell_type": "markdown",
   "metadata": {},
   "source": [
    "In 1693 Samuel Pepys1 posed a question to Isaac Newton2 concerning games of chance. Here is a modified version of his question:"
   ]
  },
  {
   "cell_type": "markdown",
   "metadata": {},
   "source": [
    "In game A I throw 4 dice and win if I get at least 1 ace (an ace is the case where a face shows a single dot or pip). In game B I throw 8 dice and win if I get at least 2 aces. In game C I throw 12 dice and win if I get at least 3 aces. In which game are my chances best?"
   ]
  },
  {
   "cell_type": "markdown",
   "metadata": {},
   "source": [
    "### Exercise 3.1"
   ]
  },
  {
   "cell_type": "markdown",
   "metadata": {},
   "source": [
    "What is the numerical probability of losing in game A?"
   ]
  },
  {
   "cell_type": "markdown",
   "metadata": {},
   "source": [
    "One loses game A whenever *none* of the tosses result in an ace, so the probability of losing is $5^4/6^4\\approx0.48$. $\\square$"
   ]
  },
  {
   "cell_type": "code",
   "execution_count": 1,
   "metadata": {},
   "outputs": [],
   "source": [
    "import random\n",
    "import time\n",
    "import numpy as np"
   ]
  },
  {
   "cell_type": "code",
   "execution_count": 2,
   "metadata": {},
   "outputs": [
    {
     "data": {
      "text/plain": [
       "'num_experiments = int(1e04)\\nnum_tosses = 4\\nstart = time.time()\\np = sum([sum([int(random.choice([1,2,3,4,5,6])==1) for i in range(num_tosses)])==0 for j in range(num_experiments)])/num_experiments\\nend = time.time()\\nprint(p)\\nprint(end-start)'"
      ]
     },
     "execution_count": 2,
     "metadata": {},
     "output_type": "execute_result"
    }
   ],
   "source": [
    "# Stupdily unreadable code...but it only takes one line!\n",
    "# Still, funny to see that it's slower...probably because, on average, I'm throwing more coins\n",
    "# Note that in the code below, the coin cossing stops at the first ace\n",
    "'''num_experiments = int(1e04)\n",
    "num_tosses = 4\n",
    "start = time.time()\n",
    "p = sum([sum([int(random.choice([1,2,3,4,5,6])==1) for i in range(num_tosses)])==0 for j in range(num_experiments)])/num_experiments\n",
    "end = time.time()\n",
    "print(p)\n",
    "print(end-start)'''"
   ]
  },
  {
   "cell_type": "code",
   "execution_count": 3,
   "metadata": {},
   "outputs": [
    {
     "name": "stdout",
     "output_type": "stream",
     "text": [
      "p_emp = 0.4847099999997103\n",
      "p_th = 0.48225308641975306\n",
      "Time to run experiments = 0.3106811046600342 seconds\n"
     ]
    }
   ],
   "source": [
    "# 'optimized' code\n",
    "num_experiments = int(1e05)\n",
    "num_tosses = 4\n",
    "p_w = 0\n",
    "start = time.time()\n",
    "for experiment in range(num_experiments):\n",
    "    tosses = 1\n",
    "    while tosses<=num_tosses:\n",
    "        tosses += 1\n",
    "        if random.choice([1,2,3,4,5,6])==1:\n",
    "            p_w += 1./num_experiments\n",
    "            break\n",
    "end = time.time()\n",
    "p_l = 1 - p_w\n",
    "print(\"p_emp = {0}\".format(p_l))\n",
    "p_th = 5**4/(6**4)\n",
    "print(\"p_th = {0}\".format(p_th))\n",
    "print(\"Time to run experiments = {0} seconds\".format(end-start))"
   ]
  },
  {
   "cell_type": "code",
   "execution_count": 4,
   "metadata": {},
   "outputs": [
    {
     "data": {
      "text/plain": [
       "'num_experiments = int(1e04)\\nnum_tosses = 4\\np_w = 0\\nstart = time.time()\\nfor experiment in range(num_experiments):\\n    tosses = 1\\n    flag = True\\n    while flag and tosses<=num_tosses:\\n        tosses += 1\\n        result = random.choice([1,2,3,4,5,6])\\n        if result==1:\\n            p_w += 1./num_experiments\\n            flag = False\\nend = time.time()\\np_l = 1 - p_w\\nprint(p_l)\\nprint(end-start)'"
      ]
     },
     "execution_count": 4,
     "metadata": {},
     "output_type": "execute_result"
    }
   ],
   "source": [
    "# lazy code for comparison, about 10% slower\n",
    "'''num_experiments = int(1e04)\n",
    "num_tosses = 4\n",
    "p_w = 0\n",
    "start = time.time()\n",
    "for experiment in range(num_experiments):\n",
    "    tosses = 1\n",
    "    flag = True\n",
    "    while flag and tosses<=num_tosses:\n",
    "        tosses += 1\n",
    "        result = random.choice([1,2,3,4,5,6])\n",
    "        if result==1:\n",
    "            p_w += 1./num_experiments\n",
    "            flag = False\n",
    "end = time.time()\n",
    "p_l = 1 - p_w\n",
    "print(p_l)\n",
    "print(end-start)'''"
   ]
  },
  {
   "cell_type": "markdown",
   "metadata": {},
   "source": [
    "### Exercise 3.2"
   ]
  },
  {
   "cell_type": "markdown",
   "metadata": {},
   "source": [
    "What are the two mutually exclusive ways to lose game B? What is the probability\n",
    "of each? What is the numerical probability of losing game B?"
   ]
  },
  {
   "cell_type": "markdown",
   "metadata": {},
   "source": [
    "Either you get 0 aces, or 1 ace."
   ]
  },
  {
   "cell_type": "markdown",
   "metadata": {},
   "source": [
    "You get 0 aces with probability $5^8/6^8\\approx0.23$."
   ]
  },
  {
   "cell_type": "markdown",
   "metadata": {},
   "source": [
    "You get 1 aces with probability ${8\\choose 1}5^7/6^8\\approx0.37$."
   ]
  },
  {
   "cell_type": "markdown",
   "metadata": {},
   "source": [
    "Because these two events are mutually exclusive, the probability of losing game $B$ is $\\approx0.23+0.37=0.60$. $\\square$"
   ]
  },
  {
   "cell_type": "code",
   "execution_count": 5,
   "metadata": {},
   "outputs": [],
   "source": [
    "from scipy.special import binom"
   ]
  },
  {
   "cell_type": "code",
   "execution_count": 6,
   "metadata": {},
   "outputs": [
    {
     "name": "stdout",
     "output_type": "stream",
     "text": [
      "p_emp = 0.6064899999997473\n",
      "p_th = 0.6046769023395824\n",
      "Time to run experiments = 0.8037292957305908 seconds\n"
     ]
    }
   ],
   "source": [
    "# 'optimized' code\n",
    "num_experiments = int(1e05)\n",
    "num_tosses = 8\n",
    "p_w = 0\n",
    "start = time.time()\n",
    "for experiment in range(num_experiments):\n",
    "    tosses = 1\n",
    "    num_aces = 0\n",
    "    while tosses<=num_tosses:\n",
    "        tosses += 1\n",
    "        num_aces += int(random.choice([1,2,3,4,5,6])==1)\n",
    "        if num_aces==2:\n",
    "            p_w += 1./num_experiments\n",
    "            break\n",
    "            \n",
    "end = time.time()\n",
    "p_l = 1 - p_w\n",
    "print(\"p_emp = {0}\".format(p_l))\n",
    "p_th = binom(8,1)*5**7/6**8+5**8/6**8\n",
    "print(\"p_th = {0}\".format(p_th))\n",
    "print(\"Time to run experiments = {0} seconds\".format(end-start))"
   ]
  },
  {
   "cell_type": "markdown",
   "metadata": {},
   "source": [
    "### Exercise 3.3"
   ]
  },
  {
   "cell_type": "markdown",
   "metadata": {},
   "source": [
    "What are the three mutually exclusive ways to lose game C? What is the probability\n",
    "of each? What is the numerical probability of losing game C?"
   ]
  },
  {
   "cell_type": "markdown",
   "metadata": {},
   "source": [
    "Either you get 0 aces, 1 ace, or 2 aces."
   ]
  },
  {
   "cell_type": "markdown",
   "metadata": {},
   "source": [
    "You get 0 aces with probability $5^{12}/6^{12}\\approx0.11$."
   ]
  },
  {
   "cell_type": "markdown",
   "metadata": {},
   "source": [
    "You get 1 aces with probability ${12\\choose 1}5^{11}/6^{12}\\approx0.27$."
   ]
  },
  {
   "cell_type": "markdown",
   "metadata": {},
   "source": [
    "You get 1 aces with probability ${12\\choose 2}5^{10}/6^{12}\\approx0.30$."
   ]
  },
  {
   "cell_type": "markdown",
   "metadata": {},
   "source": [
    "Because these two events are mutually exclusive, the probability of losing game $B$ is $\\approx0.11+0.27+0.30=0.68$. $\\square$"
   ]
  },
  {
   "cell_type": "code",
   "execution_count": 7,
   "metadata": {},
   "outputs": [
    {
     "name": "stdout",
     "output_type": "stream",
     "text": [
      "p_emp = 0.6754699999998162\n",
      "p_th = 0.6774261948990752\n",
      "Time to run experiments = 1.3104729652404785 seconds\n"
     ]
    }
   ],
   "source": [
    "# 'optimized' code\n",
    "num_experiments = int(1e05)\n",
    "num_tosses = 12\n",
    "p_w = 0\n",
    "start = time.time()\n",
    "for experiment in range(num_experiments):\n",
    "    tosses = 1\n",
    "    num_aces = 0\n",
    "    while tosses<=num_tosses:\n",
    "        tosses += 1\n",
    "        num_aces += int(random.choice([1,2,3,4,5,6])==1)\n",
    "        if num_aces==3:\n",
    "            p_w += 1./num_experiments\n",
    "            break\n",
    "            \n",
    "end = time.time()\n",
    "p_l = 1 - p_w\n",
    "print(\"p_emp = {0}\".format(p_l))\n",
    "p_th = binom(12,2)*5**10/6**12 + binom(12,1)*5**11/6**12 + 5**12/6**12\n",
    "print(\"p_th = {0}\".format(p_th))\n",
    "print(\"Time to run experiments = {0} seconds\".format(end-start))"
   ]
  },
  {
   "cell_type": "markdown",
   "metadata": {},
   "source": [
    "### Exercise 3.4"
   ]
  },
  {
   "cell_type": "markdown",
   "metadata": {},
   "source": [
    "Which game has the smallest probability of losing (and therefore the largest prob-\n",
    "ability of winning)?"
   ]
  },
  {
   "cell_type": "markdown",
   "metadata": {},
   "source": [
    "Game A. $\\square$"
   ]
  },
  {
   "cell_type": "code",
   "execution_count": null,
   "metadata": {},
   "outputs": [],
   "source": []
  }
 ],
 "metadata": {
  "kernelspec": {
   "display_name": "Python 3",
   "language": "python",
   "name": "python3"
  },
  "language_info": {
   "codemirror_mode": {
    "name": "ipython",
    "version": 3
   },
   "file_extension": ".py",
   "mimetype": "text/x-python",
   "name": "python",
   "nbconvert_exporter": "python",
   "pygments_lexer": "ipython3",
   "version": "3.7.6"
  }
 },
 "nbformat": 4,
 "nbformat_minor": 4
}
