{
 "cells": [
  {
   "cell_type": "markdown",
   "metadata": {},
   "source": [
    "There are n balls numbered $1,...,n$ and $n$ bins numbered $1,...,n$. The balls are put into the bins at random, one per bin. What is the expected number of balls put in the matching bin? Explain your reasoning. (Hint: Let $E_i$ be the event that ball $i$ is in bin $i$. Use indicator functions.)"
   ]
  },
  {
   "cell_type": "markdown",
   "metadata": {},
   "source": [
    "Let\n",
    "\\begin{equation}\n",
    "X(\\omega):=\\sum_{i=1}^{n}\\mathbb{1}_{E_i}(\\omega).\n",
    "\\end{equation}\n",
    "Note that $X(\\omega)$ is exactly equal to the number of matching balls for the configuration $\\omega\\in\\Omega$.  Hence,\n",
    "\\begin{align}\n",
    "EX&=\\sum_{\\omega\\in\\Omega}p_{\\omega}\\sum_{i=1}^{n}\\mathbb{1}_{E_i}(\\omega)\\\\\n",
    "&=\\frac{1}{n!}\\sum_{\\omega\\in\\Omega}\\sum_{i=1}^{n}\\mathbb{1}_{E_i}(\\omega)\\\\\n",
    "&=\\frac{1}{n!}\\sum_{i=1}^{n}\\underbrace{\\sum_{\\omega\\in\\Omega}\\mathbb{1}_{E_i}(\\omega)}_{=(n-1)!}\\\\\n",
    "&=\\frac{1}{n!}\\sum_{i=1}^{n}(n-1)!\\\\\n",
    "&=\\frac{n(n-1)!}{n!}=1.\n",
    "\\end{align}"
   ]
  },
  {
   "cell_type": "code",
   "execution_count": 32,
   "metadata": {},
   "outputs": [],
   "source": [
    "from itertools import permutations\n",
    "from math import factorial"
   ]
  },
  {
   "cell_type": "code",
   "execution_count": 39,
   "metadata": {},
   "outputs": [
    {
     "name": "stdout",
     "output_type": "stream",
     "text": [
      "Expected number of matching balls for n=1: 1.0\n",
      "Expected number of matching balls for n=2: 1.0\n",
      "Expected number of matching balls for n=3: 0.9999999999999999\n",
      "Expected number of matching balls for n=4: 0.9999999999999999\n",
      "Expected number of matching balls for n=5: 1.0\n",
      "Expected number of matching balls for n=6: 0.9999999999999972\n"
     ]
    }
   ],
   "source": [
    "# empirical check\n",
    "for n in range(0,5+1):\n",
    "    # expectation value\n",
    "    exp = 0\n",
    "    for pi in permutations(list(range(0,n+1))):\n",
    "        # matching balls\n",
    "        matching = 0\n",
    "        for value in pi:\n",
    "            if pi[value] == value:\n",
    "                matching += 1\n",
    "        exp += matching/(factorial(n+1))\n",
    "    print(\"Expected number of matching balls for n={0}: {1}\".format(n+1, exp))"
   ]
  }
 ],
 "metadata": {
  "kernelspec": {
   "display_name": "Python 3",
   "language": "python",
   "name": "python3"
  },
  "language_info": {
   "codemirror_mode": {
    "name": "ipython",
    "version": 3
   },
   "file_extension": ".py",
   "mimetype": "text/x-python",
   "name": "python",
   "nbconvert_exporter": "python",
   "pygments_lexer": "ipython3",
   "version": "3.7.6"
  }
 },
 "nbformat": 4,
 "nbformat_minor": 4
}
