{
 "cells": [
  {
   "cell_type": "markdown",
   "metadata": {},
   "source": [
    "Exercise 2"
   ]
  },
  {
   "cell_type": "markdown",
   "metadata": {},
   "source": [
    "In 1693 Samuel Pepys2 posed the following question to Isaac Newton.\n",
    "\n",
    "In game A I throw 3 dice and win if I get at least 1 ace (an ace is the case where a face shows a single dot or pip). In game B I throw 6 dice and win if I get at least 2 aces. In game C I throw 9 dice and win if I get at least 3 aces. In which game are my chances best?\n",
    "Newton was unable to convince Pepys of the answer."
   ]
  },
  {
   "cell_type": "markdown",
   "metadata": {},
   "source": [
    "1. What is the numerical probability of losing in game A?"
   ]
  },
  {
   "cell_type": "markdown",
   "metadata": {},
   "source": [
    "Let $N$ be the number of sides in the die.  The only way one loses in game A is if all 3 throws results in one of the $N-1$ die that are not an ace, i.e.\n",
    "\\begin{equation}\n",
    "p_A=(N-1)^3/N^3.\\square\n",
    "\\end{equation}"
   ]
  },
  {
   "cell_type": "code",
   "execution_count": 1,
   "metadata": {},
   "outputs": [],
   "source": [
    "import random"
   ]
  },
  {
   "cell_type": "code",
   "execution_count": 2,
   "metadata": {},
   "outputs": [
    {
     "name": "stdout",
     "output_type": "stream",
     "text": [
      "Empirical p = 0.5725\n",
      "Theoretical p = 0.5787037037037037\n"
     ]
    }
   ],
   "source": [
    "# numbe of sides in the die\n",
    "N = 6\n",
    "sides = list(range(1,N+1))\n",
    "# start experiments\n",
    "counter = 0\n",
    "num_experiments = int(10**4)\n",
    "num_throws = 3\n",
    "for experiment in range(num_experiments):\n",
    "    outcomes = [int(random.choice(sides)!=1) for throw in range(num_throws)]\n",
    "    if sum(outcomes)==num_throws:\n",
    "        counter+=1\n",
    "empirical_p = counter/num_experiments\n",
    "print(\"Empirical p = {0}\".format(empirical_p))\n",
    "theoretical_p = (N-1)**num_throws/N**num_throws\n",
    "print(\"Theoretical p = {0}\".format(theoretical_p))"
   ]
  },
  {
   "cell_type": "markdown",
   "metadata": {},
   "source": [
    "2. What are the two mutually exclusive ways to lose game B? What is the probability of each? What is the numerical probability of losing game B?"
   ]
  },
  {
   "cell_type": "markdown",
   "metadata": {},
   "source": [
    "The two mututally exclusive ways of losing game B is if (i) you get 0 aces, and (ii) you get 1 ace.  The probability of (i) is simply $\\frac{(N-1)^6}{N^6}$, and (ii) is ${6\\choose 1}\\frac{(N-1)^5}{N^6}=6\\frac{(N-1)^5}{N^6}$, for a total of\n",
    "\\begin{equation}\n",
    "p_B=\\frac{(N-1)^6}{N^6}+6\\frac{(N-1)^5}{N^6}.\\square\n",
    "\\end{equation}"
   ]
  },
  {
   "cell_type": "code",
   "execution_count": 3,
   "metadata": {},
   "outputs": [
    {
     "name": "stdout",
     "output_type": "stream",
     "text": [
      "Empirical p = 0.2593\n",
      "Theoretical p = 0.26322445130315497\n"
     ]
    }
   ],
   "source": [
    "# numbe of sides in the die\n",
    "N = 6\n",
    "sides = list(range(1,N+1))\n",
    "# start experiments\n",
    "counter = 0\n",
    "num_experiments = int(10**4)\n",
    "num_throws = 6\n",
    "for experiment in range(num_experiments):\n",
    "    outcomes = [int(random.choice(sides)!=1) for throw in range(num_throws)]\n",
    "    if sum(outcomes)>=num_throws-1:\n",
    "        counter+=1\n",
    "empirical_p = counter/num_experiments\n",
    "print(\"Empirical p = {0}\".format(1-empirical_p))\n",
    "theoretical_p = (N-1)**num_throws/N**num_throws+num_throws*(N-1)**(num_throws-1)/N**num_throws\n",
    "print(\"Theoretical p = {0}\".format(1-theoretical_p))"
   ]
  },
  {
   "cell_type": "markdown",
   "metadata": {},
   "source": [
    "3. What are the three mutually exclusive ways to lose game C? What is the probability of each? What is the numerical probability of losing game C?"
   ]
  },
  {
   "cell_type": "markdown",
   "metadata": {},
   "source": [
    "The three mututally exclusive ways of losing game $C$ is if (i) you get 0 aces, (ii) you get 1 aces, and (iii) you get 2 aces .  The probability of (i) is simply $\\frac{(N-1)^9}{N^9}$, (ii) is ${9\\choose 1}\\frac{(N-1)^9}{N^9}=9\\frac{(N-1)^8}{N^9}$, and (iii) ${9\\choose 2}\\frac{(N-1)^7}{N^9}$, for a total of\n",
    "\\begin{equation}\n",
    "p_C=\\frac{(N-1)^9}{N^9} + 9\\frac{(N-1)^8}{N^9} + {9\\choose 2}\\frac{(N-1)^7}{N^9}.\\square\n",
    "\\end{equation}"
   ]
  },
  {
   "cell_type": "code",
   "execution_count": 4,
   "metadata": {},
   "outputs": [],
   "source": [
    "from scipy.special import binom"
   ]
  },
  {
   "cell_type": "code",
   "execution_count": 5,
   "metadata": {},
   "outputs": [
    {
     "name": "stdout",
     "output_type": "stream",
     "text": [
      "Empirical p = 0.17989999999999995\n",
      "Theoretical p = 0.17825959425646487\n"
     ]
    }
   ],
   "source": [
    "# numbe of sides in the die\n",
    "N = 6\n",
    "sides = list(range(1,N+1))\n",
    "# start experiments\n",
    "counter = 0\n",
    "num_experiments = int(10**4)\n",
    "num_throws = 9\n",
    "for experiment in range(num_experiments):\n",
    "    outcomes = [int(random.choice(sides)!=1) for throw in range(num_throws)]\n",
    "    if sum(outcomes)>=num_throws-2:\n",
    "        counter+=1\n",
    "empirical_p = counter/num_experiments\n",
    "print(\"Empirical p = {0}\".format(1-empirical_p))\n",
    "theoretical_p = (N-1)**(num_throws)/N**num_throws\n",
    "theoretical_p += num_throws*(N-1)**(num_throws-1)/N**num_throws\n",
    "theoretical_p += binom(num_throws, 2)*(N-1)**(num_throws-2)/N**num_throws\n",
    "print(\"Theoretical p = {0}\".format(1-theoretical_p))"
   ]
  },
  {
   "cell_type": "markdown",
   "metadata": {},
   "source": [
    "4. Which game has the smallest probability of losing (and therefore the largest prob- ability of winning)?"
   ]
  },
  {
   "cell_type": "markdown",
   "metadata": {},
   "source": [
    "Game $A$ has the smallest probability of losing, and therefore the largest probability of winning. $\\square$"
   ]
  },
  {
   "cell_type": "code",
   "execution_count": 1,
   "metadata": {},
   "outputs": [
    {
     "ename": "NameError",
     "evalue": "name 'random' is not defined",
     "output_type": "error",
     "traceback": [
      "\u001b[0;31m---------------------------------------------------------------------------\u001b[0m",
      "\u001b[0;31mNameError\u001b[0m                                 Traceback (most recent call last)",
      "\u001b[0;32m<ipython-input-1-a26865b1d512>\u001b[0m in \u001b[0;36m<module>\u001b[0;34m\u001b[0m\n\u001b[0;32m----> 1\u001b[0;31m \u001b[0mrandom\u001b[0m\u001b[0;34m.\u001b[0m\u001b[0mchoices\u001b[0m\u001b[0;34m(\u001b[0m\u001b[0;34m[\u001b[0m\u001b[0;36m1\u001b[0m\u001b[0;34m,\u001b[0m\u001b[0;36m2\u001b[0m\u001b[0;34m,\u001b[0m\u001b[0;36m3\u001b[0m\u001b[0;34m,\u001b[0m\u001b[0;36m4\u001b[0m\u001b[0;34m,\u001b[0m\u001b[0;36m5\u001b[0m\u001b[0;34m]\u001b[0m\u001b[0;34m,\u001b[0m \u001b[0;36m2\u001b[0m\u001b[0;34m)\u001b[0m\u001b[0;34m\u001b[0m\u001b[0;34m\u001b[0m\u001b[0m\n\u001b[0m",
      "\u001b[0;31mNameError\u001b[0m: name 'random' is not defined"
     ]
    }
   ],
   "source": []
  },
  {
   "cell_type": "code",
   "execution_count": null,
   "metadata": {},
   "outputs": [],
   "source": []
  }
 ],
 "metadata": {
  "kernelspec": {
   "display_name": "Python 3",
   "language": "python",
   "name": "python3"
  },
  "language_info": {
   "codemirror_mode": {
    "name": "ipython",
    "version": 3
   },
   "file_extension": ".py",
   "mimetype": "text/x-python",
   "name": "python",
   "nbconvert_exporter": "python",
   "pygments_lexer": "ipython3",
   "version": "3.7.6"
  }
 },
 "nbformat": 4,
 "nbformat_minor": 4
}
