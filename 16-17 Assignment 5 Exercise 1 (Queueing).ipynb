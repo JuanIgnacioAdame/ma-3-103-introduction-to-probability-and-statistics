{
 "cells": [
  {
   "cell_type": "markdown",
   "metadata": {},
   "source": [
    "#### Bonus/Preview: Poisson's Limit"
   ]
  },
  {
   "cell_type": "markdown",
   "metadata": {},
   "source": [
    "You can use the code below to see how quickly Poisson's limit becomes a good approximation."
   ]
  },
  {
   "cell_type": "code",
   "execution_count": 1,
   "metadata": {},
   "outputs": [],
   "source": [
    "from math import factorial, exp\n",
    "from scipy.special import binom"
   ]
  },
  {
   "cell_type": "code",
   "execution_count": 2,
   "metadata": {},
   "outputs": [
    {
     "name": "stdout",
     "output_type": "stream",
     "text": [
      "{4: 0.2109375, 8: 0.19634795188903809, 16: 0.18990620290762283, 32: 0.18686724606777627, 64: 0.18538998056833395, 128: 0.18466152613394005}\n",
      "{4: 0.18393972058572117, 8: 0.18393972058572117, 16: 0.18393972058572117, 32: 0.18393972058572117, 64: 0.18393972058572117, 128: 0.18393972058572117}\n"
     ]
    }
   ],
   "source": [
    "# fix \\mu, let p=\\mu/n, and let n become large\n",
    "# binomial(n,p) probability mass function\n",
    "u = 1\n",
    "# let k<n\n",
    "k = 2\n",
    "pmf = {}\n",
    "lim = {}\n",
    "for power in range(2,7+1):\n",
    "    n = 2**power\n",
    "    p = u/n\n",
    "    # exact pmf\n",
    "    pmf[n] = binom(n,k)*(p**k)*(1-p)**(n-k)\n",
    "    # poisson's limit\n",
    "    lim[n] = exp(-u)*u**k/factorial(k)\n",
    "print(pmf)\n",
    "print(lim)"
   ]
  },
  {
   "cell_type": "code",
   "execution_count": 3,
   "metadata": {},
   "outputs": [],
   "source": [
    "from matplotlib import pyplot as plt"
   ]
  },
  {
   "cell_type": "code",
   "execution_count": 4,
   "metadata": {},
   "outputs": [
    {
     "data": {
      "image/png": "[encoded data removed]",
      "text/plain": [
       "<Figure size 432x288 with 1 Axes>"
      ]
     },
     "metadata": {
      "needs_background": "light"
     },
     "output_type": "display_data"
    }
   ],
   "source": [
    "# clear figure\n",
    "plt.clf()\n",
    "\n",
    "# plot\n",
    "plt.plot(pmf.keys(), pmf.values(), label='Exact value')\n",
    "plt.plot(lim.keys(), lim.values(), label='Poisson\\'s limit')\n",
    "\n",
    "#x axis\n",
    "x_min=2**2\n",
    "x_max=2**7\n",
    "#x_title = \"Instance label, \" + r\"$i$\"\n",
    "#plt.xlabel(x_title, fontsize=12)\n",
    "#plt.xticks(x,x)\n",
    "plt.xscale('log', base=2)\n",
    "plt.xlim(left=x_min, right=x_max)\n",
    "\n",
    "#\n",
    "plt.legend()\n",
    "\n",
    "# show\n",
    "plt.show()"
   ]
  },
  {
   "cell_type": "markdown",
   "metadata": {},
   "source": [
    "### Begin actual Assignment"
   ]
  },
  {
   "cell_type": "markdown",
   "metadata": {},
   "source": [
    "Every day, a number of automobiles arrive in the morning at Casey’s Auto Body Shop. Casey has room for one car in the shop and up to two on the lot. If there is no room for a car, Casey is forced to send it to his competitor, Bob’s Body Boutique. Once a car has been dropped off at Casey’s it remains there until it is repaired. It takes a whole day to repair a car, but once repaired, it is gone by the following morning."
   ]
  },
  {
   "cell_type": "markdown",
   "metadata": {},
   "source": [
    "Assume the number of autos that arrive each morning follows a Poisson($\\mu$) distribution, and that the numbers on different days are independent."
   ]
  },
  {
   "cell_type": "markdown",
   "metadata": {},
   "source": [
    "The situation at Casey’s can be viewed as a five-state Markov chain, where the states are $0, 1, 2, 3, B$, where the numeric states refer to the total number of cars at Casey’s, and the state $B$ is that there are $3$ cars at Casey’s and he had to send some overflow to Bob."
   ]
  },
  {
   "cell_type": "markdown",
   "metadata": {},
   "source": [
    "### Exercise 5.1"
   ]
  },
  {
   "cell_type": "markdown",
   "metadata": {},
   "source": [
    "Draw the graph corresponding to this Markov chain."
   ]
  },
  {
   "cell_type": "markdown",
   "metadata": {},
   "source": [
    "I can't think of a reasonable way of drawing a Markov chain on Jupyter (i.e. one that doesn't take too much work), so I'll just list the relevant probabilities instead.  But first, let's just write the equation that details how this stochastic process evolves through time:\n",
    "\\begin{gather}\n",
    "X_{t+1}=\\max\\{0, X_t-1\\} + \\min\\{3, X\\},\\\\\n",
    "X\\sim\\textrm{Poisson}(\\mu). \\square\n",
    "\\end{gather}"
   ]
  },
  {
   "cell_type": "markdown",
   "metadata": {},
   "source": [
    "Now we write the probabilities:\n",
    "\\begin{align}\n",
    "&p_{00} = P(X=0) = p_{\\mu}(0)=e^{-\\mu}\\frac{\\mu^{0}}{0!}=e^{-\\mu},\\\\\n",
    "&p_{01} = e^{-\\mu}\\frac{\\mu^{1}}{1!} = e^{-\\mu}\\mu,\\\\\n",
    "&p_{02} = e^{-\\mu}\\frac{\\mu^{2}}{2!} = e^{-\\mu}\\frac{\\mu^{2}}{2},\\\\\n",
    "&p_{03} = e^{-\\mu}\\frac{\\mu^{3}}{3!} = e^{-\\mu}\\frac{\\mu^{3}}{6},\\\\\n",
    "&p_{0B} = 1 - \\sum_{k=0}^{3}p_{0k},\n",
    "\\end{align}"
   ]
  },
  {
   "cell_type": "markdown",
   "metadata": {},
   "source": [
    "\\begin{align}\n",
    "&p_{10} = e^{-\\mu}\\frac{\\mu^{0}}{0!}=e^{-\\mu},\\\\\n",
    "&p_{11} = e^{-\\mu}\\frac{\\mu^{1}}{1!} = e^{-\\mu}\\mu,\\\\\n",
    "&p_{12} = e^{-\\mu}\\frac{\\mu^{2}}{2!} = e^{-\\mu}\\frac{\\mu^{2}}{2},\\\\\n",
    "&p_{13} = e^{-\\mu}\\frac{\\mu^{3}}{3!} = e^{-\\mu}\\frac{\\mu^{3}}{6},\\\\\n",
    "&p_{1B} = 1 - \\sum_{k=0}^{3}p_{1k},\n",
    "\\end{align}"
   ]
  },
  {
   "cell_type": "markdown",
   "metadata": {},
   "source": [
    "\\begin{align}\n",
    "&p_{20} = 0,\\\\\n",
    "&p_{21} = e^{-\\mu}\\frac{\\mu^{0}}{0!}=e^{-\\mu},\\\\\n",
    "&p_{22} = e^{-\\mu}\\frac{\\mu^{1}}{1!} = e^{-\\mu}\\mu,\\\\\n",
    "&p_{23} = e^{-\\mu}\\frac{\\mu^{2}}{2!} = e^{-\\mu}\\frac{\\mu^{2}}{2},\\\\\n",
    "&p_{2B} = 1 - \\sum_{k=0}^{3}p_{2k},\n",
    "\\end{align}"
   ]
  },
  {
   "cell_type": "markdown",
   "metadata": {},
   "source": [
    "\\begin{align}\n",
    "&p_{30} = 0,\\\\\n",
    "&p_{31} = 0,\\\\\n",
    "&p_{32} = e^{-\\mu}\\frac{\\mu^{0}}{0!}=e^{-\\mu},\\\\\n",
    "&p_{33} = e^{-\\mu}\\frac{\\mu^{1}}{1!} = e^{-\\mu}\\mu,\\\\\n",
    "&p_{3B} = 1 - \\sum_{k=0}^{3}p_{3k},\n",
    "\\end{align}"
   ]
  },
  {
   "cell_type": "markdown",
   "metadata": {},
   "source": [
    "\\begin{align}\n",
    "&p_{B0} = 0,\\\\\n",
    "&p_{B1} = 0,\\\\\n",
    "&p_{B2} = e^{-\\mu}\\frac{\\mu^{0}}{0!}=e^{-\\mu},\\\\\n",
    "&p_{B3} = e^{-\\mu}\\frac{\\mu^{1}}{1!} = e^{-\\mu}\\mu,\\\\\n",
    "&p_{BB} = 1 - \\sum_{k=0}^{3}p_{Bk}.\n",
    "\\end{align}"
   ]
  },
  {
   "cell_type": "markdown",
   "metadata": {},
   "source": [
    "### Exercise 5.2"
   ]
  },
  {
   "cell_type": "markdown",
   "metadata": {},
   "source": [
    "Write down the transition matrix for this in terms of the Poisson pmf \n",
    "$p_{\\mu}(k)$."
   ]
  },
  {
   "cell_type": "markdown",
   "metadata": {},
   "source": [
    "See code immediately below. $\\square$"
   ]
  },
  {
   "cell_type": "code",
   "execution_count": 5,
   "metadata": {},
   "outputs": [],
   "source": [
    "from math import exp, factorial\n",
    "\n",
    "u = 0.2\n",
    "P2 = {}\n",
    "P2[(0,0)] = exp(-u)\n",
    "P2[(0,1)] = exp(-u) * u\n",
    "P2[(0,2)] = exp(-u) * u**2 / 2\n",
    "P2[(0,3)] = exp(-u) * u**3 / 6\n",
    "P2[(0,'B')] = 1 - (P2[(0,0)] + P2[(0,1)] + P2[(0,2)] + P2[(0,3)])\n",
    "\n",
    "P2[(1,0)] = exp(-u)\n",
    "P2[(1,1)] = exp(-u) * u\n",
    "P2[(1,2)] = exp(-u) * u**2 / 2\n",
    "P2[(1,3)] = exp(-u) * u**3 / 6\n",
    "P2[(1,'B')] = 1 - (P2[(1,0)] + P2[(1,1)] + P2[(1,2)] + P2[(1,3)])\n",
    "\n",
    "P2[(2,0)] = 0\n",
    "P2[(2,1)] = exp(-u)\n",
    "P2[(2,2)] = exp(-u) * u\n",
    "P2[(2,3)] = exp(-u) * u**2 / 2\n",
    "P2[(2,'B')] = 1 - (P2[(2,0)] + P2[(2,1)] + P2[(2,2)] + P2[(2,3)])\n",
    "\n",
    "P2[(3,0)] = 0\n",
    "P2[(3,1)] = 0\n",
    "P2[(3,2)] = exp(-u)\n",
    "P2[(3,3)] = exp(-u) * u\n",
    "P2[(3,'B')] = 1 - (P2[(3,0)] + P2[(3,1)] + P2[(3,2)] + P2[(3,3)])\n",
    "\n",
    "P2[('B',0)] = 0\n",
    "P2[('B',1)] = 0\n",
    "P2[('B',2)] = exp(-u)\n",
    "P2[('B',3)] = exp(-u) * u\n",
    "P2[('B','B')] = 1 - (P2[('B',0)] + P2[('B',1)] + P2[('B',2)] + P2[('B',3)])"
   ]
  },
  {
   "cell_type": "code",
   "execution_count": 6,
   "metadata": {},
   "outputs": [],
   "source": [
    "u = 1.5\n",
    "P15 = {}\n",
    "P15[(0,0)] = exp(-u)\n",
    "P15[(0,1)] = exp(-u) * u\n",
    "P15[(0,2)] = exp(-u) * u**2 / 2\n",
    "P15[(0,3)] = exp(-u) * u**3 / 6\n",
    "P15[(0,'B')] = 1 - (P15[(0,0)] + P15[(0,1)] + P15[(0,2)] + P15[(0,3)])\n",
    "\n",
    "P15[(1,0)] = exp(-u)\n",
    "P15[(1,1)] = exp(-u) * u\n",
    "P15[(1,2)] = exp(-u) * u**2 / 2\n",
    "P15[(1,3)] = exp(-u) * u**3 / 6\n",
    "P15[(1,'B')] = 1 - (P15[(1,0)] + P15[(1,1)] + P15[(1,2)] + P15[(1,3)])\n",
    "\n",
    "P15[(2,0)] = 0\n",
    "P15[(2,1)] = exp(-u)\n",
    "P15[(2,2)] = exp(-u) * u\n",
    "P15[(2,3)] = exp(-u) * u**2 / 2\n",
    "P15[(2,'B')] = 1 - (P15[(2,0)] + P15[(2,1)] + P15[(2,2)] + P15[(2,3)])\n",
    "\n",
    "P15[(3,0)] = 0\n",
    "P15[(3,1)] = 0\n",
    "P15[(3,2)] = exp(-u)\n",
    "P15[(3,3)] = exp(-u) * u\n",
    "P15[(3,'B')] = 1 - (P15[(3,0)] + P15[(3,1)] + P15[(3,2)] + P15[(3,3)])\n",
    "\n",
    "P15[('B',0)] = 0\n",
    "P15[('B',1)] = 0\n",
    "P15[('B',2)] = exp(-u)\n",
    "P15[('B',3)] = exp(-u) * u\n",
    "P15[('B','B')] = 1 - (P15[('B',0)] + P15[('B',1)] + P15[('B',2)] + P15[('B',3)])"
   ]
  },
  {
   "cell_type": "markdown",
   "metadata": {},
   "source": [
    "### Exercise 5.3"
   ]
  },
  {
   "cell_type": "markdown",
   "metadata": {},
   "source": [
    "For $\\mu = 0.2$ and $\\mu = 1.5$, write down the numeric transition matrix."
   ]
  },
  {
   "cell_type": "markdown",
   "metadata": {},
   "source": [
    "See code immediately below. $\\square$"
   ]
  },
  {
   "cell_type": "code",
   "execution_count": 7,
   "metadata": {},
   "outputs": [],
   "source": [
    "import numpy as np"
   ]
  },
  {
   "cell_type": "code",
   "execution_count": 8,
   "metadata": {},
   "outputs": [
    {
     "name": "stdout",
     "output_type": "stream",
     "text": [
      "For u=0.2,\n",
      "mat=[[8.18730753e-01 1.63746151e-01 1.63746151e-02 1.09164100e-03\n",
      "  5.68402408e-05]\n",
      " [8.18730753e-01 1.63746151e-01 1.63746151e-02 1.09164100e-03\n",
      "  5.68402408e-05]\n",
      " [0.00000000e+00 8.18730753e-01 1.63746151e-01 1.63746151e-02\n",
      "  1.14848124e-03]\n",
      " [0.00000000e+00 0.00000000e+00 8.18730753e-01 1.63746151e-01\n",
      "  1.75230963e-02]\n",
      " [0.00000000e+00 0.00000000e+00 8.18730753e-01 1.63746151e-01\n",
      "  1.75230963e-02]]\n"
     ]
    }
   ],
   "source": [
    "temp = []\n",
    "for i in [0,1,2,3,'B']:\n",
    "    temp.append([P2[(i,j)] for j in [0,1,2,3,'B']])\n",
    "mat2 = np.array(temp)\n",
    "print(\"For u=0.2,\\nmat={0}\".format(mat2))"
   ]
  },
  {
   "cell_type": "code",
   "execution_count": 9,
   "metadata": {},
   "outputs": [
    {
     "name": "stdout",
     "output_type": "stream",
     "text": [
      "For u=1.5,\n",
      "mat=[[0.22313016 0.33469524 0.25102143 0.12551072 0.06564245]\n",
      " [0.22313016 0.33469524 0.25102143 0.12551072 0.06564245]\n",
      " [0.         0.22313016 0.33469524 0.25102143 0.19115317]\n",
      " [0.         0.         0.22313016 0.33469524 0.4421746 ]\n",
      " [0.         0.         0.22313016 0.33469524 0.4421746 ]]\n"
     ]
    }
   ],
   "source": [
    "temp = []\n",
    "for i in [0,1,2,3,'B']:\n",
    "    temp.append([P15[(i,j)] for j in [0,1,2,3,'B']])\n",
    "mat15 = np.array(temp)\n",
    "print(\"For u=1.5,\\nmat={0}\".format(mat15))"
   ]
  },
  {
   "cell_type": "markdown",
   "metadata": {},
   "source": [
    "### Exercise 5.4"
   ]
  },
  {
   "cell_type": "markdown",
   "metadata": {},
   "source": [
    "Today, Casey has no cars. For $\\mu = 0.2$ and $\\mu = 1.5$, what is the numeric probability of each state in 30 days."
   ]
  },
  {
   "cell_type": "markdown",
   "metadata": {},
   "source": [
    "See code below. $\\square$"
   ]
  },
  {
   "cell_type": "code",
   "execution_count": 10,
   "metadata": {},
   "outputs": [
    {
     "name": "stdout",
     "output_type": "stream",
     "text": [
      "For u=0.2, the probability distribution is:\n",
      "[8.00117152e-01 1.77148144e-01 2.09161728e-02 1.70709454e-03\n",
      " 1.11436115e-04]\n"
     ]
    }
   ],
   "source": [
    "num_days = 30\n",
    "new_mat2 = np.linalg.matrix_power(mat2, num_days)\n",
    "old_dist = np.array([1,0,0,0,0])\n",
    "new_dist2 = np.matmul(old_dist, new_mat2)\n",
    "print(\"For u=0.2, the probability distribution is:\")\n",
    "print(new_dist2)\n",
    "#print(sum(new_dist2))"
   ]
  },
  {
   "cell_type": "code",
   "execution_count": 11,
   "metadata": {},
   "outputs": [
    {
     "name": "stdout",
     "output_type": "stream",
     "text": [
      "For u=1.5, the probability distribution is:\n",
      "[0.02873365 0.1000416  0.25519243 0.28640452 0.3296278 ]\n"
     ]
    }
   ],
   "source": [
    "num_days = 30\n",
    "new_mat15 = np.linalg.matrix_power(mat15, num_days)\n",
    "#print(new_mat15)\n",
    "old_dist = np.array([1,0,0,0,0])\n",
    "new_dist15 = np.matmul(old_dist, new_mat15)\n",
    "print(\"For u=1.5, the probability distribution is:\")\n",
    "print(new_dist15)\n",
    "#print(sum(new_dist15))"
   ]
  },
  {
   "cell_type": "markdown",
   "metadata": {},
   "source": [
    "### Exercise 5.5"
   ]
  },
  {
   "cell_type": "markdown",
   "metadata": {},
   "source": [
    "For $\\mu = 0.2$ and $\\mu = 1.5$, numerically find the steady-state (invariant) distribution of the Markov chain."
   ]
  },
  {
   "cell_type": "markdown",
   "metadata": {},
   "source": [
    "See code below.  The invariant distributions are the last distributions printed out in each cell.  Note that you can change the initial distribution and this will not change.  This is expected, according to Theorem 15.6.1. $\\square$"
   ]
  },
  {
   "cell_type": "code",
   "execution_count": 12,
   "metadata": {},
   "outputs": [
    {
     "name": "stdout",
     "output_type": "stream",
     "text": [
      "For u=0.2, the probability distribution after 2 days is:\n",
      "[8.04384055e-01 1.74283212e-01 1.97092582e-02 1.52869947e-03\n",
      " 9.47751095e-05]\n",
      "For u=0.2, the probability distribution after 4 days is:\n",
      "[8.00435856e-01 1.76938127e-01 2.08228498e-02 1.69305524e-03\n",
      " 1.10112269e-04]\n",
      "For u=0.2, the probability distribution after 8 days is:\n",
      "[8.00119095e-01 1.77146865e-01 2.09156032e-02 1.70700881e-03\n",
      " 1.11428028e-04]\n",
      "For u=0.2, the probability distribution after 16 days is:\n",
      "[8.00117152e-01 1.77148144e-01 2.09161728e-02 1.70709454e-03\n",
      " 1.11436114e-04]\n",
      "For u=0.2, the probability distribution after 32 days is:\n",
      "[8.00117152e-01 1.77148144e-01 2.09161728e-02 1.70709454e-03\n",
      " 1.11436115e-04]\n"
     ]
    }
   ],
   "source": [
    "# The invariant\n",
    "for p in range(1,5+1):\n",
    "    num_days = 2**p\n",
    "    new_mat2 = np.linalg.matrix_power(mat2, num_days)\n",
    "    old_dist = np.array([1,0,0,0,0])\n",
    "    new_dist2 = np.matmul(old_dist, new_mat2)\n",
    "    print(\"For u=0.2, the probability distribution after {0} days is:\".format(num_days))\n",
    "    print(new_dist2)\n",
    "    #print(sum(new_dist2))"
   ]
  },
  {
   "cell_type": "code",
   "execution_count": 13,
   "metadata": {},
   "outputs": [
    {
     "name": "stdout",
     "output_type": "stream",
     "text": [
      "For u=1.5, the probability distribution after 2 days is:\n",
      "[0.12446767 0.24271196 0.26669384 0.19700288 0.16912365]\n",
      "For u=1.5, the probability distribution after 4 days is:\n",
      "[0.0589799  0.14718097 0.25985821 0.25738492 0.27659601]\n",
      "For u=1.5, the probability distribution after 8 days is:\n",
      "[0.03195377 0.10506711 0.25569261 0.28331241 0.3239741 ]\n",
      "For u=1.5, the probability distribution after 16 days is:\n",
      "[0.02877021 0.10009865 0.25519811 0.28636942 0.32956361]\n",
      "For u=1.5, the probability distribution after 32 days is:\n",
      "[0.02873364 0.10004158 0.25519243 0.28640453 0.32962782]\n"
     ]
    }
   ],
   "source": [
    "# The invariant\n",
    "for p in range(1,5+1):\n",
    "    num_days = 2**p\n",
    "    new_mat15 = np.linalg.matrix_power(mat15, num_days)\n",
    "    old_dist = np.array([1,0,0,0,0])\n",
    "    new_dist15 = np.matmul(old_dist, new_mat15)\n",
    "    print(\"For u=1.5, the probability distribution after {0} days is:\".format(num_days))\n",
    "    print(new_dist15)\n",
    "    #print(sum(new_dist2))"
   ]
  },
  {
   "cell_type": "markdown",
   "metadata": {},
   "source": [
    "### Exercise 5.6"
   ]
  },
  {
   "cell_type": "markdown",
   "metadata": {},
   "source": [
    "For $\\mu = 0.2$ and $\\mu = 1.5$, what is the steady-state probability that Casey will send Bob some customers on April 1. (Hint: It’s the probability of state B under the invariant distribution.)"
   ]
  },
  {
   "cell_type": "markdown",
   "metadata": {},
   "source": [
    "See code above.  The probability that Casey sends Bob some customers on April 1 is $\\approx1.11\\times10^{-4}$ if $\\mu=0.2$, and $\\approx0.33$ if $\\mu=1.5$. $\\square$"
   ]
  },
  {
   "cell_type": "markdown",
   "metadata": {},
   "source": [
    "### Note to self.  The above seems intuitively correct, but maybe I could empirically check by running a more primitive simulation at some point."
   ]
  }
 ],
 "metadata": {
  "kernelspec": {
   "display_name": "Python 3",
   "language": "python",
   "name": "python3"
  },
  "language_info": {
   "codemirror_mode": {
    "name": "ipython",
    "version": 3
   },
   "file_extension": ".py",
   "mimetype": "text/x-python",
   "name": "python",
   "nbconvert_exporter": "python",
   "pygments_lexer": "ipython3",
   "version": "3.7.6"
  }
 },
 "nbformat": 4,
 "nbformat_minor": 4
}
