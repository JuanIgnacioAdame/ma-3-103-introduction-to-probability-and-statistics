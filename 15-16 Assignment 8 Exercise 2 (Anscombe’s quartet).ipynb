{
 "cells": [
  {
   "cell_type": "markdown",
   "metadata": {},
   "source": [
    "Francis Anscombe [1] created and presented four small sets of data. You can find them on the course web site at http://www.math. caltech.edu/%7E2015-16/2term/ma003/Data/Anscombe1.txt, Anscombe2, Anscombe3, and Anscombe4. Each data set has 11 observations on two variates labeled X and Y . (Each file has a header line.)  For each data set,"
   ]
  },
  {
   "cell_type": "markdown",
   "metadata": {},
   "source": [
    "### Exercise 2.1"
   ]
  },
  {
   "cell_type": "markdown",
   "metadata": {},
   "source": [
    "Compute the sample mean and standard deviation of $X$ and $Y$."
   ]
  },
  {
   "cell_type": "markdown",
   "metadata": {},
   "source": [
    "See code below. $\\square$"
   ]
  },
  {
   "cell_type": "code",
   "execution_count": 60,
   "metadata": {},
   "outputs": [
    {
     "name": "stdout",
     "output_type": "stream",
     "text": [
      "11\n"
     ]
    }
   ],
   "source": [
    "import numpy as np\n",
    "print(x[1].size)"
   ]
  },
  {
   "cell_type": "code",
   "execution_count": 10,
   "metadata": {},
   "outputs": [],
   "source": [
    "# Anscombe data\n",
    "x = {}\n",
    "y = {}\n",
    "\n",
    "# Anscombe 1\n",
    "x[1] = np.array([10.0, 8.0, 13.0, 9.0, 11.0, 14.0, 6.0, 4.0, 12.0, 7.0, 5.0])\n",
    "y[1] = np.array([8.04, 6.95, 7.58, 8.81, 8.33, 9.96, 7.24, 4.26, 10.84, 4.82, 5.68])\n",
    "\n",
    "# Anscombe 2\n",
    "x[2] =  x[1]\n",
    "y[2] = np.array([9.14, 8.14, 8.74, 8.77, 9.26, 8.10, 6.13, 3.10, 9.13, 7.26, 4.74])\n",
    "\n",
    "# Anscombe 3\n",
    "x[3] = x[1]\n",
    "y[3] = np.array([7.46, 6.77, 12.74, 7.11, 7.81, 8.84, 6.08, 5.39, 8.15, 6.42, 5.73])\n",
    "\n",
    "# Anscombe 4\n",
    "x[4] = np.array([8.0, 8.0, 8.0, 8.0, 8.0, 8.0, 8.0, 19.0, 8.0, 8.0, 8.0])\n",
    "y[4] = np.array([6.58, 5.76, 7.71, 8.84, 8.47, 7.04, 5.25, 12.50, 5.56, 7.91, 6.89])"
   ]
  },
  {
   "cell_type": "code",
   "execution_count": 61,
   "metadata": {},
   "outputs": [
    {
     "name": "stdout",
     "output_type": "stream",
     "text": [
      "Mean x1 = 9.0\n",
      "SD x1 = 3.3166247903554\n",
      "\n",
      "\n",
      "Mean y1 = 7.500909090909093\n",
      "SD y1 = 2.031568135925815\n",
      "\n",
      "\n",
      "Mean x2 = 9.0\n",
      "SD x2 = 3.3166247903554\n",
      "\n",
      "\n",
      "Mean y2 = 7.50090909090909\n",
      "SD y2 = 2.0316567355016177\n",
      "\n",
      "\n",
      "Mean x3 = 9.0\n",
      "SD x3 = 3.3166247903554\n",
      "\n",
      "\n",
      "Mean y3 = 7.5\n",
      "SD y3 = 2.030423601123667\n",
      "\n",
      "\n",
      "Mean x4 = 9.0\n",
      "SD x4 = 3.3166247903553994\n",
      "\n",
      "\n",
      "Mean y4 = 7.500909090909091\n",
      "SD y4 = 2.0305785113876023\n",
      "\n",
      "\n"
     ]
    }
   ],
   "source": [
    "for i in range(1, 4+1):\n",
    "    print(\"Mean x{0} = {1}\".format(i, np.mean(x[i])))\n",
    "    print(\"SD x{0} = {1}\".format(i, np.std(x[i]*np.sqrt(x[i].size)/np.sqrt(x[i].size-1))))\n",
    "    print(\"\\n\")\n",
    "    print(\"Mean y{0} = {1}\".format(i, np.mean(y[i])))\n",
    "    print(\"SD y{0} = {1}\".format(i, np.std(y[i])*np.sqrt(y[i].size)/np.sqrt(y[i].size-1)))\n",
    "    print(\"\\n\")"
   ]
  },
  {
   "cell_type": "markdown",
   "metadata": {},
   "source": [
    "### Exericse 2.2"
   ]
  },
  {
   "cell_type": "markdown",
   "metadata": {},
   "source": [
    "Regress $Y$ on $X$ and a constant term."
   ]
  },
  {
   "cell_type": "markdown",
   "metadata": {},
   "source": [
    "#### B_OLS"
   ]
  },
  {
   "cell_type": "code",
   "execution_count": 44,
   "metadata": {},
   "outputs": [],
   "source": [
    "# Compute B_OLS\n",
    "X = {}\n",
    "B = {}\n",
    "# column of 1s for constant term\n",
    "a = np.full(shape=(11,1), fill_value=1)\n",
    "for i in range(1, 4+1):\n",
    "    X[i] = np.column_stack(tup=(a, x[i].T))\n",
    "    B[i] = np.linalg.inv(X[i].T.dot(X[i])).dot(X[i].T).dot(y[i])"
   ]
  },
  {
   "cell_type": "code",
   "execution_count": 45,
   "metadata": {},
   "outputs": [
    {
     "name": "stdout",
     "output_type": "stream",
     "text": [
      "{1: array([3.00009091, 0.50009091]), 2: array([3.00090909, 0.5       ]), 3: array([3.00245455, 0.49972727]), 4: array([3.00172727, 0.49990909])}\n"
     ]
    }
   ],
   "source": [
    "print(B)"
   ]
  },
  {
   "cell_type": "markdown",
   "metadata": {},
   "source": [
    "#### Error term"
   ]
  },
  {
   "cell_type": "code",
   "execution_count": 59,
   "metadata": {},
   "outputs": [
    {
     "name": "stdout",
     "output_type": "stream",
     "text": [
      "3.7070864570441304\n",
      "3.709809968178963\n"
     ]
    }
   ],
   "source": [
    "# Compute the error term\n",
    "E = {}\n",
    "for i in range(1, 4+1):\n",
    "    E[i] = y[i] - X[i].dot(B[i])\n",
    "#print(np.linalg.norm(E[i]))\n",
    "#print(np.sqrt(E[1].T.dot(E[1])))"
   ]
  },
  {
   "cell_type": "markdown",
   "metadata": {},
   "source": [
    "#### Residual standard errors"
   ]
  },
  {
   "cell_type": "code",
   "execution_count": 64,
   "metadata": {},
   "outputs": [
    {
     "name": "stdout",
     "output_type": "stream",
     "text": [
      "{1: 1.2366033227263211, 2: 1.2372142053415771, 3: 1.2363113513899957, 4: 1.2356954856813769}\n"
     ]
    }
   ],
   "source": [
    "# Residual standard error\n",
    "S = {}\n",
    "# We have N=11 observations in our case\n",
    "N = 11\n",
    "# There are 2 variates in our case\n",
    "K = 2\n",
    "for i in range(1, 4+1):\n",
    "    S[i] = np.sqrt(E[i].T.dot(E[i]))/np.sqrt(N-K)\n",
    "#print(np.sqrt(N-K))\n",
    "#print(np.sqrt(E[1].T.dot(E[1])))\n",
    "print(S)"
   ]
  },
  {
   "cell_type": "markdown",
   "metadata": {},
   "source": [
    "#### t-statistics"
   ]
  },
  {
   "cell_type": "code",
   "execution_count": 103,
   "metadata": {},
   "outputs": [
    {
     "name": "stdout",
     "output_type": "stream",
     "text": [
      "{1: [2.6673478276243574, 4.241455288892834], 2: [2.6667578844468824, 4.238590389772446], 3: [2.6700797366051066, 4.239372102496929], 4: [2.6707634084798464, 4.24302818859164]}\n"
     ]
    }
   ],
   "source": [
    "# Compute t-statistics.  The null hypothese are B\\equiv 0\n",
    "T = {}\n",
    "for i in range(1, 4+1):\n",
    "    temp = []\n",
    "    for k in range(0, 1+1):\n",
    "        t = B[i][k]/(S[i] * np.sqrt(np.linalg.inv(X[i].T.dot(X[i]))[k][k]))\n",
    "        #print(S[i] * np.sqrt(np.linalg.inv(X[i].T.dot(X[i]))[k][k]))\n",
    "        temp.append(t)\n",
    "    T[i] = temp\n",
    "#print(T)\n",
    "print(T)"
   ]
  },
  {
   "cell_type": "markdown",
   "metadata": {},
   "source": [
    "#### $p$-value of t-statistic"
   ]
  },
  {
   "cell_type": "code",
   "execution_count": 104,
   "metadata": {},
   "outputs": [],
   "source": [
    "from scipy.stats import t"
   ]
  },
  {
   "cell_type": "code",
   "execution_count": 105,
   "metadata": {},
   "outputs": [],
   "source": [
    "# initiate rv with t(N-K) distribution\n",
    "a = t(df=9)"
   ]
  },
  {
   "cell_type": "code",
   "execution_count": 106,
   "metadata": {},
   "outputs": [
    {
     "name": "stdout",
     "output_type": "stream",
     "text": [
      "0.025734051399162627\n"
     ]
    }
   ],
   "source": [
    "print(2*(1-a.cdf(T[1][0])))"
   ]
  },
  {
   "cell_type": "markdown",
   "metadata": {},
   "source": [
    "#### Do we reject the null hypotheses that $\\beta_0,\\beta_1=0$?"
   ]
  },
  {
   "cell_type": "markdown",
   "metadata": {},
   "source": [
    "From Lecture 24, we reject the null hypothesis if\n",
    "\\begin{equation}\n",
    "|t|>t_{\\alpha/2,N-K}.\n",
    "\\end{equation}\n",
    "Let us use $\\alpha=0.05$.  Furthermore, in our case, $N-K=11-2=9$.  Therefore, we need the value of $t_{0.025,9}$.  From Lecture 20, we use the approximation\n",
    "\\begin{equation}\n",
    "t_{0.025,9}\\approx=2.27.\n",
    "\\end{equation}\n",
    "All of our $t$-statistics are greater than this, so we can reject all the null hypotheses. $\\square$"
   ]
  },
  {
   "cell_type": "markdown",
   "metadata": {},
   "source": [
    "#### $R^2$"
   ]
  },
  {
   "cell_type": "code",
   "execution_count": 77,
   "metadata": {},
   "outputs": [
    {
     "name": "stdout",
     "output_type": "stream",
     "text": [
      "{1: 0.666542459508775, 2: 0.6662420337274844, 3: 0.6663240410665593, 4: 0.6667072568984653}\n"
     ]
    }
   ],
   "source": [
    "R2 = {}\n",
    "for i in range(1, 4+1):\n",
    "    R2[i] = 1 - ( E[i].T.dot(E[i])) / (np.var(y[i])*y[i].size)\n",
    "    # The caltech notes use the definition below, and they disagree...\n",
    "    # R2[i] = B[i].T.dot(X[i].T).dot(X[i]).dot(B[i]) / (y[i].T.dot(y[i]))\n",
    "print(R2)"
   ]
  },
  {
   "cell_type": "markdown",
   "metadata": {},
   "source": [
    "#### Adjusted $R^2$"
   ]
  },
  {
   "cell_type": "code",
   "execution_count": 74,
   "metadata": {},
   "outputs": [
    {
     "name": "stdout",
     "output_type": "stream",
     "text": [
      "{1: 0.6294916216764166, 2: 0.6291578152527604, 3: 0.6292489345183991, 4: 0.6296747298871836}\n"
     ]
    }
   ],
   "source": [
    "adjR2 = {}\n",
    "for i in range(1, 4+1):\n",
    "    adjR2[i] = 1 - (N-1)/(N-K)*(1-R2[i])\n",
    "print(adjR2)"
   ]
  },
  {
   "cell_type": "markdown",
   "metadata": {},
   "source": [
    "#### F statistics"
   ]
  },
  {
   "cell_type": "code",
   "execution_count": 65,
   "metadata": {},
   "outputs": [
    {
     "name": "stdout",
     "output_type": "stream",
     "text": [
      "{1: [7.11474443353238, 17.989942967677], 2: [7.111597614259612, 17.965648492271335], 3: [7.129325799829198, 17.972275823429232], 4: [7.132977184074889, 18.003288209183246]}\n"
     ]
    }
   ],
   "source": [
    "# Compute t-statistics.  The null hypothese are B\\equiv 0\n",
    "F = {}\n",
    "for i in range(1, 4+1):\n",
    "    temp = []\n",
    "    for j in range(0, 1+1):\n",
    "        f = B[i][j]**2 * np.linalg.inv(X[i].T.dot(X[i]))[j][j]**(-1) / S[i]**2\n",
    "        #print(S[i] * np.sqrt(np.linalg.inv(X[i].T.dot(X[i]))[k][k]))\n",
    "        temp.append(f)\n",
    "    F[i] = temp\n",
    "print(F)"
   ]
  },
  {
   "cell_type": "markdown",
   "metadata": {},
   "source": [
    "#### $p$-value of $F$-statistic"
   ]
  },
  {
   "cell_type": "code",
   "execution_count": 115,
   "metadata": {},
   "outputs": [],
   "source": [
    "from scipy.stats import f"
   ]
  },
  {
   "cell_type": "code",
   "execution_count": 116,
   "metadata": {},
   "outputs": [],
   "source": [
    "a = f(dfn=K-1, dfd=N-K)"
   ]
  },
  {
   "cell_type": "code",
   "execution_count": 124,
   "metadata": {},
   "outputs": [
    {
     "name": "stdout",
     "output_type": "stream",
     "text": [
      "0.0021646023471971754\n"
     ]
    }
   ],
   "source": [
    "print(1-a.cdf(F[4][1]))"
   ]
  },
  {
   "cell_type": "markdown",
   "metadata": {},
   "source": [
    "#### Sum of squared residuals"
   ]
  },
  {
   "cell_type": "code",
   "execution_count": 125,
   "metadata": {},
   "outputs": [
    {
     "name": "stdout",
     "output_type": "stream",
     "text": [
      "13.76269\n",
      "13.776290909090909\n",
      "13.756191818181815\n",
      "13.742490000000004\n"
     ]
    }
   ],
   "source": [
    "for i in range(1,4+1):\n",
    "    print(E[i].T.dot(E[i]))"
   ]
  },
  {
   "cell_type": "markdown",
   "metadata": {},
   "source": [
    "#### Normal residuals?"
   ]
  },
  {
   "cell_type": "markdown",
   "metadata": {},
   "source": [
    "Below we perform a Kolmogorov-Smirnov test.  We fail to reject the null hypothesis (that they are normally distributed) for all 4 data sets. $\\square$"
   ]
  },
  {
   "cell_type": "code",
   "execution_count": 148,
   "metadata": {},
   "outputs": [],
   "source": [
    "from scipy import stats"
   ]
  },
  {
   "cell_type": "code",
   "execution_count": 211,
   "metadata": {},
   "outputs": [
    {
     "name": "stdout",
     "output_type": "stream",
     "text": [
      "KstestResult(statistic=0.17225244738747347, pvalue=0.8998580721306306)\n",
      "KstestResult(statistic=0.18478858959658395, pvalue=0.8467902485983785)\n",
      "KstestResult(statistic=0.28571794195559186, pvalue=0.2747576120749421)\n",
      "KstestResult(statistic=0.12377463974575498, pvalue=0.9959596954934722)\n"
     ]
    }
   ],
   "source": [
    "K = 2\n",
    "for i in range(1, 4+1):\n",
    "    e = E[i]\n",
    "    N = e.size\n",
    "    # u_null = 0\n",
    "    u = 0\n",
    "    # We don't know \\sigma!  So we have to estimate it...\n",
    "    # We estimate it as as the residual standard error\n",
    "    s = np.sqrt(e.T.dot(e)/(N-K))\n",
    "    # print(s)\n",
    "    # null distribution...with estimated s!\n",
    "    G = stats.norm(loc=u, scale=s)\n",
    "    # perform k test\n",
    "    print(stats.kstest(rvs=e, cdf=G.cdf, alternative='two-sided'))"
   ]
  },
  {
   "cell_type": "markdown",
   "metadata": {},
   "source": [
    "### Exercise 2.3"
   ]
  },
  {
   "cell_type": "markdown",
   "metadata": {},
   "source": [
    "Do these results allow you to conclude anything about the similarities and/or differences in the relationship between $X$ and $Y$ in these different data sets?"
   ]
  },
  {
   "cell_type": "markdown",
   "metadata": {},
   "source": [
    "No.  They're basically all the same. $\\square$"
   ]
  },
  {
   "cell_type": "markdown",
   "metadata": {},
   "source": [
    "### Exercise 2.4"
   ]
  },
  {
   "cell_type": "code",
   "execution_count": 129,
   "metadata": {},
   "outputs": [],
   "source": [
    "from matplotlib import pyplot as plt"
   ]
  },
  {
   "cell_type": "code",
   "execution_count": 145,
   "metadata": {},
   "outputs": [
    {
     "data": {
      "image/png": "[encoded data removed]",
      "text/plain": [
       "<Figure size 432x288 with 1 Axes>"
      ]
     },
     "metadata": {
      "needs_background": "light"
     },
     "output_type": "display_data"
    }
   ],
   "source": [
    "plt.clf()\n",
    "# data 1\n",
    "plt.scatter(x[1], y[1])\n",
    "# regression line 1\n",
    "x1 = [4, 14]\n",
    "y1 = [B[1][0]+x1[0]*B[1][1], B[1][0]+x1[1]*B[1][1]]\n",
    "plt.plot(x1, y1)\n",
    "plt.show()"
   ]
  },
  {
   "cell_type": "code",
   "execution_count": 144,
   "metadata": {},
   "outputs": [
    {
     "data": {
      "image/png": "[encoded data removed]",
      "text/plain": [
       "<Figure size 432x288 with 1 Axes>"
      ]
     },
     "metadata": {
      "needs_background": "light"
     },
     "output_type": "display_data"
    }
   ],
   "source": [
    "plt.clf()\n",
    "# data 2\n",
    "plt.scatter(x[2], y[2])\n",
    "# regression line 2\n",
    "x2 = [4, 14]\n",
    "y2 = [B[2][0]+x2[0]*B[2][1], B[2][0]+x2[1]*B[2][1]]\n",
    "plt.plot(x2, y2)\n",
    "plt.show()"
   ]
  },
  {
   "cell_type": "code",
   "execution_count": 143,
   "metadata": {},
   "outputs": [
    {
     "data": {
      "image/png": "[encoded data removed]",
      "text/plain": [
       "<Figure size 432x288 with 1 Axes>"
      ]
     },
     "metadata": {
      "needs_background": "light"
     },
     "output_type": "display_data"
    }
   ],
   "source": [
    "plt.clf()\n",
    "# data 3\n",
    "plt.scatter(x[3], y[3])\n",
    "# regression line 3\n",
    "x3 = [4, 14]\n",
    "y3 = [B[3][0]+x3[0]*B[3][1], B[3][0]+x3[1]*B[3][1]]\n",
    "plt.plot(x3, y3)\n",
    "plt.show()"
   ]
  },
  {
   "cell_type": "code",
   "execution_count": 142,
   "metadata": {},
   "outputs": [
    {
     "data": {
      "image/png": "[encoded data removed]",
      "text/plain": [
       "<Figure size 432x288 with 1 Axes>"
      ]
     },
     "metadata": {
      "needs_background": "light"
     },
     "output_type": "display_data"
    }
   ],
   "source": [
    "plt.clf()\n",
    "# data 4\n",
    "plt.scatter(x[4], y[4])\n",
    "# regression line 4\n",
    "x4 = [4, 20]\n",
    "y4 = [B[4][0]+x4[0]*B[4][1], B[4][0]+x4[1]*B[4][1]]\n",
    "plt.plot(x4, y4)\n",
    "plt.show()"
   ]
  },
  {
   "cell_type": "markdown",
   "metadata": {},
   "source": [
    "### Exercise 2.5"
   ]
  },
  {
   "cell_type": "markdown",
   "metadata": {},
   "source": [
    "For each data set, create a Normal $Q-Q$ plot of the residuals, and perform a Kolmogorov–Smirnov test for normality of the residuals. For which data sets you reject the hypothesis?"
   ]
  },
  {
   "cell_type": "code",
   "execution_count": 247,
   "metadata": {},
   "outputs": [
    {
     "data": {
      "image/png": "[encoded data removed]",
      "text/plain": [
       "<Figure size 432x288 with 1 Axes>"
      ]
     },
     "metadata": {
      "needs_background": "light"
     },
     "output_type": "display_data"
    },
    {
     "data": {
      "image/png": "[encoded data removed]",
      "text/plain": [
       "<Figure size 432x288 with 1 Axes>"
      ]
     },
     "metadata": {
      "needs_background": "light"
     },
     "output_type": "display_data"
    },
    {
     "data": {
      "image/png": "[encoded data removed]",
      "text/plain": [
       "<Figure size 432x288 with 1 Axes>"
      ]
     },
     "metadata": {
      "needs_background": "light"
     },
     "output_type": "display_data"
    },
    {
     "data": {
      "image/png": "[encoded data removed]",
      "text/plain": [
       "<Figure size 432x288 with 1 Axes>"
      ]
     },
     "metadata": {
      "needs_background": "light"
     },
     "output_type": "display_data"
    }
   ],
   "source": [
    "for j in range(1, 4+1):\n",
    "    #\n",
    "    # empirical cdf and quantiles\n",
    "    #\n",
    "    e = sorted(list(E[j]))\n",
    "    cdf_e = {e[i]: (i+1)/len(e) for i in range(len(e))}\n",
    "    q_e = {value:key for key,value in cdf_e.items()}\n",
    "    #\n",
    "    # theoretical cdf and quantile\n",
    "    #\n",
    "    e = E[j]\n",
    "    N = e.size\n",
    "    # u_null = 0\n",
    "    u = 0\n",
    "    # We don't know \\sigma!  So we have to estimate it...\n",
    "    # We estimate it as as the residual standard error\n",
    "    s = np.sqrt(e.T.dot(e)/(N-K))\n",
    "    # null distribution...with estimated s!\n",
    "    G = stats.norm(loc=u, scale=s)\n",
    "    x = [G.ppf(key) for key in q_e.keys()]\n",
    "    plt.clf()\n",
    "    plt.plot(x, q_e.values())\n",
    "    plt.plot([min(x), x[-2]], [min(x), x[-2]])\n",
    "    plt.show()"
   ]
  },
  {
   "cell_type": "markdown",
   "metadata": {},
   "source": [
    "### Exercise 2.6"
   ]
  },
  {
   "cell_type": "markdown",
   "metadata": {},
   "source": [
    "Do these scatter plots allow you to conclude anything about the similarities and/or differences in the relationship between $X$ and $Y$ in these different data sets?"
   ]
  },
  {
   "cell_type": "markdown",
   "metadata": {},
   "source": [
    "Yes!  They're all pretty terrible fits, but in different ways.  The first plot is *maybe* the most reasonable. $\\square$"
   ]
  },
  {
   "cell_type": "markdown",
   "metadata": {},
   "source": [
    "### Exercise 2.7"
   ]
  },
  {
   "cell_type": "markdown",
   "metadata": {},
   "source": [
    "Which data set(s) come closest to satisfying the assumptions of the stan- dard linear model?"
   ]
  },
  {
   "cell_type": "markdown",
   "metadata": {},
   "source": [
    "Probably data set 1. $\\square$"
   ]
  },
  {
   "cell_type": "code",
   "execution_count": null,
   "metadata": {},
   "outputs": [],
   "source": []
  }
 ],
 "metadata": {
  "kernelspec": {
   "display_name": "Python 3",
   "language": "python",
   "name": "python3"
  },
  "language_info": {
   "codemirror_mode": {
    "name": "ipython",
    "version": 3
   },
   "file_extension": ".py",
   "mimetype": "text/x-python",
   "name": "python",
   "nbconvert_exporter": "python",
   "pygments_lexer": "ipython3",
   "version": "3.7.6"
  }
 },
 "nbformat": 4,
 "nbformat_minor": 4
}
