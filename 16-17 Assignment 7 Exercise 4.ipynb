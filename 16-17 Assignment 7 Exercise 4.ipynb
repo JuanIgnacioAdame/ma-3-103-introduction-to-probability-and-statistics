{
 "cells": [
  {
   "cell_type": "markdown",
   "metadata": {},
   "source": [
    "For a normal probability model, will $n=45$ be a sufficiently large sample to test $H_0:\\mu=10$ versus $H_1:\\mu\\neq10$ at the $\\alpha=0.05$ level of significance if the experimenter wants the Type II error probability to be no greater than 0.20 when $\\mu=12$?  Assume that $\\sigma=4$."
   ]
  },
  {
   "cell_type": "markdown",
   "metadata": {},
   "source": [
    "Yes, it should be enough.  From Section 21.3 in Lecture 21 we have that the required $n$ is given by\n",
    "\\begin{align}\n",
    "n&=\\sigma^2\\left(\\frac{z_{\\alpha}-z_{\\gamma}}{\\mu-\\mu_0}\\right)^2\\\\\n",
    "&=4^2\\left(\\frac{z_{0.05}-z_{0.80}}{12-10}\\right)^2\\\\\n",
    "&=4^2\\left(\\frac{1.65-(-0.84)}{12-10}\\right)^2\\\\\n",
    "&\\approx24.6<40. \\square\n",
    "\\end{align}"
   ]
  },
  {
   "cell_type": "code",
   "execution_count": null,
   "metadata": {},
   "outputs": [],
   "source": []
  }
 ],
 "metadata": {
  "kernelspec": {
   "display_name": "Python 3",
   "language": "python",
   "name": "python3"
  },
  "language_info": {
   "codemirror_mode": {
    "name": "ipython",
    "version": 3
   },
   "file_extension": ".py",
   "mimetype": "text/x-python",
   "name": "python",
   "nbconvert_exporter": "python",
   "pygments_lexer": "ipython3",
   "version": "3.7.6"
  }
 },
 "nbformat": 4,
 "nbformat_minor": 4
}
