{
 "cells": [
  {
   "cell_type": "markdown",
   "metadata": {},
   "source": [
    "# Exercise 3 (The missing women)"
   ]
  },
  {
   "cell_type": "markdown",
   "metadata": {},
   "source": [
    "For the sake of simplicity let us assume that the probability of being born a boy P(B) is the same as the probability of being born a girl P(G), namely 1/2. Let us assume that the sex of different children are stochastically independent, and that there are no multiple births or adoptions."
   ]
  },
  {
   "cell_type": "markdown",
   "metadata": {},
   "source": [
    "In this case we would expect the population to be about half male and half female. But is it? According to Nobel Prize wining economist Amartya Sen, due to differential mortality, in Europe and North America there are about 105 females for every 100 males. But in other countries the ratio is considerably lower. The number of females per 100 males is 94 in China, 93 in India, and 92 in Pakistan, and 84 in Saudi Arabia (which has a large migrant male workforce). These latter countries are sometimes described as having “missing women.” Sen conjectures that this discrepancy is due to the neglect of female children, causing them to have higher mortality rates."
   ]
  },
  {
   "cell_type": "markdown",
   "metadata": {},
   "source": [
    "An alternative explanation might be that in some countries, parents prefer to have boys, so they may continue to have children until they have a boy or maybe two boys. Let’s see if this resolves Sen’s problem.\n",
    "Let $B$ denote the number of boys in a family, and let $G$ denote the number of girls. The total number of children is then $N = B + G$. (These are random variables.) For each of the following parental decision rules, compute these expectations:\n",
    "\\begin{gather}\n",
    "E[G], \\quad E[B], \\quad E[N],\\\\\n",
    "E[G/N], \\quad E[B/N],\\quad E[(G-B)/N],\\\\\n",
    "E[G]/E[B], \\quad E[G/B].\n",
    "\\end{gather}"
   ]
  },
  {
   "cell_type": "markdown",
   "metadata": {},
   "source": [
    "### Exercise 3.1"
   ]
  },
  {
   "cell_type": "markdown",
   "metadata": {},
   "source": [
    "1. Parents have exactly one child."
   ]
  },
  {
   "cell_type": "markdown",
   "metadata": {},
   "source": [
    "\\begin{gather}\n",
    "E[G]=0.5, \\quad, E[B]=0.5, \\quad E[N]=1, \\quad\\\\\n",
    "E[G/N]=0.5, \\quad E[B/N]=0.5, E[(G-B)/N]=0,\\\\\n",
    "E[G]/E[B]=1, E[G/B]=\\infty. \\square\n",
    "\\end{gather}"
   ]
  },
  {
   "cell_type": "markdown",
   "metadata": {},
   "source": [
    "### Exercise 3.2"
   ]
  },
  {
   "cell_type": "markdown",
   "metadata": {},
   "source": [
    "2. Parents stop having children once they have a boy or two girls, whichever comes first."
   ]
  },
  {
   "cell_type": "markdown",
   "metadata": {},
   "source": [
    "Under this rule, parents will stop having children if (i) the first child is a boy, (ii) and always after the second child (note that if the second child is a boy, they stop; if the second child is a girl, they also stop).  With these observations, we calculate the following probabilities:\n",
    "\\begin{align}\n",
    "&E[G] = 0.5\\times 0 + 0.25 \\times 1 + 0.25 \\times 2 = 0.75,\\\\\n",
    "&E[B] = 0.5\\times 1 + 0.25 \\times 1 + 0.25 \\times 0 = 0.75,\\\\\n",
    "&E[N] = 0.5\\times 1 + 0.5\\times 2 = 1.5,\\\\\n",
    "&E[G/N] = 0.5\\times 0/1 + 0.25\\times 1/2 + 0.25\\times 2/2=3/8,\\\\\n",
    "&E[B/N] = 0.5\\times 1/1 + 0.25\\times 1/2 + 0.25\\times 0/2=5/8,\\\\\n",
    "&E[(G-B)/N] = 0.5\\times (0-1)/1 + 0.25\\times (1-1)/2 + 0.25\\times (2-0)/2=-2/8,\\\\\n",
    "&E[G]/E[B]=1,\\\\\n",
    "&E[G/B]=0.5\\times 0/1+ 0.25\\times 1/1 + 0.25\\times 2/0 = \\infty. \\square\n",
    "\\end{align}"
   ]
  },
  {
   "cell_type": "code",
   "execution_count": 21,
   "metadata": {},
   "outputs": [
    {
     "name": "stdout",
     "output_type": "stream",
     "text": [
      "Empirical E[G]=0.749, Theoretical E[G]=0.75\n",
      "Empirical E[B]=0.75, Theoretical E[B]=0.75\n",
      "Empirical E[N]=1.499, Theoretical E[N]=1.5\n",
      "Empirical E[G/N]=0.374, Theoretical E[G/N]=0.375\n",
      "Empirical E[B/N]=0.626, Theoretical E[B/N]=0.625\n",
      "Empirical E[G/B]=249520000.25, Theoretical E[G/B]=inf\n"
     ]
    }
   ],
   "source": [
    "num_experiments = int(1e05)\n",
    "G = []\n",
    "B = []\n",
    "N = []\n",
    "GN = []\n",
    "BN = []\n",
    "GB = []\n",
    "for experiment in range(num_experiments):\n",
    "    family = {'Boy': 0, 'Girl': 0}\n",
    "    # stop having kids when have a boy, or family exceeds two\n",
    "    while family['Boy']==0 and family['Girl']<2:\n",
    "        if random.choice(['Boy','Girl'])=='Boy':\n",
    "            family['Boy']+=1\n",
    "        else:\n",
    "            family['Girl']+=1\n",
    "    G.append(family['Girl'])\n",
    "    B.append(family['Boy'])\n",
    "    N.append(family['Boy']+family['Girl'])\n",
    "    GN.append(family['Girl']/(family['Boy']+family['Girl']))\n",
    "    BN.append(family['Boy']/(family['Boy']+family['Girl']))\n",
    "    if family['Boy']==0:\n",
    "        GB.append(1e09)\n",
    "    else:\n",
    "        GB.append(family['Girl']/family['Boy'])\n",
    "# G\n",
    "pe = sum(G)/num_experiments\n",
    "pt = 0.75\n",
    "print(\"Empirical E[G]={0}, Theoretical E[G]={1}\".format(round(pe,3),round(pt,3)))\n",
    "# B\n",
    "pe = sum(B)/num_experiments\n",
    "pt = 0.75\n",
    "print(\"Empirical E[B]={0}, Theoretical E[B]={1}\".format(round(pe,3),round(pt,3)))\n",
    "# N\n",
    "pe = sum(N)/num_experiments\n",
    "pt = 1.5\n",
    "print(\"Empirical E[N]={0}, Theoretical E[N]={1}\".format(round(pe,3),round(pt,3)))\n",
    "# G/N\n",
    "pe = sum(GN)/num_experiments\n",
    "pt = 3/8\n",
    "print(\"Empirical E[G/N]={0}, Theoretical E[G/N]={1}\".format(round(pe,3),round(pt,3)))\n",
    "# B/N\n",
    "pe = sum(BN)/num_experiments\n",
    "pt = 5/8\n",
    "print(\"Empirical E[B/N]={0}, Theoretical E[B/N]={1}\".format(round(pe,3),round(pt,3)))\n",
    "# G/B\n",
    "pe = sum(GB)/num_experiments\n",
    "pt = float('inf')\n",
    "print(\"Empirical E[G/B]={0}, Theoretical E[G/B]={1}\".format(round(pe,3),round(pt,3)))"
   ]
  },
  {
   "cell_type": "markdown",
   "metadata": {},
   "source": [
    "### Exercise 3.3"
   ]
  },
  {
   "cell_type": "markdown",
   "metadata": {},
   "source": [
    "3. Parents always have two children."
   ]
  },
  {
   "cell_type": "markdown",
   "metadata": {},
   "source": [
    "\\begin{align}\n",
    "&E[G] = 0.25\\times 2 + 0.25 \\times 1 + 0.25 \\times 1 + 0.25 \\times 0  = 1,\\\\\n",
    "&E[B] = 0.25\\times 2 + 0.25 \\times 1 + 0.25 \\times 1 + 0.25 \\times 0  = 1,\\\\\n",
    "&E[N] = 2,\\\\\n",
    "&E[G/N] = 1/2,\\\\\n",
    "&E[B/N] = 1/2,\\\\\n",
    "&E[(G-B)/N] = 0.5\\times (1-1)/2 + 0.25\\times (2-0)/2 + 0.25\\times (0-2)/2=0,\\\\\n",
    "&E[G]/E[B]=1,\\\\\n",
    "&E[G/B]=0.5\\times 1/1+ 0.25\\times 0/2 + 0.25\\times 2/0 = \\infty. \\square\n",
    "\\end{align}"
   ]
  },
  {
   "cell_type": "code",
   "execution_count": 14,
   "metadata": {},
   "outputs": [
    {
     "name": "stdout",
     "output_type": "stream",
     "text": [
      "Empirical E[G]=0.997, Theoretical E[G]=1\n",
      "Empirical E[B]=1.003, Theoretical E[B]=1\n",
      "Empirical E[N]=2.0, Theoretical E[N]=2\n",
      "Empirical E[G/N]=0.498, Theoretical E[G/N]=0.5\n",
      "Empirical E[B/N]=0.502, Theoretical E[B/N]=0.5\n",
      "Empirical E[G/B]=248590000.499, Theoretical E[G/B]=inf\n"
     ]
    }
   ],
   "source": [
    "num_experiments = int(1e05)\n",
    "G = []\n",
    "B = []\n",
    "N = []\n",
    "GN = []\n",
    "BN = []\n",
    "GB = []\n",
    "for experiment in range(num_experiments):\n",
    "    family = {'Boy': 0, 'Girl': 0}\n",
    "    # stop having kids when have a boy, or family exceeds two\n",
    "    while family['Boy']+family['Girl']<2:\n",
    "        if random.choice(['Boy','Girl'])=='Boy':\n",
    "            family['Boy']+=1\n",
    "        else:\n",
    "            family['Girl']+=1\n",
    "    G.append(family['Girl'])\n",
    "    B.append(family['Boy'])\n",
    "    N.append(family['Boy']+family['Girl'])\n",
    "    GN.append(family['Girl']/(family['Boy']+family['Girl']))\n",
    "    BN.append(family['Boy']/(family['Boy']+family['Girl']))\n",
    "    if family['Boy']==0:\n",
    "        GB.append(1e09)\n",
    "    else:\n",
    "        GB.append(family['Girl']/family['Boy'])\n",
    "# G\n",
    "pe = sum(G)/num_experiments\n",
    "pt = 1\n",
    "print(\"Empirical E[G]={0}, Theoretical E[G]={1}\".format(round(pe,3),round(pt,3)))\n",
    "# B\n",
    "pe = sum(B)/num_experiments\n",
    "pt = 1\n",
    "print(\"Empirical E[B]={0}, Theoretical E[B]={1}\".format(round(pe,3),round(pt,3)))\n",
    "# N\n",
    "pe = sum(N)/num_experiments\n",
    "pt = 2\n",
    "print(\"Empirical E[N]={0}, Theoretical E[N]={1}\".format(round(pe,3),round(pt,3)))\n",
    "# G/N\n",
    "pe = sum(GN)/num_experiments\n",
    "pt = 1/2\n",
    "print(\"Empirical E[G/N]={0}, Theoretical E[G/N]={1}\".format(round(pe,3),round(pt,3)))\n",
    "# B/N\n",
    "pe = sum(BN)/num_experiments\n",
    "pt = 1/2\n",
    "print(\"Empirical E[B/N]={0}, Theoretical E[B/N]={1}\".format(round(pe,3),round(pt,3)))\n",
    "# G/B\n",
    "pe = sum(GB)/num_experiments\n",
    "pt = float('inf')\n",
    "print(\"Empirical E[G/B]={0}, Theoretical E[G/B]={1}\".format(round(pe,3),round(pt,3)))"
   ]
  },
  {
   "cell_type": "markdown",
   "metadata": {},
   "source": [
    "### Exercise 3.4"
   ]
  },
  {
   "cell_type": "markdown",
   "metadata": {},
   "source": [
    "4. Parents have children until they have a boy. Take the idealization that the family has no limit on the number of children. (My own great-great-grandfather had 22 children that survived infancy. Not all of his three wives survived childbirth.)"
   ]
  },
  {
   "cell_type": "markdown",
   "metadata": {},
   "source": [
    "With probability $1/2$, the family ends with 1 boy.  With probability $1/4$, the family ends with 1 girl and 1 boy.  More generally, with probability $2^{-i-1}$, the family ends with $i$ girls, and $1$ boy.  Using this, we perform the calculations below:\n",
    "\\begin{align}\n",
    "&E[G] = \\sum_{i=0}^{\\infty}2^{-i-1}*i = 1,\\\\\n",
    "&E[B] = 1,\\\\\n",
    "&E[N] = E[G+B] = E[G]+E[B]=2,\\\\\n",
    "&E[G/N] = \\sum_{i=0}^{\\infty}2^{-i-1}*i/(i+1)=1-\\log(2)\\approx0.30685,\\\\\n",
    "&E[B/N] = \\sum_{i=0}^{\\infty}2^{-i-1}*1/(i+1)=\\log(2)\\approx0.69315,\\\\\n",
    "&E[(G-B)/N] = E[G/N]-E[B/N]=1-\\log(2)-\\log(2)=1-2log(2)\\approx-0.386,\\\\\n",
    "&E[G]/E[B]=1,\\\\\n",
    "&E[G/B]=\\sum_{i=0}^{\\infty}2^{-i-1}\\times i/1=1. \\square\n",
    "\\end{align}"
   ]
  },
  {
   "cell_type": "code",
   "execution_count": 19,
   "metadata": {},
   "outputs": [],
   "source": [
    "from math import log"
   ]
  },
  {
   "cell_type": "code",
   "execution_count": 20,
   "metadata": {},
   "outputs": [
    {
     "name": "stdout",
     "output_type": "stream",
     "text": [
      "Empirical E[G]=0.997, Theoretical E[G]=1\n",
      "Empirical E[B]=1.0, Theoretical E[B]=1\n",
      "Empirical E[N]=1.997, Theoretical E[N]=2\n",
      "Empirical E[G/N]=0.306, Theoretical E[G/N]=0.307\n",
      "Empirical E[B/N]=0.694, Theoretical E[B/N]=0.693\n",
      "Empirical E[G/B]=0.997, Theoretical E[G/B]=1\n"
     ]
    }
   ],
   "source": [
    "num_experiments = int(1e05)\n",
    "G = []\n",
    "B = []\n",
    "N = []\n",
    "GN = []\n",
    "BN = []\n",
    "GB = []\n",
    "for experiment in range(num_experiments):\n",
    "    family = {'Boy': 0, 'Girl': 0}\n",
    "    # stop having kids when have a boy, or family exceeds two\n",
    "    while family['Boy']<1:\n",
    "        if random.choice(['Boy','Girl'])=='Boy':\n",
    "            family['Boy']+=1\n",
    "        else:\n",
    "            family['Girl']+=1\n",
    "    G.append(family['Girl'])\n",
    "    B.append(family['Boy'])\n",
    "    N.append(family['Boy']+family['Girl'])\n",
    "    GN.append(family['Girl']/(family['Boy']+family['Girl']))\n",
    "    BN.append(family['Boy']/(family['Boy']+family['Girl']))\n",
    "    GB.append(family['Girl']/(family['Boy']))\n",
    "\n",
    "# G\n",
    "pe = sum(G)/num_experiments\n",
    "pt = 1\n",
    "print(\"Empirical E[G]={0}, Theoretical E[G]={1}\".format(round(pe,3),round(pt,3)))\n",
    "# B\n",
    "pe = sum(B)/num_experiments\n",
    "pt = 1\n",
    "print(\"Empirical E[B]={0}, Theoretical E[B]={1}\".format(round(pe,3),round(pt,3)))\n",
    "# N\n",
    "pe = sum(N)/num_experiments\n",
    "pt = 2\n",
    "print(\"Empirical E[N]={0}, Theoretical E[N]={1}\".format(round(pe,3),round(pt,3)))\n",
    "# G/N\n",
    "pe = sum(GN)/num_experiments\n",
    "pt = 1-log(2)\n",
    "print(\"Empirical E[G/N]={0}, Theoretical E[G/N]={1}\".format(round(pe,3),round(pt,3)))\n",
    "# B/N\n",
    "pe = sum(BN)/num_experiments\n",
    "pt = log(2)\n",
    "print(\"Empirical E[B/N]={0}, Theoretical E[B/N]={1}\".format(round(pe,3),round(pt,3)))\n",
    "# G/B\n",
    "pe = sum(GB)/num_experiments\n",
    "pt = 1\n",
    "print(\"Empirical E[G/B]={0}, Theoretical E[G/B]={1}\".format(round(pe,3),round(pt,3)))"
   ]
  },
  {
   "cell_type": "markdown",
   "metadata": {},
   "source": [
    "### Exercise 3.5"
   ]
  },
  {
   "cell_type": "markdown",
   "metadata": {},
   "source": [
    "There is a problem with the way Sen chose to characterize the problem in terms of ratios. What is it? What is a better way to capture the intuition that the population should be about half men and half women?"
   ]
  },
  {
   "cell_type": "markdown",
   "metadata": {},
   "source": [
    "One problem is that $E[G]/E[B]\\neq E[G/B]$.  For example, $E[G/B]=\\infty$ for some of the rules above, but that does not mean we should expect infinitely many more women than boys. A better way to capture the intuition that the population should be about half men and half women is that $E[G]/E[B]=1$. $\\square$"
   ]
  },
  {
   "cell_type": "markdown",
   "metadata": {},
   "source": [
    "### Exercise 3.6"
   ]
  },
  {
   "cell_type": "markdown",
   "metadata": {},
   "source": [
    "The analysis above ignored parents. Does this matter for Sen’s point? We also assumed that all the families observed were complete, but at any given point in time some of the families may not have stopped having children. Under the decision rules above, does this ameliorate the missing women problem?"
   ]
  },
  {
   "cell_type": "markdown",
   "metadata": {},
   "source": [
    "Parents do matter."
   ]
  },
  {
   "cell_type": "markdown",
   "metadata": {},
   "source": [
    "If some families have not stopped having children (e.g. because they still don't have their first boy), we can only expect $E[B/N]$ to increase. $\\square$"
   ]
  },
  {
   "cell_type": "code",
   "execution_count": null,
   "metadata": {},
   "outputs": [],
   "source": []
  }
 ],
 "metadata": {
  "kernelspec": {
   "display_name": "Python 3",
   "language": "python",
   "name": "python3"
  },
  "language_info": {
   "codemirror_mode": {
    "name": "ipython",
    "version": 3
   },
   "file_extension": ".py",
   "mimetype": "text/x-python",
   "name": "python",
   "nbconvert_exporter": "python",
   "pygments_lexer": "ipython3",
   "version": "3.7.6"
  }
 },
 "nbformat": 4,
 "nbformat_minor": 4
}
