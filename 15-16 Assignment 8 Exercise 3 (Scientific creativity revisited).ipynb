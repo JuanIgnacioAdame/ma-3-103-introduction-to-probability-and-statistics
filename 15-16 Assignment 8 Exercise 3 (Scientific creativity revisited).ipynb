{
 "cells": [
  {
   "cell_type": "markdown",
   "metadata": {},
   "source": [
    "In Assignment 6, you were given the age of scientists at the time of their most significant discoveries. One of the questions related to those data was this:"
   ]
  },
  {
   "cell_type": "markdown",
   "metadata": {},
   "source": [
    "Before constructing a confidence interval for a set of observations over a long time period, we should be convinced the $y_i$s exhibit no biases or trends. If, for example, the age at which scientists made major discoveries decreased from century to century, the the parameter $\\mu$ would no longer be a constant, and the confidence interval would be meaningless. Plot the age versus date for these twelve discoveries. Does the variability of the $y_i$s appear to be random with respect to time?"
   ]
  },
  {
   "cell_type": "markdown",
   "metadata": {},
   "source": [
    "You are now in a position to something smarter than just eyeballing the data. Let $y_i$ denote the age of the $i$th scientist and $t_i$ denote the year of his or her significant discovery."
   ]
  },
  {
   "cell_type": "markdown",
   "metadata": {},
   "source": [
    "Formulate a linear model that allows you to test the hypothesis that there is no trend over the centuries in the age of discovery."
   ]
  },
  {
   "cell_type": "markdown",
   "metadata": {},
   "source": [
    "The model will be of the form\n",
    "\\begin{equation}\n",
    "Y = \\beta_0 + \\beta_1 t + \\epsilon.\n",
    "\\end{equation}"
   ]
  },
  {
   "cell_type": "markdown",
   "metadata": {},
   "source": [
    "#### Compute $\\hat{\\beta}_{\\text{OLS}}$"
   ]
  },
  {
   "cell_type": "code",
   "execution_count": 1,
   "metadata": {},
   "outputs": [],
   "source": [
    "import numpy as np"
   ]
  },
  {
   "cell_type": "code",
   "execution_count": 6,
   "metadata": {},
   "outputs": [
    {
     "name": "stdout",
     "output_type": "stream",
     "text": [
      "[[   1 1543]\n",
      " [   1 1600]\n",
      " [   1 1665]\n",
      " [   1 1746]\n",
      " [   1 1774]\n",
      " [   1 1839]\n",
      " [   1 1858]\n",
      " [   1 1864]\n",
      " [   1 1896]\n",
      " [   1 1901]\n",
      " [   1 1905]\n",
      " [   1 1926]]\n"
     ]
    }
   ],
   "source": [
    "# empirical ages\n",
    "y = np.array([40, 34, 23, 40, 31, 33, 49, 33, 34, 43, 26, 39])\n",
    "# empirical years\n",
    "t = np.array([1543, 1600, 1665, 1746, 1774, 1839, 1858, 1864, 1896, 1901, 1905, 1926])\n",
    "# Compute B_OLS\n",
    "# column of 1s for constant term\n",
    "a = np.full(shape=(t.size,1), fill_value=1)\n",
    "X = np.column_stack(tup=(a, t.T))\n",
    "# B_OLS\n",
    "B = np.linalg.inv(X.T.dot(X)).dot(X.T).dot(y)"
   ]
  },
  {
   "cell_type": "markdown",
   "metadata": {},
   "source": [
    "#### Visualize data"
   ]
  },
  {
   "cell_type": "code",
   "execution_count": 12,
   "metadata": {},
   "outputs": [],
   "source": [
    "from matplotlib import pyplot as plt"
   ]
  },
  {
   "cell_type": "code",
   "execution_count": 20,
   "metadata": {},
   "outputs": [
    {
     "data": {
      "image/png": "[encoded data removed]",
      "text/plain": [
       "<Figure size 432x288 with 1 Axes>"
      ]
     },
     "metadata": {
      "needs_background": "light"
     },
     "output_type": "display_data"
    }
   ],
   "source": [
    "# clear figure\n",
    "plt.clf()\n",
    "\n",
    "# empirical data\n",
    "plt.plot(t, y, label='empirical')\n",
    "\n",
    "# model data\n",
    "y_pred = [B[0] + B[1]*x for x in t]\n",
    "plt.plot(t, y_pred, label='model')\n",
    "\n",
    "# x axis\n",
    "plt.xlabel(\"Year\")\n",
    "\n",
    "# y axis\n",
    "plt.ylabel(\"Age\")\n",
    "\n",
    "# legend\n",
    "plt.legend()\n",
    "\n",
    "# title\n",
    "plt.title(\"Scientific creativity and age\")\n",
    "\n",
    "# show\n",
    "plt.show()"
   ]
  },
  {
   "cell_type": "code",
   "execution_count": 24,
   "metadata": {},
   "outputs": [
    {
     "name": "stdout",
     "output_type": "stream",
     "text": [
      "6.921684926535029\n",
      "35.416666666666664\n"
     ]
    }
   ],
   "source": [
    "print(np.std(y))\n",
    "print(np.mean(y))"
   ]
  },
  {
   "cell_type": "markdown",
   "metadata": {},
   "source": [
    "#### Error term, $\\epsilon$"
   ]
  },
  {
   "cell_type": "code",
   "execution_count": 27,
   "metadata": {},
   "outputs": [
    {
     "name": "stdout",
     "output_type": "stream",
     "text": [
      "[  6.33726806  -0.06249581 -11.51836688   4.91354763  -4.2828276\n",
      "  -2.73869867  13.12804671  -2.91403369  -2.13846253   6.82647047\n",
      " -10.20158314   2.65113544]\n"
     ]
    }
   ],
   "source": [
    "# Compute the error term\n",
    "# observed data minus predicted data\n",
    "e = y - X.dot(B)\n",
    "print(e)"
   ]
  },
  {
   "cell_type": "markdown",
   "metadata": {},
   "source": [
    "#### Residual standard errors, $s$"
   ]
  },
  {
   "cell_type": "code",
   "execution_count": 26,
   "metadata": {},
   "outputs": [
    {
     "name": "stdout",
     "output_type": "stream",
     "text": [
      "7.522867951289087\n"
     ]
    }
   ],
   "source": [
    "# We have N=t.size observations in our case\n",
    "N = t.size\n",
    "# There are 2 variates in our case\n",
    "K = 2\n",
    "# Residual standard error\n",
    "s = np.sqrt(e.T.dot(e))/np.sqrt(N-K)\n",
    "print(s)"
   ]
  },
  {
   "cell_type": "markdown",
   "metadata": {},
   "source": [
    "#### $t$-statistics"
   ]
  },
  {
   "cell_type": "code",
   "execution_count": 43,
   "metadata": {},
   "outputs": [
    {
     "name": "stdout",
     "output_type": "stream",
     "text": [
      "[35.416666666666664, 0]\n",
      "[-0.39742902545687886, 0.39836834560667306]\n"
     ]
    }
   ],
   "source": [
    "# Compute t-statistics.  The null hypothesis is B_1\\equiv 0\n",
    "# null betas\n",
    "B0 = [np.mean(y), 0]\n",
    "print(B0)\n",
    "T = []\n",
    "for k in range(K):\n",
    "    t = (B[k]-B0[k])/(s * np.sqrt(np.linalg.inv(X.T.dot(X))[k][k]))\n",
    "    T.append(t)\n",
    "print(T)"
   ]
  },
  {
   "cell_type": "markdown",
   "metadata": {},
   "source": [
    "#### $p$-value of $t$-statistic"
   ]
  },
  {
   "cell_type": "code",
   "execution_count": 44,
   "metadata": {},
   "outputs": [],
   "source": [
    "from scipy.stats import t"
   ]
  },
  {
   "cell_type": "code",
   "execution_count": 45,
   "metadata": {},
   "outputs": [
    {
     "name": "stdout",
     "output_type": "stream",
     "text": [
      "0.6994019373107467\n",
      "0.6987314461981904\n"
     ]
    }
   ],
   "source": [
    "# initiate rv with t(N-K) distribution\n",
    "a = t(df=N-K)\n",
    "print(2*a.cdf(T[0]))\n",
    "print(2*(1-a.cdf(T[1])))"
   ]
  },
  {
   "cell_type": "markdown",
   "metadata": {},
   "source": [
    "#### Reject Null hypotheses?"
   ]
  },
  {
   "cell_type": "markdown",
   "metadata": {},
   "source": [
    "No."
   ]
  },
  {
   "cell_type": "markdown",
   "metadata": {},
   "source": [
    "#### $R^2$"
   ]
  },
  {
   "cell_type": "code",
   "execution_count": 51,
   "metadata": {},
   "outputs": [
    {
     "name": "stdout",
     "output_type": "stream",
     "text": [
      "0.963784768533607\n"
     ]
    }
   ],
   "source": [
    "# R^2\n",
    "#R2 = 1 - ( e.T.dot(e)) / (np.var(y)*y.size)\n",
    "#print(R2)\n",
    "# The caltech notes use the definitions below, and they disagree.\n",
    "# They are the same, but they disagree with the one above\n",
    "# with the one above\n",
    "# R2 = B.T.dot(X.T).dot(X).dot(B) / (y.T.dot(y))\n",
    "R2 = 1 - e.T.dot(e)/(y.T.dot(y))\n",
    "print(R2)"
   ]
  },
  {
   "cell_type": "markdown",
   "metadata": {},
   "source": [
    "#### Adjusted $\\bar{R}^2$"
   ]
  },
  {
   "cell_type": "code",
   "execution_count": 52,
   "metadata": {},
   "outputs": [
    {
     "name": "stdout",
     "output_type": "stream",
     "text": [
      "0.9601632453869676\n"
     ]
    }
   ],
   "source": [
    "# adjusted R2\n",
    "adjR2 = 1 - (N-1)/(N-K)*(1-R2)\n",
    "print(adjR2)"
   ]
  },
  {
   "cell_type": "markdown",
   "metadata": {},
   "source": [
    "#### $F$ statistics"
   ]
  },
  {
   "cell_type": "code",
   "execution_count": 56,
   "metadata": {},
   "outputs": [
    {
     "name": "stdout",
     "output_type": "stream",
     "text": [
      "[0.5210664931658892, 0.15869733878139777]\n"
     ]
    }
   ],
   "source": [
    "# Compute t-statistics.  The null hypothese are B\\equiv 0\n",
    "F = []\n",
    "for k in range(K):\n",
    "    f = B[k]**2 * np.linalg.inv(X.T.dot(X))[k][k]**(-1) / s**2\n",
    "    #print(S[i] * np.sqrt(np.linalg.inv(X[i].T.dot(X[i]))[k][k]))\n",
    "    F.append(f)\n",
    "print(F)"
   ]
  },
  {
   "cell_type": "markdown",
   "metadata": {},
   "source": [
    "#### $p$-value of $F$-statistic"
   ]
  },
  {
   "cell_type": "code",
   "execution_count": 57,
   "metadata": {},
   "outputs": [
    {
     "name": "stdout",
     "output_type": "stream",
     "text": [
      "0.6987314461981902\n"
     ]
    }
   ],
   "source": [
    "from scipy.stats import f\n",
    "\n",
    "a = f(dfn=K-1, dfd=N-K)\n",
    "\n",
    "print(1-a.cdf(F[1]))"
   ]
  },
  {
   "cell_type": "markdown",
   "metadata": {},
   "source": [
    "#### Sum of squared residuals\n",
    "\n",
    "for i in range(1,4+1):\n",
    "    print(E[i].T.dot(E[i]))\n",
    "\n",
    "#### Normal residuals?\n",
    "\n",
    "Below we perform a Kolmogorov-Smirnov test.  We fail to reject the null hypothesis (that they are normally distributed) for all 4 data sets. $\\square$\n",
    "\n",
    "from scipy import stats\n",
    "\n",
    "K = 2\n",
    "for i in range(1, 4+1):\n",
    "    e = E[i]\n",
    "    N = e.size\n",
    "    # u_null = 0\n",
    "    u = 0\n",
    "    # We don't know \\sigma!  So we have to estimate it...\n",
    "    # We estimate it as as the residual standard error\n",
    "    s = np.sqrt(e.T.dot(e)/(N-K))\n",
    "    # print(s)\n",
    "    # null distribution...with estimated s!\n",
    "    G = stats.norm(loc=u, scale=s)\n",
    "    # perform k test\n",
    "    print(stats.kstest(rvs=e, cdf=G.cdf, alternative='two-sided'))"
   ]
  }
 ],
 "metadata": {
  "kernelspec": {
   "display_name": "Python 3",
   "language": "python",
   "name": "python3"
  },
  "language_info": {
   "codemirror_mode": {
    "name": "ipython",
    "version": 3
   },
   "file_extension": ".py",
   "mimetype": "text/x-python",
   "name": "python",
   "nbconvert_exporter": "python",
   "pygments_lexer": "ipython3",
   "version": "3.7.6"
  }
 },
 "nbformat": 4,
 "nbformat_minor": 4
}
