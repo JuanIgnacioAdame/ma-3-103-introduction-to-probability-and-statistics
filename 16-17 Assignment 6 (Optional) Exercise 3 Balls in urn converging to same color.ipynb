{
 "cells": [
  {
   "cell_type": "markdown",
   "metadata": {},
   "source": [
    "### Problem"
   ]
  },
  {
   "cell_type": "markdown",
   "metadata": {},
   "source": [
    "An urn contains 4 balls each of a distinct color. At each step we draw two balls randomly, and change the color of the second one to the color of the first one, then we return the balls to the urn. What is the expected time of arriving to the case where all balls have the same color? (The process of drawing the two balls and replacing them takes place in one time period.)"
   ]
  },
  {
   "cell_type": "markdown",
   "metadata": {},
   "source": [
    "### Solution"
   ]
  },
  {
   "cell_type": "markdown",
   "metadata": {},
   "source": [
    "### Approach 1: Overkill by using Markov chains"
   ]
  },
  {
   "cell_type": "markdown",
   "metadata": {},
   "source": [
    "First, note that from the point of view of calculating the expected number of steps to reach the state in which all balls have the same color, it only matters to keep track of the number of colors, and the number of balls that have each of the remaining colors (i.e. the specific colors don't matter, only how they are distributed among the balls)."
   ]
  },
  {
   "cell_type": "markdown",
   "metadata": {},
   "source": [
    "Afer having made this observation, we will use recursion."
   ]
  },
  {
   "cell_type": "markdown",
   "metadata": {},
   "source": [
    "But before we describe that in more detail, we need to explain some notation.  We will denote the state of the system at time $t$ by $(s_1,s_2,s_3,s_4)/\\sim$, where $s_1\\geq s_2\\geq s_3\\geq s_4$, and $s_i$ denotes the number of balls with color $i$, and $/\\sim$ denotes the equivalence relation \"up to permutation\" (this is in light of our earlier observation about how the specific colors don't matter)."
   ]
  },
  {
   "cell_type": "markdown",
   "metadata": {},
   "source": [
    "To illustrate an example of our notation, the initial state of the urn is $(1,1,1,1)$, and the problem is asking to calculating the expected number of steps to reach the state $(4,0,0,0)$."
   ]
  },
  {
   "cell_type": "markdown",
   "metadata": {},
   "source": [
    "We can now describe our recursive strategy.  Note that it is very easy to know how the state of the system will change after just 1 step.  For example,\n",
    "\\begin{equation}\n",
    "P((1,1,1,1)\\rightarrow(2,1,1,0))=1,\n",
    "\\end{equation}\n",
    "and\n",
    "\\begin{equation}\n",
    "P((4,0,0,0)\\rightarrow(4,0,0,0))=1.\n",
    "\\end{equation}"
   ]
  },
  {
   "cell_type": "markdown",
   "metadata": {},
   "source": [
    "The first equation says that with probability 1, the initial state of the urn will change to one where there are 2 balls with the same color, 1 ball with a different color, and another ball with yet a different color. "
   ]
  },
  {
   "cell_type": "markdown",
   "metadata": {},
   "source": [
    "The second equation says that if all the balls already have the same color, then no matter what we draw, they will all keep having the same color."
   ]
  },
  {
   "cell_type": "markdown",
   "metadata": {},
   "source": [
    "It takes a little more work to understand what happens when there are 2 or 3 colors left.  Let us first look at the case when there are 2 colors left."
   ]
  },
  {
   "cell_type": "markdown",
   "metadata": {},
   "source": [
    "If there are 2 colors left, then either 3 balls have the same color and 1 ball has a different color, i.e. $(3,1,0,0)$, or 2 balls have 1 color, and the other 2 balls have a different color, i.e. $(2,2,0,0)$.  The relevant transition probabilities here are\n",
    "\\begin{align}\n",
    "P((3,1,0,0)\\rightarrow(4,0,0,0))=\\frac{1}{4},\\\\\n",
    "P((3,1,0,0)\\rightarrow(3,1,0,0))=\\frac{1}{2},\\\\\n",
    "P((3,1,0,0)\\rightarrow(2,2,0,0))=\\frac{1}{4},\n",
    "\\end{align}\n",
    "and\n",
    "\\begin{align}\n",
    "P((2,2,0,0)\\rightarrow(3,1,0,0))=\\frac{2}{3},\\\\\n",
    "P((2,2,0,0)\\rightarrow(2,2,0,0))=\\frac{1}{3}.\n",
    "\\end{align}"
   ]
  },
  {
   "cell_type": "markdown",
   "metadata": {},
   "source": [
    "If there are 3 colors left, then it must be the case that 2 balls have the same color, 1 ball has a different color, and the other ball has yet a different color, i.e. $(2,1,1,0)$.  The relevant transition probabilities here are \n",
    "\\begin{equation}\n",
    "P((2,1,1,0)\\rightarrow(3,1,0,0))=\\frac{1}{3},\\\\\n",
    "P((2,1,1,0)\\rightarrow(2,2,0,0))=\\frac{1}{6}.\\\\\n",
    "P((2,1,1,0)\\rightarrow(2,1,1,0))=\\frac{1}{2}.\n",
    "\\end{equation}"
   ]
  },
  {
   "cell_type": "markdown",
   "metadata": {},
   "source": [
    "We now have the process fully specified.  In order to make this more amenable to linear algebraic operations, we need to rewrite the states above as vectors on which we can apply the transition matrix.  This is a straightforward renaming, which we can write as follows:\n",
    "\\begin{align}\n",
    "(1,1,1,1)\\rightarrow(1,0,0,0,0),\\\\\n",
    "(2,1,1,0)\\rightarrow(0,1,0,0,0),\\\\\n",
    "(2,2,0,0)\\rightarrow(0,0,1,0,0),\\\\\n",
    "(3,1,0,0)\\rightarrow(0,0,0,1,0),\\\\\n",
    "(4,0,0,0)\\rightarrow(0,0,0,0,1).\n",
    "\\end{align}"
   ]
  },
  {
   "cell_type": "markdown",
   "metadata": {},
   "source": [
    "The transition matrix then becomes\n",
    "$$P=\\begin{pmatrix}\n",
    "0 & 1 & 0 & 0 & 0 \\\\\n",
    "0 & \\frac{1}{2} & \\frac{1}{6} & \\frac{1}{3} & 0 \\\\\n",
    "0 & 0 & \\frac{1}{3} & \\frac{2}{3} & 0 \\\\\n",
    "0 & 0 & \\frac{1}{4} & \\frac{1}{2} & \\frac{1}{4} \\\\\n",
    "0 & 0 & 0 & 0 & 1 \\\\\n",
    "\\end{pmatrix}$$"
   ]
  },
  {
   "cell_type": "markdown",
   "metadata": {},
   "source": [
    "Under this notation, the state of the system after $t$ draws is given simply by\n",
    "\\begin{align}\n",
    "&s_t=s_0P^t, \\quad t\\geq0,\\\\\n",
    "&s_0=(1,0,0,0,0).\n",
    "\\end{align}"
   ]
  },
  {
   "cell_type": "markdown",
   "metadata": {},
   "source": [
    "Under this notation, the probability that all balls have the same color at time $t$ is given by\n",
    "\\begin{equation}\n",
    "(s_0P^t)_5,\n",
    "\\end{equation}\n",
    "where $(s_0P^t)_5$ corresponds to $5$th entry of the vector $(s_0P^t)_5$, which by definition is the probability that all balls have the same color at time $t$.  Hence, the probability that it takes *exactly* $t$ steps is given by\n",
    "\\begin{equation}\n",
    "(s_0P^t)_5-(s_0P^{t-1})_5.\n",
    "\\end{equation}"
   ]
  },
  {
   "cell_type": "markdown",
   "metadata": {},
   "source": [
    "Hence, the expected value we are after is given by\n",
    "\\begin{equation}\n",
    "\\sum_{t=1}^{\\infty}t\\left[(s_0P^t)_5-(s_0P^{t-1})_5\\right].\n",
    "\\end{equation}"
   ]
  },
  {
   "cell_type": "markdown",
   "metadata": {},
   "source": [
    "Using [WolframAlpha](https://www.wolframalpha.com/input/?i=%7B1%2C0%2C0%2C0%7D*%7B%7B1%2F2%2C+1%2F6%2C+1%2F3%2C+0%7D%2C%7B0%2C1%2F3%2C2%2F3%2C0%7D%2C%7B0%2C1%2F4%2C1%2F2%2C1%2F4%7D%2C%7B0%2C0%2C0%2C1%7D%7D%5E%28t%29-%7B1%2C0%2C0%2C0%7D*%7B%7B1%2F2%2C+1%2F6%2C+1%2F3%2C+0%7D%2C%7B0%2C1%2F3%2C2%2F3%2C0%7D%2C%7B0%2C1%2F4%2C1%2F2%2C1%2F4%7D%2C%7B0%2C0%2C0%2C1%7D%7D%5E%28t-1%29), this expression can be simplified to\n",
    "\\begin{equation}\n",
    "1+\\sum_{t=1}^{\\infty}t\\left[\\frac{2^{-1-t}}{5}(-5+3^{1-t}5^t)\\right]=9.\n",
    "\\end{equation}\n",
    "where the equality can be shown again using [WolframAlpha](https://www.wolframalpha.com/input/?i=1%2Bsum+from+t%3D1+to+infinity+of+t*%281%2F5+2%5E%28-1+-+t%29+%28-5+%2B+3%5E%281+-+t%29+5%5Et%29%29). $\\square$"
   ]
  },
  {
   "cell_type": "markdown",
   "metadata": {},
   "source": [
    "*Remark*: The above calculations can be done by finding an appropriate way of rewriting $P$ as $C^{-1}DC$, i.e. $P\\stackrel{!}{=}C^{-1}DC$, such that the powers of $C^{-1}DC$ (and hence also $P$, by definition) are easy to compute."
   ]
  },
  {
   "cell_type": "markdown",
   "metadata": {},
   "source": [
    "### Approach 2: We only need the probability of one event"
   ]
  },
  {
   "cell_type": "markdown",
   "metadata": {},
   "source": [
    "Note that the above is \"overkill\" in that, for all times and all possible states, we are keeping track of the probability that the urn is in that state at that time.  However, we only need the expected number of steps for one specific event to occur."
   ]
  },
  {
   "cell_type": "markdown",
   "metadata": {},
   "source": [
    "More specifically, observe that we can use recursion in the following way.  Suppose that the urn is in state $(3,1,0,0)$, and we are interested in computing $E_{(3,1,0,0)}$, the expeceted number of steps to get to $(4,0,0,0)$ starting from $(3,1,0,0)$.  Using the transition probabilities above, note that we have\n",
    "\\begin{align}\n",
    "E_{(3,1,0,0)}&=P((3,1,0,0)\\rightarrow(4,0,0,0))(1+E_{(4,0,0,0)})\\\\\n",
    "&+P((3,1,0,0)\\rightarrow(3,1,0,0))(1+E_{(3,1,0,0)})\\\\\n",
    "&+P((3,1,0,0)\\rightarrow(2,2,0,0))(1+E_{(2,2,0,0)}),\n",
    "\\end{align}\n",
    "which can be simplified to\n",
    "\\begin{align}\n",
    "E_{(3,1,0,0)}=\\frac{1}{4}+\\frac{1}{2}(1+E_{(3,1,0,0)})+\\frac{1}{4}(1+E_{(2,2,0,0)}).\n",
    "\\end{align}"
   ]
  },
  {
   "cell_type": "markdown",
   "metadata": {},
   "source": [
    "This technique is often called the \"one step ahead\" technique, because the equality is derived by \"going one step ahead in time\", and deducing the equation that must hold.  We can do the same thing for the initial state $(2,2,0,0)$, and obtain\n",
    "\\begin{equation}\n",
    "E_{(2,2,0,0)}=\\frac{1}{3}(1+E_{(2,2,0,0)})+\\frac{2}{3}(1+E_{(3,1,0,0)})\n",
    "\\end{equation}"
   ]
  },
  {
   "cell_type": "markdown",
   "metadata": {},
   "source": [
    "We now have two linear equations in two unknowns we can easily solve, yielding\n",
    "\\begin{align}\n",
    "&E_{(3,1,0,0)}=\\frac{11}{2},\\\\\n",
    "&E_{(2,2,0,0)}=7.\n",
    "\\end{align}"
   ]
  },
  {
   "cell_type": "markdown",
   "metadata": {},
   "source": [
    "Doing the same procedure for $(2,1,1,0)$, we obtain the equation\n",
    "\\begin{equation}\n",
    "E_{(2,1,1,0)}=\\frac{1}{2}(1+E_{(2,1,1,0})+\\frac{1}{6}(1+E_{(2,2,0,0)})+\\frac{1}{3}(1+E_{(3,1,0,0)}),\n",
    "\\end{equation}\n",
    "which yields\n",
    "\\begin{equation}\n",
    "E_{(2,1,1,0)}=8.\n",
    "\\end{equation}"
   ]
  },
  {
   "cell_type": "markdown",
   "metadata": {},
   "source": [
    "Finally, we do this for the initial state $(1,1,1,1)$, and obtain\n",
    "\\begin{equation}\n",
    "E_{(1,1,1,1)}=1+E_{(2,1,1,0)},\n",
    "\\end{equation}\n",
    "and we arrive at our final answer\n",
    "\\begin{equation}\n",
    "E_{(1,1,1,1)}=9. \\square\n",
    "\\end{equation}"
   ]
  },
  {
   "cell_type": "markdown",
   "metadata": {},
   "source": [
    "### Code"
   ]
  },
  {
   "cell_type": "code",
   "execution_count": 1,
   "metadata": {},
   "outputs": [],
   "source": [
    "import random"
   ]
  },
  {
   "cell_type": "code",
   "execution_count": 2,
   "metadata": {},
   "outputs": [
    {
     "name": "stdout",
     "output_type": "stream",
     "text": [
      "Empirical expected value = 9.0432\n",
      "Theoretical expected value = 9\n"
     ]
    }
   ],
   "source": [
    "num_experiments = int(1e04)\n",
    "E_emp = 0\n",
    "for experiment in range(num_experiments):\n",
    "    urn = ['color 1', 'color 2', 'color 3', 'color 4']\n",
    "    for _ in range(2):\n",
    "        i = random.sample([0,1,2,3], k=2)\n",
    "        # second draw becomes the same as the first\n",
    "        urn[i[1]]=urn[i[0]]\n",
    "    flag=True\n",
    "    counter=2\n",
    "    while flag:\n",
    "        counter+=1\n",
    "        i = random.sample([0,1,2,3], k=2)\n",
    "        # second draw becomes the same as the first\n",
    "        urn[i[1]]=urn[i[0]]\n",
    "        flag = not (urn[0]==urn[1] and urn[1]==urn[2] and urn[2]==urn[3])\n",
    "    E_emp+=counter\n",
    "E_emp = E_emp/num_experiments\n",
    "print(\"Empirical expected value = {0}\".format(E_emp))\n",
    "E_th = 9\n",
    "print(\"Theoretical expected value = {0}\".format(E_th))"
   ]
  },
  {
   "cell_type": "code",
   "execution_count": null,
   "metadata": {},
   "outputs": [],
   "source": []
  }
 ],
 "metadata": {
  "kernelspec": {
   "display_name": "Python 3",
   "language": "python",
   "name": "python3"
  },
  "language_info": {
   "codemirror_mode": {
    "name": "ipython",
    "version": 3
   },
   "file_extension": ".py",
   "mimetype": "text/x-python",
   "name": "python",
   "nbconvert_exporter": "python",
   "pygments_lexer": "ipython3",
   "version": "3.7.6"
  }
 },
 "nbformat": 4,
 "nbformat_minor": 4
}
