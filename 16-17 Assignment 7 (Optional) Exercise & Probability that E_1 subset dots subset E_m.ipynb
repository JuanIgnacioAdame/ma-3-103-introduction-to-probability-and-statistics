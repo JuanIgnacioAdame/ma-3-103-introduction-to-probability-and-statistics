{
 "cells": [
  {
   "cell_type": "markdown",
   "metadata": {},
   "source": [
    "### Problem"
   ]
  },
  {
   "cell_type": "markdown",
   "metadata": {},
   "source": [
    "The set $A$ has $n$ elements, and so has $2^n$ subsets. The subsets are placed into an urn, and m subsets $E_1, . . . , E_m$ are drawn in order at random with replacement from the urn."
   ]
  },
  {
   "cell_type": "markdown",
   "metadata": {},
   "source": [
    "What is the probability that\n",
    "\\begin{equation}\n",
    "E_1\\subseteq\\dots\\subseteq E_m?\n",
    "\\end{equation}"
   ]
  },
  {
   "cell_type": "markdown",
   "metadata": {},
   "source": [
    "### Solution"
   ]
  },
  {
   "cell_type": "markdown",
   "metadata": {},
   "source": [
    "Let $E_1,\\dots,E_m$ be the sets you drew."
   ]
  },
  {
   "cell_type": "markdown",
   "metadata": {},
   "source": [
    "The main idea will be to use the fact that\n",
    "\\begin{equation}\n",
    "P(E_1\\subseteq\\dots\\subseteq E_m)=P(\\text{all $i\\in A$ satisfy one of $m+1$ cases}),\n",
    "\\end{equation}\n",
    "where the event on the right-hand side is something we describe in more detail below."
   ]
  },
  {
   "cell_type": "markdown",
   "metadata": {},
   "source": [
    "For each element $i\\in\\{1,\\dots,n\\}=A$, there are are $2^m$ possible ways ways that element can be distributed among the $m$ subsets.  In other words, for each susbset $E_j$, $j\\in\\{1,\\dots,m\\}$, either $i\\in E_j$, or $i\\not\\in E_j$."
   ]
  },
  {
   "cell_type": "markdown",
   "metadata": {},
   "source": [
    "Of the $2^m$ possible arrangements, note that only $m+1$ of these arrangements *don't* immediately violate the condition $E_1\\subseteq\\dots\\subseteq E_m$.  These correspond to the case (case $1$) $i$ not in any of the sets, (case $2$) $i\\in E_m$ only, (case $3$) $i\\in E_m,E_{m-1}$ only, $\\dots$, (case $m+1$) $i$ is in all the $E_j$."
   ]
  },
  {
   "cell_type": "markdown",
   "metadata": {},
   "source": [
    "Now note that the condition $E_1\\subseteq\\dots\\subseteq E_m$ is satisfied if and only if every element $i$ satisfies one of the $m+1$ cases above, which happens with probability $\\frac{m+1}{2^m}$.  Note that whether or not some *different* element $i\\neq k\\in A$ satisifes one of the $m+1$ cases above is independent of whether $i$ satisifes one of those cases.  Hence, the probability that they both satisfy one of those cases is simply given by the product $\\frac{m+1}{2^m}\\frac{m+1}{2^m}=\\left(\\frac{m+1}{2^m}\\right)^2$.  More generally,\n",
    "\\begin{equation}\n",
    "P(\\text{all $i\\in A$ satisfy one of $m+1$ cases})=\\prod_{i\\in A}\\frac{m+1}{2^m}=\\left(\\frac{m+1}{2^m}\\right)^{|A|}=\\left(\\frac{m+1}{2^m}\\right)^{n}.\n",
    "\\end{equation}"
   ]
  },
  {
   "cell_type": "markdown",
   "metadata": {},
   "source": [
    "Hence, we obtain the final result\n",
    "\\begin{equation}\n",
    "P(E_1\\subseteq\\dots\\subseteq E_m)=\\left(\\frac{m+1}{2^m}\\right)^{n}. \\square\n",
    "\\end{equation}"
   ]
  },
  {
   "cell_type": "markdown",
   "metadata": {},
   "source": [
    "### Code"
   ]
  },
  {
   "cell_type": "code",
   "execution_count": 1,
   "metadata": {},
   "outputs": [],
   "source": [
    "from itertools import chain, combinations\n",
    "\n",
    "def powerset(iterable):\n",
    "    \"powerset([1,2,3]) --> () (1,) (2,) (3,) (1,2) (1,3) (2,3) (1,2,3)\"\n",
    "    s = list(iterable)\n",
    "    return chain.from_iterable(combinations(s, r) for r in range(len(s)+1))"
   ]
  },
  {
   "cell_type": "code",
   "execution_count": 2,
   "metadata": {},
   "outputs": [],
   "source": [
    "import random"
   ]
  },
  {
   "cell_type": "code",
   "execution_count": 3,
   "metadata": {},
   "outputs": [
    {
     "name": "stdout",
     "output_type": "stream",
     "text": [
      "Empirical probability = 0.015421\n",
      "Theoretical probability = 0.015625\n"
     ]
    }
   ],
   "source": [
    "num_experiments = int(1e06)\n",
    "counter = 0\n",
    "n = 6\n",
    "A = list(powerset(range(1, n+1)))\n",
    "m = 3\n",
    "#print(E)\n",
    "for experiment in range(num_experiments):\n",
    "    subsets = random.choices(A, k=m)\n",
    "    #print(subsets)\n",
    "    flag = True\n",
    "    for i in range(len(subsets)-1):\n",
    "        flag = flag and set(subsets[i]).issubset(subsets[i+1])\n",
    "    counter += int(flag)\n",
    "p_emp = counter/num_experiments\n",
    "print(\"Empirical probability = {0}\".format(p_emp))\n",
    "p_th = ((m+1)/2**(m))**n\n",
    "print(\"Theoretical probability = {0}\".format(p_th))\n",
    "    "
   ]
  },
  {
   "cell_type": "code",
   "execution_count": null,
   "metadata": {},
   "outputs": [],
   "source": []
  }
 ],
 "metadata": {
  "kernelspec": {
   "display_name": "Python 3",
   "language": "python",
   "name": "python3"
  },
  "language_info": {
   "codemirror_mode": {
    "name": "ipython",
    "version": 3
   },
   "file_extension": ".py",
   "mimetype": "text/x-python",
   "name": "python",
   "nbconvert_exporter": "python",
   "pygments_lexer": "ipython3",
   "version": "3.7.6"
  }
 },
 "nbformat": 4,
 "nbformat_minor": 4
}
