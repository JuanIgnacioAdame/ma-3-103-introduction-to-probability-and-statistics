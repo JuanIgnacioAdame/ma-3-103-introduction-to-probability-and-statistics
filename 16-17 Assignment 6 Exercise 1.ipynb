{
 "cells": [
  {
   "cell_type": "markdown",
   "metadata": {},
   "source": [
    "### Exercise 1 (The World Series Again)"
   ]
  },
  {
   "cell_type": "markdown",
   "metadata": {},
   "source": [
    "#### The history of the World Series"
   ]
  },
  {
   "cell_type": "markdown",
   "metadata": {},
   "source": [
    "The first “World Series” was played in 1903, the most recent in 2016. There has been a World Series in every intervening year except two: in 1904 (when the NL champ refused to play the AL champ) and 1994 (the strike year). That makes a total of 112 Series. In 1903, 1919, 1920, and 1921 the Series had a best-of-9 games format. That leaves 108 best-of-7 Series. (The 1919 “Black Sox” scandal was a best-of-9 Series.)\n",
    "For the a summary of the number of series by length, see cell below."
   ]
  },
  {
   "cell_type": "markdown",
   "metadata": {},
   "source": [
    "Let us assume that throughout a World Series a given team has a fixed chance to win each game, that games are independent random experiments. Let us also assume that the this probability is the same for the better team in every World Series. These assumptions may seem unrealistic to you, and they are the source of one of my favorite quotes about statistics. Frederick Mosteller wrote, “It seems worthwhile to examine these assumptions a little more carefully, because any fan can readily think of good reasons why they might be invalid. Of course, strictly speaking, all such mathematical assumptions are invalid when we deal with data from the real world. The question of interest is the degree of invalidity and its consequences.”"
   ]
  },
  {
   "cell_type": "markdown",
   "metadata": {},
   "source": [
    "If the better team always won, then a best-of-7 Series would last only four games. As the probability gets closer to $\\frac{1}{2}$, one would expect more seven-game Series. The likelihood function depends on $p$, the probability that the “better” team wins any particular game, and on $N_k$ where $N_k$ is the number of series where the winning team loses $k$ games, so that the series lasts $4 + k$ games, $k = 0,...,3$."
   ]
  },
  {
   "cell_type": "markdown",
   "metadata": {},
   "source": [
    "Let $\\mathrm{plose}(k, p)$ be the probability that a team loses $k$ games, but still is the first team to win the $4$ games needed to win the Series, when its probability of winning each game is $p$. For this to happen, the team must win $3$ and lose $k$ of the first $3+k$ games, and then win the last game:\n",
    "\\begin{equation}\n",
    "\\text{plose}(k,p)=\\underbrace{{3+k\\choose k}p^3(1-p)^k}_{\\text{prob winning 3 and losing k}} \\times \\underbrace{p}_{\\text{prob win last game}}.\n",
    "\\end{equation}"
   ]
  },
  {
   "cell_type": "markdown",
   "metadata": {},
   "source": [
    "􏰄􏰃Let $\\mathrm{plen}(k,p)$ denote the probability that the Series lasts $4+k$ games.  Since either team may win the series,\n",
    "may win the series,\n",
    "\\begin{align}\n",
    "\\mathrm{plen}(k,p) &= \\mathrm{plose}(k,p) + \\mathrm{plose}(k,p)\\\\\n",
    "&= {3+k\\choose k}(p^4(1-p)^k+p^k(1-p)^4),\\\\\n",
    "k&=0,\\dots,3.\n",
    "\\end{align}"
   ]
  },
  {
   "cell_type": "markdown",
   "metadata": {},
   "source": [
    "#### The Likelihood Function"
   ]
  },
  {
   "cell_type": "markdown",
   "metadata": {},
   "source": [
    "In $N$ Series, let $N_k$ denote the number of Series where the winner loses $k$ games. $(N = N0 + N1 + N2 + N3.)$ The probability that this particular set of lengths occurs is also the likelihood function, and is given by the multinomial probability\n",
    "\\begin{align}\n",
    "L(p;N_0,N_1,N_2,N_3)&=\\frac{N!}{N_0!N_1!N_2!N_3!}\\prod_{k=0}^{3}\\mathrm{plen}(k,p)^{N_k}\\\\\n",
    "&=\\underbrace{{N_0!N_1!N_2!N_3!}\\left(\\prod_{k=0}^3{3+k\\choose k}^{N_k}\\right)}_{\\text{independent of $p$}}\\prod_{k=0}^3\\left(p^4(1-p)^k+p^k(1-p)^4\\right)^{N_k}.\n",
    "\\end{align}"
   ]
  },
  {
   "cell_type": "markdown",
   "metadata": {},
   "source": [
    "Since we want to choose $p$ to maximize the likelihood unction we may ignore the positive constant term and just concentrate on the part that depends on $p$:\n",
    "\\begin{equation}\n",
    "\\tilde{L}(p;N_0,N_1,N_2,N_3)=\\prod_{k=0}^3\\left(p^4(1-p)^k+p^k(1-p)^4\\right)^{N_k}\n",
    "\\end{equation}"
   ]
  },
  {
   "cell_type": "markdown",
   "metadata": {},
   "source": [
    "### Begin Assignment"
   ]
  },
  {
   "cell_type": "markdown",
   "metadata": {},
   "source": [
    "The following table summarizes the number of best-of-7 Series where the winning team loses $k$ games (108 in total).\n",
    "\\begin{equation}\n",
    "N_0=21, \\quad N_1=25, \\quad N_2=24, \\quad N_3=38.\n",
    "\\end{equation}"
   ]
  },
  {
   "cell_type": "markdown",
   "metadata": {},
   "source": [
    "### Exercise 1.1"
   ]
  },
  {
   "cell_type": "markdown",
   "metadata": {},
   "source": [
    "Peruse Mosteller’s analysis [1]."
   ]
  },
  {
   "cell_type": "markdown",
   "metadata": {},
   "source": [
    "### Exercise 1.2"
   ]
  },
  {
   "cell_type": "markdown",
   "metadata": {},
   "source": [
    "Graph the likelihood function as a function of $p$. (If you wish, you may discard the constants and use $\\tilde{L}$ instead of $L$). Graph the log of the likelihood function.\n",
    "You should get graphs that are symmetric about $\\frac{1}{2}$. In particular, there will be two maxima."
   ]
  },
  {
   "cell_type": "code",
   "execution_count": 2,
   "metadata": {},
   "outputs": [],
   "source": [
    "from matplotlib import pyplot as plt\n",
    "from math import log"
   ]
  },
  {
   "cell_type": "code",
   "execution_count": 30,
   "metadata": {},
   "outputs": [],
   "source": [
    "# observations\n",
    "N = {}\n",
    "N[0] = 21\n",
    "N[1] = 25\n",
    "N[2] = 24\n",
    "N[3] = 38\n",
    "# Likelihood\n",
    "L = {}\n",
    "for i in range(0,100+1):\n",
    "    p = i*1/100\n",
    "    L[p] = 1\n",
    "    for k in range(0,3+1):\n",
    "        L[p] = L[p] * (p**4*(1-p)**k + p**k*(1-p)**4)**N[k]"
   ]
  },
  {
   "cell_type": "code",
   "execution_count": 31,
   "metadata": {},
   "outputs": [
    {
     "data": {
      "image/png": "[encoded data removed]",
      "text/plain": [
       "<Figure size 432x288 with 1 Axes>"
      ]
     },
     "metadata": {
      "needs_background": "light"
     },
     "output_type": "display_data"
    }
   ],
   "source": [
    "# clear figure\n",
    "plt.clf()\n",
    "\n",
    "# y axis\n",
    "y_min = min(L.values())\n",
    "y_max = max(L.values())\n",
    "plt.ylim(bottom=y_min, top=y_max)\n",
    "#plt.yscale('log',base=3)\n",
    "#ylabels = [r\"$2^{2.5}$\", r\"$2^{3}$\",\n",
    "#r\"$2^{3.5}$\", r\"$2^{4}$\", r\"$2^{4.5}$\"]\n",
    "#plt.yticks(ticks=yticks, labels=ylabels)\n",
    "y_title = \"L\"\n",
    "plt.ylabel(y_title, fontsize=12)\n",
    "\n",
    "#x axis\n",
    "x_min=0\n",
    "x_max=1\n",
    "x_title = \"p\"\n",
    "plt.xlabel(x_title, fontsize=12)\n",
    "#plt.xscale('log', base=3)\n",
    "plt.xlim(left=x_min, right=x_max)\n",
    "#xticks = tas\n",
    "#xlabels = [r\"$3^{0}$\", r\"$3^{1}$\", r\"$3^{2}$\", r\"$3^{3}$]\"\n",
    "#plt.xticks(ticks=xticks, labels=xlabels, size=14)\n",
    "\n",
    "plt.plot(L.keys(), L.values())\n",
    "plt.show()"
   ]
  },
  {
   "cell_type": "code",
   "execution_count": 32,
   "metadata": {},
   "outputs": [],
   "source": [
    "# Likelihood\n",
    "logL = {}\n",
    "for i in range(20,80+1):\n",
    "    p = i*1/100\n",
    "    logL[p] = 1\n",
    "    for k in range(0,3+1):\n",
    "        logL[p] = logL[p] * (p**4*(1-p)**k + p**k*(1-p)**4)**N[k]\n",
    "    logL[p] = log(logL[p])"
   ]
  },
  {
   "cell_type": "code",
   "execution_count": 33,
   "metadata": {},
   "outputs": [
    {
     "data": {
      "image/png": "[encoded data removed]",
      "text/plain": [
       "<Figure size 432x288 with 1 Axes>"
      ]
     },
     "metadata": {
      "needs_background": "light"
     },
     "output_type": "display_data"
    }
   ],
   "source": [
    "# clear figure\n",
    "plt.clf()\n",
    "\n",
    "# y axis\n",
    "y_min = min(logL.values())\n",
    "y_max = max(logL.values())\n",
    "plt.ylim(bottom=y_min, top=y_max)\n",
    "#plt.yscale('log',base=3)\n",
    "#ylabels = [r\"$2^{2.5}$\", r\"$2^{3}$\",\n",
    "#r\"$2^{3.5}$\", r\"$2^{4}$\", r\"$2^{4.5}$\"]\n",
    "#plt.yticks(ticks=yticks, labels=ylabels)\n",
    "y_title = \"log L\"\n",
    "plt.ylabel(y_title, fontsize=12)\n",
    "\n",
    "#x axis\n",
    "x_min=0.2\n",
    "x_max=0.8\n",
    "x_title = \"p\"\n",
    "plt.xlabel(x_title, fontsize=12)\n",
    "#plt.xscale('log', base=3)\n",
    "plt.xlim(left=x_min, right=x_max)\n",
    "#xticks = tas\n",
    "#xlabels = [r\"$3^{0}$\", r\"$3^{1}$\", r\"$3^{2}$\", r\"$3^{3}$]\"\n",
    "#plt.xticks(ticks=xticks, labels=xlabels, size=14)\n",
    "\n",
    "plt.plot(logL.keys(), logL.values())\n",
    "plt.show()"
   ]
  },
  {
   "cell_type": "markdown",
   "metadata": {},
   "source": [
    "### Exercise 1.3"
   ]
  },
  {
   "cell_type": "markdown",
   "metadata": {},
   "source": [
    "Since we are interested in the probability that the better team wins, we should only consider $p\\geq0.5$. So find the maximum likelihood estimate of $p$ subject to $p\\geq0.5$. Do the same for the logarithm of the likelihood."
   ]
  },
  {
   "cell_type": "markdown",
   "metadata": {},
   "source": [
    "This is a well behaved function.  We could just take the derivative and find the 0s.  Instead, we'll use numerical optimizers.  See code below. $\\square$"
   ]
  },
  {
   "cell_type": "code",
   "execution_count": 99,
   "metadata": {},
   "outputs": [],
   "source": [
    "from scipy.optimize import minimize_scalar"
   ]
  },
  {
   "cell_type": "code",
   "execution_count": 122,
   "metadata": {},
   "outputs": [],
   "source": [
    "def funcL(p):\n",
    "    L = 1\n",
    "    for k in range(0,3+1):\n",
    "        L = L * (p**4*(1-p)**k + p**k*(1-p)**4)**N[k]\n",
    "    return -L"
   ]
  },
  {
   "cell_type": "code",
   "execution_count": 141,
   "metadata": {},
   "outputs": [
    {
     "name": "stdout",
     "output_type": "stream",
     "text": [
      "The maximum likelihood estimate of p is 0.5972403326271332\n"
     ]
    }
   ],
   "source": [
    "bounds = (.56, .64)\n",
    "phat = 1-minimize_scalar(funcL, bounds).x\n",
    "print(\"The maximum likelihood estimate of p is {0}\".format(phat))"
   ]
  },
  {
   "cell_type": "code",
   "execution_count": 91,
   "metadata": {},
   "outputs": [],
   "source": [
    "def funcLogL(p):\n",
    "    L = 1\n",
    "    for k in range(0,3+1):\n",
    "        L = L * (p**4*(1-p)**k + p**k*(1-p)**4)**N[k]\n",
    "    return -log(L)   "
   ]
  },
  {
   "cell_type": "code",
   "execution_count": 143,
   "metadata": {},
   "outputs": [
    {
     "name": "stdout",
     "output_type": "stream",
     "text": [
      "The maximum likelihood estimate of p is 0.5972403496665595\n"
     ]
    }
   ],
   "source": [
    "bounds = (.56, .64)\n",
    "phat = minimize_scalar(funcLogL, bounds).x\n",
    "print(\"The maximum likelihood estimate of p is {0}\".format(phat))"
   ]
  },
  {
   "cell_type": "markdown",
   "metadata": {},
   "source": [
    "### Exercise 1.4"
   ]
  },
  {
   "cell_type": "markdown",
   "metadata": {},
   "source": [
    "Using this estimate, what is the probability that the better team wins a best-of-7 series?"
   ]
  },
  {
   "cell_type": "markdown",
   "metadata": {},
   "source": [
    "See code below. $\\square$"
   ]
  },
  {
   "cell_type": "code",
   "execution_count": 135,
   "metadata": {},
   "outputs": [],
   "source": [
    "from scipy.special import binom"
   ]
  },
  {
   "cell_type": "code",
   "execution_count": 138,
   "metadata": {},
   "outputs": [],
   "source": [
    "def plose(k, p):\n",
    "    return binom(3+k, k) * p**3 * (1-p)**k * p"
   ]
  },
  {
   "cell_type": "code",
   "execution_count": 140,
   "metadata": {},
   "outputs": [
    {
     "name": "stdout",
     "output_type": "stream",
     "text": [
      "The probability that the better team wins a best-of-7 series is approximately 0.7048488010990469\n"
     ]
    }
   ],
   "source": [
    "pstar = 0.5972403496665595\n",
    "pw = sum([plose(k, pstar) for k in range(0,3+1)])\n",
    "print(\"The probability that the better team wins a best-of-7 series is approximately {0}\".format(pw))"
   ]
  },
  {
   "cell_type": "markdown",
   "metadata": {},
   "source": [
    "### Exercise 1.5"
   ]
  },
  {
   "cell_type": "markdown",
   "metadata": {},
   "source": [
    "There are other ways we can estimate $p$. One is the method of moments. Each value of $p$ determines an expected number of losses by the winning team."
   ]
  },
  {
   "cell_type": "markdown",
   "metadata": {},
   "source": [
    "What is the formula for the expected number of losses in a first-to-win- four series as a function of $p$?"
   ]
  },
  {
   "cell_type": "markdown",
   "metadata": {},
   "source": [
    "First, note that the probability that the winning team loses exactly $k$ times is the same as the probability that the series lasts $4+k$ games.  We already wrote the latter formula above.  It is given by\n",
    "\\begin{align}\n",
    "\\mathrm{plen}(k,p) &= \\mathrm{plose}(k,p) + \\mathrm{plose}(k,p)\\\\\n",
    "&= {3+k\\choose k}(p^4(1-p)^k+p^k(1-p)^4),\\\\\n",
    "k&=0,\\dots,3.\n",
    "\\end{align}"
   ]
  },
  {
   "cell_type": "markdown",
   "metadata": {},
   "source": [
    "Hence, the formula for the expected number of losses is given by\n",
    "\\begin{equation}\n",
    "\\sum_{k=0}^{3}k\\times\\mathrm{plen}(k,p). \\square\n",
    "\\end{equation}"
   ]
  },
  {
   "cell_type": "markdown",
   "metadata": {},
   "source": [
    "What is is the actual average number of losses by the winning team in the 108 7-game series?"
   ]
  },
  {
   "cell_type": "markdown",
   "metadata": {},
   "source": [
    "Using our summary table above, this is given by the straightforward computation\n",
    "\\begin{align}\n",
    "\\frac{0\\times N_0+1\\times N_1+2\\times N_2+3\\times N_3}{108}\\\\\n",
    "=\\frac{0\\times 21+1\\times 25+2\\times 24+3\\times 38}{108}\\\\\n",
    "=\\frac{187}{108}\\approx 1.73. \\square\n",
    "\\end{align}"
   ]
  },
  {
   "cell_type": "markdown",
   "metadata": {},
   "source": [
    "What value of $p$ equates the expected number of losses to the actual\n",
    "average number of losses? This is a moment estimator of $p$.\n",
    "Hint: One way to numerically solve an equation like $f(x) = c$ for $x$ is to minimize $(f(x) − c)^2$ with respect to $x$. If the equation has a solution, then the minimum value is zero, and is attained at the solution."
   ]
  },
  {
   "cell_type": "markdown",
   "metadata": {},
   "source": [
    "See code below. $\\square$"
   ]
  },
  {
   "cell_type": "code",
   "execution_count": 148,
   "metadata": {},
   "outputs": [],
   "source": [
    "def f(p):\n",
    "    empirical_e = 1.73\n",
    "    e = 0\n",
    "    for k in range(0,3+1):\n",
    "        e += k*binom(3+k, k)*(p**4*(1-p)**k+p**k*(1-p)**4)\n",
    "    return (e-empirical_e)**2"
   ]
  },
  {
   "cell_type": "code",
   "execution_count": 156,
   "metadata": {},
   "outputs": [],
   "source": [
    "bounds = (.5, 1)\n",
    "phat = minimize_scalar(f, bounds).x"
   ]
  },
  {
   "cell_type": "code",
   "execution_count": 158,
   "metadata": {},
   "outputs": [
    {
     "name": "stdout",
     "output_type": "stream",
     "text": [
      "The value of p that equates the expected number of losses to the actual average number of losses is 0.5843794472723904\n"
     ]
    }
   ],
   "source": [
    "print(\"The value of p that equates the expected number of losses to the actual average number of losses is {0}\".format(phat))"
   ]
  },
  {
   "cell_type": "code",
   "execution_count": null,
   "metadata": {},
   "outputs": [],
   "source": []
  }
 ],
 "metadata": {
  "kernelspec": {
   "display_name": "Python 3",
   "language": "python",
   "name": "python3"
  },
  "language_info": {
   "codemirror_mode": {
    "name": "ipython",
    "version": 3
   },
   "file_extension": ".py",
   "mimetype": "text/x-python",
   "name": "python",
   "nbconvert_exporter": "python",
   "pygments_lexer": "ipython3",
   "version": "3.7.6"
  }
 },
 "nbformat": 4,
 "nbformat_minor": 4
}
