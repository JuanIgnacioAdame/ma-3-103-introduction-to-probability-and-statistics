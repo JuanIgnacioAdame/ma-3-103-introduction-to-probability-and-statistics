{
 "cells": [
  {
   "cell_type": "markdown",
   "metadata": {},
   "source": [
    "Pitman [1, Exercise 3.Review.30, p. 255.]"
   ]
  },
  {
   "cell_type": "markdown",
   "metadata": {},
   "source": [
    "Diagonal neighbor random walk. Let $(S_n,T_n)$ denote the position after $n$ steps of a random walk on the lattice of points in the plane with integer coordinates, starting from $(S_0,T_0) = (0,0)$. Suppose that $S_{n+1} = S_n\\pm1$ and $T_{n+1} = T_n\\pm1$ where the signs are picked by two independent tosses of a fair coin, independently at each step."
   ]
  },
  {
   "cell_type": "markdown",
   "metadata": {},
   "source": [
    "a. For $c > 0$, find the limit as $n\\rightarrow\\infty$ of the probability that $(S_n,T_n)$ is inside the square with corners at $(\\pm c\\sqrt{n}, \\pm c\\sqrt{n})$."
   ]
  },
  {
   "cell_type": "markdown",
   "metadata": {},
   "source": [
    "Ultimately this is a straightforward application of the central limit theorem, but we must first do a first simple calculations.  First, observe that because $S_n, T_n$ are independent, we have that\n",
    "\\begin{align}\n",
    "&P(-c\\sqrt{n}\\leq S_n,T_n\\leq c\\sqrt{n})=\\\\\n",
    "&P(-c\\sqrt{n}\\leq S_n\\leq c\\sqrt{n})P(-c\\sqrt{n}\\leq S_n\\leq c\\sqrt{n})=\\\\\n",
    "&P(-c\\sqrt{n}\\leq S_n\\leq c\\sqrt{n})^2.\n",
    "\\end{align}"
   ]
  },
  {
   "cell_type": "markdown",
   "metadata": {},
   "source": [
    "Now observe that from the central limit theorem we have\n",
    "\\begin{equation}\n",
    "\\lim_{n\\rightarrow\\infty}P\\left(a\\leq\\frac{S_n-n\\mu}{\\sigma\\sqrt{n}}\\leq b\\right)=\\Phi(b)-\\Phi(a).\n",
    "\\end{equation}\n",
    "In our case, $S_n=\\sum_{i=1}^{n}X_i$, where each $X_i$ is $\\pm 1$ with probability $0.5$, so that each $X_i$ has $\\mu=0$ and $\\sigma=1$.  Hence, the equation above reduces to\n",
    "\\begin{align}\n",
    "\\lim_{n\\rightarrow\\infty}P\\left(a\\leq\\frac{S_n}{\\sqrt{n}}\\leq b\\right)=\\Phi(b)-\\Phi(a)\\\\\n",
    "= \\lim_{n\\rightarrow\\infty}P\\left(\\sqrt{n}a\\leq S_n\\leq \\sqrt{n}b\\right)=\\Phi(b)-\\Phi(a).\n",
    "\\end{align}\n",
    "But $a$ and $b$ are aribitrary. If we choose $a=-c$ and $b=c$, we get\n",
    "\\begin{equation}\n",
    "\\lim_{n\\rightarrow\\infty}P\\left(\\sqrt{n}c\\leq S_n\\leq \\sqrt{n}c\\right)=\\Phi(c)-\\Phi(-c).\n",
    "\\end{equation}"
   ]
  },
  {
   "cell_type": "markdown",
   "metadata": {},
   "source": [
    "Plugging this into the equation above, we arrive at our final result:\n",
    "\\begin{equation}\n",
    "(\\Phi(c)-\\Phi(-c))^2. \\square\n",
    "\\end{equation}"
   ]
  },
  {
   "cell_type": "code",
   "execution_count": 1,
   "metadata": {},
   "outputs": [],
   "source": [
    "import numpy as np\n",
    "from scipy.stats import norm"
   ]
  },
  {
   "cell_type": "code",
   "execution_count": 2,
   "metadata": {},
   "outputs": [
    {
     "name": "stdout",
     "output_type": "stream",
     "text": [
      "Empirical_p = 0.168\n",
      "Theoretical_p = 0.14663149630841188\n"
     ]
    }
   ],
   "source": [
    "# empirical check\n",
    "# should be sufficiently large\n",
    "N = 10000\n",
    "c = 0.5\n",
    "num_experiments = int(10**3)\n",
    "counter = 0\n",
    "for experiment in range(num_experiments):\n",
    "    Sn = sum(np.random.randint(2, size=N)*2-1)\n",
    "    Tn = sum(np.random.randint(2, size=N)*2-1)\n",
    "    if abs(Sn)<=c*(N**0.5) and abs(Tn)<=c*(N**0.5):\n",
    "        counter+=1\n",
    "empirical_p = counter/num_experiments\n",
    "print(\"Empirical_p = {0}\".format(empirical_p))\n",
    "theoretical_p = (norm.cdf(c) - norm.cdf(-c))**2\n",
    "print(\"Theoretical_p = {0}\".format(theoretical_p))\n"
   ]
  },
  {
   "cell_type": "markdown",
   "metadata": {},
   "source": [
    "b. Let $R_n = \\sqrt{S_n^2 + T_n^2}$, the distance from the origin. Find $E(R_n^2 )$."
   ]
  },
  {
   "cell_type": "markdown",
   "metadata": {},
   "source": [
    "This is just a straightforward calculation.\n",
    "\\begin{align}\n",
    "E(R_n^2)=E(S_n^2)+E(T_n^2)=2E(S_n^2).\n",
    "\\end{align}\n",
    "From Lecture 9, Theorem 9.8.1 (A Covariance Menagerie), we have that $E(S_n^2)=n\\sigma^2+n^2\\mu^2$.  Plugging in $\\mu=0, \\sigma=1$, we arrive at our final answer\n",
    "\\begin{equation}\n",
    "E(R_n^2)=2n. \\square\n",
    "\\end{equation}"
   ]
  },
  {
   "cell_type": "code",
   "execution_count": 35,
   "metadata": {},
   "outputs": [
    {
     "name": "stdout",
     "output_type": "stream",
     "text": [
      "Empirical_exp = 200.42308\n",
      "Theoretical_exp = 200\n"
     ]
    }
   ],
   "source": [
    "# empirical check\n",
    "# should be sufficiently large\n",
    "N = 100\n",
    "num_experiments = int(10**5)\n",
    "counter = 0\n",
    "empirical_exp = 0\n",
    "for experiment in range(num_experiments):\n",
    "    Sn = sum(np.random.randint(2, size=N)*2-1)\n",
    "    Tn = sum(np.random.randint(2, size=N)*2-1)\n",
    "    Rn2 = Sn**2 + Tn**2\n",
    "    empirical_exp += Rn2\n",
    "empirical_exp = empirical_exp/num_experiments\n",
    "print(\"Empirical_exp = {0}\".format(empirical_exp))\n",
    "theoretical_exp = 2*N\n",
    "print(\"Theoretical_exp = {0}\".format(theoretical_exp))"
   ]
  },
  {
   "cell_type": "markdown",
   "metadata": {},
   "source": [
    "c. Find $b$, as small as you can, such that $E(R_n)\\leq\\sqrt{bn}$ for every n."
   ]
  },
  {
   "cell_type": "markdown",
   "metadata": {},
   "source": [
    "Using Jensen's Inequality for concave functions, we have\n",
    "\\begin{align}\n",
    "E(R_n)=E(\\sqrt{S_n^2 + T_n^2})&\\leq\\sqrt{E(S_n^2 + T_n^2)}\\\\\n",
    "&=\\sqrt{E(R_n^2)}=\\sqrt{2n}. \\square\n",
    "\\end{align}"
   ]
  },
  {
   "cell_type": "code",
   "execution_count": 4,
   "metadata": {},
   "outputs": [
    {
     "name": "stdout",
     "output_type": "stream",
     "text": [
      "Empirical_exp = 12.557098253202787\n",
      "Theoretical_bound = 14.142135623730951\n"
     ]
    }
   ],
   "source": [
    "# empirical check\n",
    "# should be sufficiently large\n",
    "N = 100\n",
    "num_experiments = int(10**4)\n",
    "counter = 0\n",
    "empirical_exp = 0\n",
    "for experiment in range(num_experiments):\n",
    "    Sn = sum(np.random.randint(2, size=N)*2-1)\n",
    "    Tn = sum(np.random.randint(2, size=N)*2-1)\n",
    "    Rn = (Sn**2 + Tn**2)**0.5\n",
    "    empirical_exp += Rn\n",
    "empirical_exp = empirical_exp/num_experiments\n",
    "print(\"Empirical_exp = {0}\".format(empirical_exp))\n",
    "theoretical_bound = (2*N)**0.5\n",
    "print(\"Theoretical_bound = {0}\".format(theoretical_bound))"
   ]
  },
  {
   "cell_type": "markdown",
   "metadata": {},
   "source": [
    "d. Let $p_n$ denote the probability that the random walk is at $(0, 0)$ after $n$ steps.  Find the numerical value of $p_3$ (as a decimal)."
   ]
  },
  {
   "cell_type": "markdown",
   "metadata": {},
   "source": [
    "This is simply the probability that both $S_n$ and $T_n$ each move forward as much as they move back.  Note that this is impossible for $n$ odd, and hence $p_3=0$.\n",
    "For even $n$, this is equal to the square of the value of the probability mass function of a random variable that is distributed like $B(n,p)$.  In our case $p=0.5$, so this is simply\n",
    "\\begin{align}\n",
    "p_n &= {n\\choose \\frac{n}{2}}p^{\\frac{n}{2}}(1-p)^{n-\\frac{n}{2}}\\\\\n",
    "&= {n\\choose \\frac{n}{2}}p^{\\frac{n}{2}}(1-p)^{\\frac{n}{2}}\\\\\n",
    "&= {n\\choose \\frac{n}{2}}\\frac{1}{2^n}.\n",
    "\\end{align}\n",
    "Squaring the above expression we arrive at our final answer\n",
    "\\begin{equation}\n",
    "p_n = \\left({n\\choose \\frac{n}{2}}\\frac{1}{2^n}\\right)^2. \\square\n",
    "\\end{equation}"
   ]
  },
  {
   "cell_type": "code",
   "execution_count": 5,
   "metadata": {},
   "outputs": [
    {
     "name": "stdout",
     "output_type": "stream",
     "text": [
      "Empirical_counter = 0\n",
      "Theoretical_counter = 0\n"
     ]
    }
   ],
   "source": [
    "# empirical check\n",
    "# should be sufficiently large\n",
    "N = 3\n",
    "num_experiments = int(10**4)\n",
    "counter = 0\n",
    "empirical_exp = 0\n",
    "for experiment in range(num_experiments):\n",
    "    Sn = sum(np.random.randint(2, size=N)*2-1)\n",
    "    Tn = sum(np.random.randint(2, size=N)*2-1)\n",
    "    if Sn==0 and Tn==0:\n",
    "        counter+=1\n",
    "print(\"Empirical_counter = {0}\".format(counter))\n",
    "print(\"Theoretical_counter = {0}\".format(0))"
   ]
  },
  {
   "cell_type": "code",
   "execution_count": 6,
   "metadata": {},
   "outputs": [],
   "source": [
    "from scipy.special import binom"
   ]
  },
  {
   "cell_type": "code",
   "execution_count": 7,
   "metadata": {},
   "outputs": [
    {
     "name": "stdout",
     "output_type": "stream",
     "text": [
      "Empirical_p = 0.03204\n",
      "Theoretical_p = 0.031045401134178974\n"
     ]
    }
   ],
   "source": [
    "# empirical check\n",
    "# should be sufficiently large\n",
    "N = 2*10\n",
    "num_experiments = int(10**5)\n",
    "counter = 0\n",
    "empirical_exp = 0\n",
    "for experiment in range(num_experiments):\n",
    "    Sn = sum(np.random.randint(2, size=N)*2-1)\n",
    "    Tn = sum(np.random.randint(2, size=N)*2-1)\n",
    "    if Sn==0 and Tn==0:\n",
    "        counter+=1\n",
    "empirical_p = counter/num_experiments\n",
    "print(\"Empirical_p = {0}\".format(empirical_p))\n",
    "theoretical_p = (binom(N, N/2) * 2**(-N))**2\n",
    "print(\"Theoretical_p = {0}\".format(theoretical_p))"
   ]
  },
  {
   "cell_type": "markdown",
   "metadata": {},
   "source": [
    "e. Show that $p_{2m}\\sim c/m$ as $m\\rightarrow\\infty$ for a constant $c$. What is $c$?"
   ]
  },
  {
   "cell_type": "markdown",
   "metadata": {},
   "source": [
    "Using Stirling's approximation, we get\n",
    "\\begin{align}\n",
    "p_n &\\sim \\left( \\frac{4^n}{\\sqrt{\\pi n}} \\frac{1}{4^n} \\right)^2\\\\\n",
    "&=  \\left(\\frac{1}{\\sqrt{\\pi n}}\\right)^2\\\\\n",
    "&= \\frac{1}{\\pi n}.\\square\n",
    "\\end{align}"
   ]
  },
  {
   "cell_type": "code",
   "execution_count": 8,
   "metadata": {},
   "outputs": [],
   "source": [
    "from math import pi"
   ]
  },
  {
   "cell_type": "code",
   "execution_count": 34,
   "metadata": {},
   "outputs": [
    {
     "name": "stdout",
     "output_type": "stream",
     "text": [
      "Empirical_p = 0.00627\n",
      "Theoretical_p = 0.006366197723675813\n"
     ]
    }
   ],
   "source": [
    "# empirical check\n",
    "# should be sufficiently large\n",
    "N = 100\n",
    "num_experiments = int(10**5)\n",
    "counter = 0\n",
    "for experiment in range(num_experiments):\n",
    "    Sn = sum(np.random.randint(2, size=N)*2-1)\n",
    "    Tn = sum(np.random.randint(2, size=N)*2-1)\n",
    "    if Sn==0 and Tn==0:\n",
    "        counter+=1\n",
    "empirical_p = counter/num_experiments\n",
    "print(\"Empirical_p = {0}\".format(empirical_p))\n",
    "theoretical_p = 1/(pi*N/2)\n",
    "print(\"Theoretical_p = {0}\".format(theoretical_p))"
   ]
  },
  {
   "cell_type": "code",
   "execution_count": null,
   "metadata": {},
   "outputs": [],
   "source": []
  }
 ],
 "metadata": {
  "kernelspec": {
   "display_name": "Python 3",
   "language": "python",
   "name": "python3"
  },
  "language_info": {
   "codemirror_mode": {
    "name": "ipython",
    "version": 3
   },
   "file_extension": ".py",
   "mimetype": "text/x-python",
   "name": "python",
   "nbconvert_exporter": "python",
   "pygments_lexer": "ipython3",
   "version": "3.7.6"
  }
 },
 "nbformat": 4,
 "nbformat_minor": 4
}
