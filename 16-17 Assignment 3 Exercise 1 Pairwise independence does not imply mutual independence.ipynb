{
 "cells": [
  {
   "cell_type": "markdown",
   "metadata": {},
   "source": [
    "Exercise 1"
   ]
  },
  {
   "cell_type": "markdown",
   "metadata": {},
   "source": [
    "Is it possible to have three random variables $X, Y$, and $Z$, where $X$ and $Y$ are stochastically independent, $Y$ and $Z$ are stochastically independent, and $X$ and $Z$ are stochastically independent; but the set ${X,Y,Z}$ of random variables is not stochastically independent? Explain why your answer is correct."
   ]
  },
  {
   "cell_type": "markdown",
   "metadata": {},
   "source": [
    "Yes, it is possible.  For a simple counter example, let $X\\sim B(0.5)$, $Y\\sim B(0.5)$, and $Z=X+Y\\pmod 2$.  In the code below we perform all the necessary calculation for independence check."
   ]
  },
  {
   "cell_type": "code",
   "execution_count": 2,
   "metadata": {},
   "outputs": [
    {
     "name": "stdout",
     "output_type": "stream",
     "text": [
      "False\n",
      "False\n",
      "False\n",
      "False\n"
     ]
    }
   ],
   "source": [
    "# check for mutual independence\n",
    "X = {0: 0.5, 1: 0.5}\n",
    "Y = {0: 0.5, 1: 0.5}\n",
    "Z = {0: 0.5, 1: 0.5}\n",
    "XYZ = {(0,0,0): 0.25, (0,1,1): 0.25, (1,0,1): 0.25, (1,1,0): 0.25}\n",
    "# check for mutual independence\n",
    "for key, value in XYZ.items():\n",
    "    xi = key[0]\n",
    "    yi = key[1]\n",
    "    zi = key[2]\n",
    "    flag = (value==X[xi]*Y[yi]*Z[zi])\n",
    "    print(flag)"
   ]
  },
  {
   "cell_type": "markdown",
   "metadata": {},
   "source": [
    "We see that, for example, mutual independence does not hold for any singleton $\\{s\\}\\in\\Omega_{XYZ}$. $\\square$"
   ]
  }
 ],
 "metadata": {
  "kernelspec": {
   "display_name": "Python 3",
   "language": "python",
   "name": "python3"
  },
  "language_info": {
   "codemirror_mode": {
    "name": "ipython",
    "version": 3
   },
   "file_extension": ".py",
   "mimetype": "text/x-python",
   "name": "python",
   "nbconvert_exporter": "python",
   "pygments_lexer": "ipython3",
   "version": "3.7.6"
  }
 },
 "nbformat": 4,
 "nbformat_minor": 4
}
