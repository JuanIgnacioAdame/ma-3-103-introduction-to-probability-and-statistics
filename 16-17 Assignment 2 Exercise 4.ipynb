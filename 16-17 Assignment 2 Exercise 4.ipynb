{
 "cells": [
  {
   "cell_type": "markdown",
   "metadata": {},
   "source": [
    "Exercise 4"
   ]
  },
  {
   "cell_type": "markdown",
   "metadata": {},
   "source": [
    "There are three urns holding various numbers of black, white, and yellow balls. Here is a table showing their composition:"
   ]
  },
  {
   "cell_type": "markdown",
   "metadata": {},
   "source": [
    "Urn 1: B = 10, W = 16, Y = 4"
   ]
  },
  {
   "cell_type": "markdown",
   "metadata": {},
   "source": [
    "Urn 2: B = 18, W = 10, Y = 2"
   ]
  },
  {
   "cell_type": "markdown",
   "metadata": {},
   "source": [
    "Urn 3: B = 17, W = 12, Y = 1"
   ]
  },
  {
   "cell_type": "markdown",
   "metadata": {},
   "source": [
    "An urn is selected at random, and a ball is drawn out. Use Bayes’ Law to answer the following questions."
   ]
  },
  {
   "cell_type": "markdown",
   "metadata": {},
   "source": [
    "1. For each i = 1, 2, 3, what is the posterior probability that urn i was selected, given that a yellow ball was drawn?"
   ]
  },
  {
   "cell_type": "markdown",
   "metadata": {},
   "source": [
    "$\\mathbb{P}(\\text{urn 1}|\\text{yellow ball})=\\mathbb{P}(\\text{yellow ball}|\\text{urn 1})\\frac{\\mathbb{P}(\\text{urn 1})}{\\mathbb{P}(\\text{yellow ball})}$"
   ]
  },
  {
   "cell_type": "markdown",
   "metadata": {},
   "source": [
    "$\\mathbb{P}(\\text{urn 2}|\\text{yellow ball})=\\mathbb{P}(\\text{yellow ball}|\\text{urn 2})\\frac{\\mathbb{P}(\\text{urn 2})}{\\mathbb{P}(\\text{yellow ball})}$"
   ]
  },
  {
   "cell_type": "markdown",
   "metadata": {},
   "source": [
    "$\\mathbb{P}(\\text{urn 3}|\\text{yellow ball})=\\mathbb{P}(\\text{yellow ball}|\\text{urn 3})\\frac{\\mathbb{P}(\\text{urn 3})}{\\mathbb{P}(\\text{yellow ball})}$ $\\square$"
   ]
  },
  {
   "cell_type": "code",
   "execution_count": 1,
   "metadata": {},
   "outputs": [],
   "source": [
    "import random"
   ]
  },
  {
   "cell_type": "code",
   "execution_count": 2,
   "metadata": {},
   "outputs": [
    {
     "name": "stdout",
     "output_type": "stream",
     "text": [
      "empirical_p1 = 0.5699208443271768\n",
      "empirical_p2 = 0.29815303430079154\n",
      "empirical_p3 = 0.13192612137203166\n",
      "theoretical_p1 = 0.5714285714285714\n",
      "theoretical_p2 = 0.2857142857142857\n",
      "theoretical_p3 = 0.14285714285714285\n"
     ]
    }
   ],
   "source": [
    "# empirical check\n",
    "# urns\n",
    "urn = {}\n",
    "urn[1] = {'b': 10, 'w': 16, 'y': 4}\n",
    "urn[2] = {'b': 18, 'w': 10, 'y': 2}\n",
    "urn[3] = {'b': 17, 'w': 12, 'y': 1}\n",
    "# p(yellow|urn i)\n",
    "py = {}\n",
    "py[1] = urn[1]['y']/sum(urn[1].values())\n",
    "py[2] = urn[2]['y']/sum(urn[2].values())\n",
    "py[3] = urn[3]['y']/sum(urn[3].values())\n",
    "# p(urn i)\n",
    "p = 1/3\n",
    "# p(yellow ball)\n",
    "pY = sum([urn[i]['y'] for i in range(1, 3+1)])/sum([sum(urn[i].values()) for i in range(1, 3+1)])\n",
    "outcome_counter = {1: 0, 2: 0, 3: 0}\n",
    "experiment_counter = 0\n",
    "num_experiments = int(10**4)\n",
    "for experiment in range(num_experiments):\n",
    "    i = random.randint(1,3)\n",
    "    balls = urn[i]['b']*['b']+urn[i]['w']*['w']+urn[i]['y']*['y']\n",
    "    #print(balls)\n",
    "    ball = random.choice(balls)\n",
    "    if ball=='y':\n",
    "        experiment_counter +=1\n",
    "        outcome_counter[i] +=1\n",
    "# empirical results\n",
    "print(\"empirical_p1 = {0}\".format(outcome_counter[1]/experiment_counter))\n",
    "print(\"empirical_p2 = {0}\".format(outcome_counter[2]/experiment_counter))\n",
    "print(\"empirical_p3 = {0}\".format(outcome_counter[3]/experiment_counter))\n",
    "# theoretical results\n",
    "print(\"theoretical_p1 = {0}\".format(py[1]*p/pY))\n",
    "print(\"theoretical_p2 = {0}\".format(py[2]*p/pY))\n",
    "print(\"theoretical_p3 = {0}\".format(py[3]*p/pY))"
   ]
  },
  {
   "cell_type": "markdown",
   "metadata": {},
   "source": [
    "2. For each i = 1, 2, 3, what is the posterior probability that urn i was selected, given that a white ball was drawn?"
   ]
  },
  {
   "cell_type": "markdown",
   "metadata": {},
   "source": [
    "$\\mathbb{P}(\\text{urn 1}|\\text{white ball})=\\mathbb{P}(\\text{white ball}|\\text{urn 1})\\frac{\\mathbb{P}(\\text{urn 1})}{\\mathbb{P}(\\text{white ball})}$"
   ]
  },
  {
   "cell_type": "markdown",
   "metadata": {},
   "source": [
    "$\\mathbb{P}(\\text{urn 2}|\\text{white ball})=\\mathbb{P}(\\text{white ball}|\\text{urn 2})\\frac{\\mathbb{P}(\\text{urn 2})}{\\mathbb{P}(\\text{white ball})}$"
   ]
  },
  {
   "cell_type": "markdown",
   "metadata": {},
   "source": [
    "$\\mathbb{P}(\\text{urn 3}|\\text{white ball})=\\mathbb{P}(\\text{white ball}|\\text{urn 3})\\frac{\\mathbb{P}(\\text{urn 3})}{\\mathbb{P}(\\text{white ball})}$ $\\square$"
   ]
  },
  {
   "cell_type": "code",
   "execution_count": 3,
   "metadata": {},
   "outputs": [
    {
     "name": "stdout",
     "output_type": "stream",
     "text": [
      "empirical_p1 = 0.42299452511306834\n",
      "empirical_p2 = 0.263508688407522\n",
      "empirical_p3 = 0.31349678647940965\n",
      "theoretical_p1 = 0.42105263157894735\n",
      "theoretical_p2 = 0.2631578947368421\n",
      "theoretical_p3 = 0.3157894736842105\n"
     ]
    }
   ],
   "source": [
    "# empirical check\n",
    "# urns\n",
    "urn = {}\n",
    "urn[1] = {'b': 10, 'w': 16, 'y': 4}\n",
    "urn[2] = {'b': 18, 'w': 10, 'y': 2}\n",
    "urn[3] = {'b': 17, 'w': 12, 'y': 1}\n",
    "# p(yellow|urn i)\n",
    "pw = {}\n",
    "pw[1] = urn[1]['w']/sum(urn[1].values())\n",
    "pw[2] = urn[2]['w']/sum(urn[2].values())\n",
    "pw[3] = urn[3]['w']/sum(urn[3].values())\n",
    "# p(urn i)\n",
    "p = 1/3\n",
    "# p(yellow ball)\n",
    "pW = sum([urn[i]['w'] for i in range(1, 3+1)])/sum([sum(urn[i].values()) for i in range(1, 3+1)])\n",
    "outcome_counter = {1: 0, 2: 0, 3: 0}\n",
    "experiment_counter = 0\n",
    "num_experiments = int(10**4)\n",
    "for experiment in range(num_experiments):\n",
    "    i = random.randint(1,3)\n",
    "    balls = urn[i]['b']*['b']+urn[i]['w']*['w']+urn[i]['y']*['y']\n",
    "    #print(balls)\n",
    "    ball = random.choice(balls)\n",
    "    if ball=='w':\n",
    "        experiment_counter +=1\n",
    "        outcome_counter[i] +=1\n",
    "# empirical results\n",
    "print(\"empirical_p1 = {0}\".format(outcome_counter[1]/experiment_counter))\n",
    "print(\"empirical_p2 = {0}\".format(outcome_counter[2]/experiment_counter))\n",
    "print(\"empirical_p3 = {0}\".format(outcome_counter[3]/experiment_counter))\n",
    "# theoretical results\n",
    "print(\"theoretical_p1 = {0}\".format(pw[1]*p/pW))\n",
    "print(\"theoretical_p2 = {0}\".format(pw[2]*p/pW))\n",
    "print(\"theoretical_p3 = {0}\".format(pw[3]*p/pW))"
   ]
  },
  {
   "cell_type": "markdown",
   "metadata": {},
   "source": [
    "3. For each i = 1, 2, 3, what is the posterior probability that urn i was selected, given that the ball that was drawn is not black?"
   ]
  },
  {
   "cell_type": "markdown",
   "metadata": {},
   "source": [
    "$\\mathbb{P}(\\text{urn 1}|\\text{not black})=\\mathbb{P}(\\text{not black}|\\text{urn 1})\\frac{\\mathbb{P}(\\text{urn 1})}{\\mathbb{P}(\\text{not black})}$"
   ]
  },
  {
   "cell_type": "markdown",
   "metadata": {},
   "source": [
    "$\\mathbb{P}(\\text{urn 2}|\\text{not black})=\\mathbb{P}(\\text{not black}|\\text{urn 2})\\frac{\\mathbb{P}(\\text{urn 2})}{\\mathbb{P}(\\text{not black})}$"
   ]
  },
  {
   "cell_type": "markdown",
   "metadata": {},
   "source": [
    "$\\mathbb{P}(\\text{urn 3}|\\text{not black})=\\mathbb{P}(\\text{not black}|\\text{urn 3})\\frac{\\mathbb{P}(\\text{urn 3})}{\\mathbb{P}(\\text{not black})}$ $\\square$"
   ]
  },
  {
   "cell_type": "code",
   "execution_count": 4,
   "metadata": {},
   "outputs": [
    {
     "name": "stdout",
     "output_type": "stream",
     "text": [
      "empirical_p1 = 0.43958249698916096\n",
      "empirical_p2 = 0.27338418305901246\n",
      "empirical_p3 = 0.28703331995182657\n",
      "theoretical_p1 = 0.4444444444444444\n",
      "theoretical_p2 = 0.26666666666666666\n",
      "theoretical_p3 = 0.28888888888888886\n"
     ]
    }
   ],
   "source": [
    "# empirical check\n",
    "# urns\n",
    "urn = {}\n",
    "urn[1] = {'b': 10, 'w': 16, 'y': 4}\n",
    "urn[2] = {'b': 18, 'w': 10, 'y': 2}\n",
    "urn[3] = {'b': 17, 'w': 12, 'y': 1}\n",
    "# p(not black|urn i)\n",
    "pNb = {}\n",
    "pNb[1] = (urn[1]['w']+urn[1]['y'])/sum(urn[1].values())\n",
    "pNb[2] = (urn[2]['w']+urn[2]['y'])/sum(urn[2].values())\n",
    "pNb[3] = (urn[3]['w']+urn[3]['y'])/sum(urn[3].values())\n",
    "# p(urn i)\n",
    "p = 1/3\n",
    "# p(not black)\n",
    "pnb = sum([urn[i]['w']+urn[i]['y'] for i in range(1, 3+1)])/sum([sum(urn[i].values()) for i in range(1, 3+1)])\n",
    "outcome_counter = {1: 0, 2: 0, 3: 0}\n",
    "experiment_counter = 0\n",
    "num_experiments = int(10**4)\n",
    "for experiment in range(num_experiments):\n",
    "    i = random.randint(1,3)\n",
    "    balls = urn[i]['b']*['b']+urn[i]['w']*['w']+urn[i]['y']*['y']\n",
    "    #print(balls)\n",
    "    ball = random.choice(balls)\n",
    "    if ball!='b':\n",
    "        experiment_counter +=1\n",
    "        outcome_counter[i] +=1\n",
    "# empirical results\n",
    "print(\"empirical_p1 = {0}\".format(outcome_counter[1]/experiment_counter))\n",
    "print(\"empirical_p2 = {0}\".format(outcome_counter[2]/experiment_counter))\n",
    "print(\"empirical_p3 = {0}\".format(outcome_counter[3]/experiment_counter))\n",
    "# theoretical results\n",
    "print(\"theoretical_p1 = {0}\".format(pNb[1]*p/pnb))\n",
    "print(\"theoretical_p2 = {0}\".format(pNb[2]*p/pnb))\n",
    "print(\"theoretical_p3 = {0}\".format(pNb[3]*p/pnb))"
   ]
  },
  {
   "cell_type": "code",
   "execution_count": null,
   "metadata": {},
   "outputs": [],
   "source": []
  }
 ],
 "metadata": {
  "kernelspec": {
   "display_name": "Python 3",
   "language": "python",
   "name": "python3"
  },
  "language_info": {
   "codemirror_mode": {
    "name": "ipython",
    "version": 3
   },
   "file_extension": ".py",
   "mimetype": "text/x-python",
   "name": "python",
   "nbconvert_exporter": "python",
   "pygments_lexer": "ipython3",
   "version": "3.7.6"
  }
 },
 "nbformat": 4,
 "nbformat_minor": 4
}
