{
 "cells": [
  {
   "cell_type": "markdown",
   "metadata": {},
   "source": [
    "Exercise 3 (Sampling with and without replacement)"
   ]
  },
  {
   "cell_type": "markdown",
   "metadata": {},
   "source": [
    "There is a finite set of $n_0$ objects, of which the number $d_0 < n_0$ are defective."
   ]
  },
  {
   "cell_type": "markdown",
   "metadata": {},
   "source": [
    "1. A sample of size $n < \\min\\{d_0, n_0 − d_0\\}$ is chosen at random without replacement. For $d = 0, . . . , n$ what is the probability that exactly $d$ members of the sample are defective?"
   ]
  },
  {
   "cell_type": "markdown",
   "metadata": {},
   "source": [
    "The probability is given by\n",
    "\\begin{equation}\n",
    "\\mathbb{P}(\\text{$d$ defective})=\\frac{{d_0\\choose d}{n_0-d_0\\choose n-d}}{{n_0\\choose n}}. \\square\n",
    "\\end{equation}"
   ]
  },
  {
   "cell_type": "code",
   "execution_count": 1,
   "metadata": {},
   "outputs": [],
   "source": [
    "from scipy.special import binom\n",
    "import random"
   ]
  },
  {
   "cell_type": "code",
   "execution_count": 2,
   "metadata": {},
   "outputs": [
    {
     "name": "stdout",
     "output_type": "stream",
     "text": [
      "Empirical p = 0.02186\n",
      "Theoretical p = 0.021531469960251768\n"
     ]
    }
   ],
   "source": [
    "# empirical check\n",
    "# total number of objects\n",
    "n0 = 100\n",
    "# total number of defective objects\n",
    "d0 = int(n0/5)\n",
    "# choose sample size n<min{d0, n0-d0}\n",
    "n = 10\n",
    "objects = list(range(1, n0+1))\n",
    "num_experiments = int(10**5)\n",
    "counter = 0\n",
    "# choose number in 0,...,n\n",
    "d = 5\n",
    "for experiment in range(num_experiments):\n",
    "    num_defective = 0\n",
    "    # sample without replacement\n",
    "    sample = random.sample(objects, n)\n",
    "    for i in sample:\n",
    "        if i<=d0:\n",
    "            num_defective+=1\n",
    "    if num_defective==d:\n",
    "        counter+=1\n",
    "empirical_p = counter/num_experiments\n",
    "print(\"Empirical p = {0}\".format(empirical_p))\n",
    "theoretical_p = binom(d0, d)*binom(n0-d0, n-d)/binom(n0, n)\n",
    "print(\"Theoretical p = {0}\".format(theoretical_p))"
   ]
  },
  {
   "cell_type": "markdown",
   "metadata": {},
   "source": [
    "2. What if the sample is chosen at random with replacement?"
   ]
  },
  {
   "cell_type": "markdown",
   "metadata": {},
   "source": [
    "If the sample is chosen at random, then the probability is given by\n",
    "\\begin{equation}\n",
    "p=\\underbrace{{n\\choose d}}_{p_1}\\underbrace{\\left(\\frac{n_0-d_0}{n_0}\\right)^{n-d}\\left(\\frac{d_0}{n_0}\\right)^d}_{p_2}.\n",
    "\\end{equation}\n",
    "$p_2$ is the probability that the sample is a sample with $d$ defective items, and $p_1$ is the number of such samples. $\\square$"
   ]
  },
  {
   "cell_type": "code",
   "execution_count": 3,
   "metadata": {},
   "outputs": [
    {
     "name": "stdout",
     "output_type": "stream",
     "text": [
      "Empirical p = 0.02688\n",
      "Theoretical p = 0.02642411520000001\n"
     ]
    }
   ],
   "source": [
    "# empirical check\n",
    "# total number of objects\n",
    "n0 = 100\n",
    "# total number of defective objects\n",
    "d0 = int(n0/5)\n",
    "# choose sample size n<min{d0, n0-d0}\n",
    "n = 10\n",
    "objects = list(range(1, n0+1))\n",
    "num_experiments = int(10**5)\n",
    "counter = 0\n",
    "# choose number in 0,...,n\n",
    "d = 5\n",
    "for experiment in range(num_experiments):\n",
    "    num_defective = 0\n",
    "    # sample with replacement\n",
    "    sample = random.choices(objects, k=n)\n",
    "    for i in sample:\n",
    "        if i<=d0:\n",
    "            num_defective+=1\n",
    "    if num_defective==d:\n",
    "        counter+=1\n",
    "empirical_p = counter/num_experiments\n",
    "print(\"Empirical p = {0}\".format(empirical_p))\n",
    "theoretical_p = binom(n, d)*((n0-d0)/n0)**(n-d)*(d0/n0)**d\n",
    "print(\"Theoretical p = {0}\".format(theoretical_p))"
   ]
  },
  {
   "cell_type": "markdown",
   "metadata": {},
   "source": [
    "3. Compare these probabilities for the case $n_0 = 100, d_0 = 20, n = 10$."
   ]
  },
  {
   "cell_type": "markdown",
   "metadata": {},
   "source": [
    "See results of the code above the comparison. $\\square$"
   ]
  }
 ],
 "metadata": {
  "kernelspec": {
   "display_name": "Python 3",
   "language": "python",
   "name": "python3"
  },
  "language_info": {
   "codemirror_mode": {
    "name": "ipython",
    "version": 3
   },
   "file_extension": ".py",
   "mimetype": "text/x-python",
   "name": "python",
   "nbconvert_exporter": "python",
   "pygments_lexer": "ipython3",
   "version": "3.7.6"
  }
 },
 "nbformat": 4,
 "nbformat_minor": 4
}
