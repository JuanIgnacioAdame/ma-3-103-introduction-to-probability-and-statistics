{
 "cells": [
  {
   "cell_type": "markdown",
   "metadata": {},
   "source": [
    "Alex tosses a fair coin $n$ independent times and Blair tosses a fair coin $m$ independent times. Find an elegant or clever argument to compute the probability that they have equal numbers of Tails. (I will be the judge of whether the argument is elegant, but it had better not involve any lengthy sums.)"
   ]
  },
  {
   "cell_type": "markdown",
   "metadata": {},
   "source": [
    "Without loss of generality, let $n\\geq m$."
   ]
  },
  {
   "cell_type": "markdown",
   "metadata": {},
   "source": [
    "Suppose Alex gets $i$ tails, and Blair gets $i$ tails.  Because the coin is fair, the probability of getting $i$ tails is equal to the probability of getting $m-i$ tails.  Hence, the probability that Alex gets $i$ tails and Blair gets $i$ tails is equal to the probability that Alex gets $i$ tails and Blair gets $m-i$ tails, in which case there are a total of $m$ tails."
   ]
  },
  {
   "cell_type": "markdown",
   "metadata": {},
   "source": [
    "The key observation here is to note that there is in fact a bijection between the number of ways there are $m$ tails total, and the number of ways Alex and Blair get the same number of tails.  Hence, the probability of this event happening is given by\n",
    "\\begin{align}\n",
    "p&=\\left(\\frac{1}{2}\\right)^{n+m}{n+m\\choose m}\\\\\n",
    "&=\\left(\\frac{1}{2}\\right)^{n+m}\\frac{(n+m)!}{m!(n+m-m)!}\\\\\n",
    "&=\\left(\\frac{1}{2}\\right)^{n+m}\\frac{(n+m)!}{m!n!}.\\square\n",
    "\\end{align}"
   ]
  },
  {
   "cell_type": "code",
   "execution_count": 1,
   "metadata": {},
   "outputs": [],
   "source": [
    "import random"
   ]
  },
  {
   "cell_type": "code",
   "execution_count": 56,
   "metadata": {},
   "outputs": [],
   "source": [
    "from scipy.special import binom"
   ]
  },
  {
   "cell_type": "code",
   "execution_count": 61,
   "metadata": {},
   "outputs": [
    {
     "name": "stdout",
     "output_type": "stream",
     "text": [
      "(n,m)=(1,0)\n",
      "0.4989\n",
      "0.5\n",
      "0.5\n",
      "(n,m)=(1,1)\n",
      "0.5011\n",
      "0.5\n",
      "0.5\n",
      "(n,m)=(2,0)\n",
      "0.2507\n",
      "0.25\n",
      "0.25\n",
      "(n,m)=(2,1)\n",
      "0.3738\n",
      "0.375\n",
      "0.375\n",
      "(n,m)=(2,2)\n",
      "0.3762\n",
      "0.375\n",
      "0.375\n",
      "(n,m)=(4,0)\n",
      "0.0629\n",
      "0.0625\n",
      "0.0625\n",
      "(n,m)=(4,1)\n",
      "0.1564\n",
      "0.1562\n",
      "0.1562\n",
      "(n,m)=(4,2)\n",
      "0.2377\n",
      "0.2344\n",
      "0.2344\n",
      "(n,m)=(4,3)\n",
      "0.2754\n",
      "0.2734\n",
      "0.2734\n",
      "(n,m)=(4,4)\n",
      "0.2742\n",
      "0.2734\n",
      "0.2734\n",
      "(n,m)=(8,0)\n",
      "0.0038\n",
      "0.0039\n",
      "0.0039\n",
      "(n,m)=(8,1)\n",
      "0.0183\n",
      "0.0176\n",
      "0.0176\n",
      "(n,m)=(8,2)\n",
      "0.0434\n",
      "0.0439\n",
      "0.0439\n",
      "(n,m)=(8,3)\n",
      "0.0798\n",
      "0.0806\n",
      "0.0806\n",
      "(n,m)=(8,4)\n",
      "0.1204\n",
      "0.1208\n",
      "0.1208\n",
      "(n,m)=(8,5)\n",
      "0.157\n",
      "0.1571\n",
      "0.1571\n",
      "(n,m)=(8,6)\n",
      "0.1852\n",
      "0.1833\n",
      "0.1833\n",
      "(n,m)=(8,7)\n",
      "0.1959\n",
      "0.1964\n",
      "0.1964\n",
      "(n,m)=(8,8)\n",
      "0.1977\n",
      "0.1964\n",
      "0.1964\n",
      "(n,m)=(16,0)\n",
      "0\n",
      "0.0\n",
      "0.0\n",
      "(n,m)=(16,2)\n",
      "0.0005\n",
      "0.0006\n",
      "0.0006\n",
      "(n,m)=(16,4)\n",
      "0.0042\n",
      "0.0046\n",
      "0.0046\n",
      "(n,m)=(16,6)\n",
      "0.0182\n",
      "0.0178\n",
      "0.0178\n",
      "(n,m)=(16,8)\n",
      "0.0435\n",
      "0.0438\n",
      "0.0438\n",
      "(n,m)=(16,10)\n",
      "0.08\n",
      "0.0792\n",
      "0.0792\n",
      "(n,m)=(16,12)\n",
      "0.1133\n",
      "0.1133\n",
      "0.1133\n",
      "(n,m)=(16,14)\n",
      "0.1358\n",
      "0.1354\n",
      "0.1354\n",
      "(n,m)=(16,16)\n",
      "0.1412\n",
      "0.1399\n",
      "0.1399\n",
      "(n,m)=(32,0)\n",
      "0\n",
      "0.0\n",
      "0.0\n",
      "(n,m)=(32,4)\n",
      "0\n",
      "0.0\n",
      "0.0\n",
      "(n,m)=(32,8)\n",
      "0.0001\n",
      "0.0001\n",
      "0.0001\n",
      "(n,m)=(32,12)\n",
      "0.0011\n",
      "0.0012\n",
      "0.0012\n",
      "(n,m)=(32,16)\n",
      "0.0079\n",
      "0.008\n",
      "0.008\n",
      "(n,m)=(32,20)\n",
      "0.0283\n",
      "0.028\n",
      "0.028\n",
      "(n,m)=(32,24)\n",
      "0.0615\n",
      "0.0604\n",
      "0.0604\n",
      "(n,m)=(32,28)\n",
      "0.0911\n",
      "0.09\n",
      "0.09\n",
      "(n,m)=(32,32)\n",
      "0.0977\n",
      "0.0993\n",
      "0.0993\n"
     ]
    }
   ],
   "source": [
    "results = {}\n",
    "for n in [1,2,4,8,16,32]:\n",
    "    for m in range(0,n+1,max(1,int(n/8))):\n",
    "        print(\"(n,m)=({0},{1})\".format(n,m))\n",
    "        num_experiments = int(1e05)\n",
    "        # estimate p emirically\n",
    "        pe = 0\n",
    "        for experiment in range(num_experiments):\n",
    "            alex = [random.choice([1,0]) for i in range(n)]\n",
    "            blair = [random.choice([1,0]) for i in range(m)]\n",
    "            if sum(alex)==sum(blair):\n",
    "                pe += 1/num_experiments\n",
    "        results[(n,m)] = pe\n",
    "        print(round(pe,4))\n",
    "        # theoretical p; brutce force way\n",
    "        pt = 0\n",
    "        for i in range(0,min(n,m)+1):\n",
    "            pt += (binom(n,i)*0.5**i*0.5**(n-i)) * (binom(m,i)*0.5**i*0.5**(m-i))\n",
    "        print(round(pt,4))\n",
    "        # theoretical p; \"elegant\" way\n",
    "        pt = binom(n+m,m)*(1/2)**(n+m)\n",
    "        print(round(pt,4))\n",
    "        "
   ]
  },
  {
   "cell_type": "code",
   "execution_count": 50,
   "metadata": {},
   "outputs": [],
   "source": [
    "from matplotlib import pyplot as plt"
   ]
  },
  {
   "cell_type": "code",
   "execution_count": 64,
   "metadata": {},
   "outputs": [
    {
     "data": {
      "image/png": "[encoded data removed]",
      "text/plain": [
       "<Figure size 432x288 with 1 Axes>"
      ]
     },
     "metadata": {
      "needs_background": "light"
     },
     "output_type": "display_data"
    }
   ],
   "source": [
    "plt.clf()\n",
    "N = 8\n",
    "x = list(range(0,N+1,max(1,int(N/8))))\n",
    "y = [results[(N,i)] for i in x]\n",
    "plt.plot(x, y)\n",
    "plt.show()"
   ]
  },
  {
   "cell_type": "code",
   "execution_count": null,
   "metadata": {},
   "outputs": [],
   "source": []
  }
 ],
 "metadata": {
  "kernelspec": {
   "display_name": "Python 3",
   "language": "python",
   "name": "python3"
  },
  "language_info": {
   "codemirror_mode": {
    "name": "ipython",
    "version": 3
   },
   "file_extension": ".py",
   "mimetype": "text/x-python",
   "name": "python",
   "nbconvert_exporter": "python",
   "pygments_lexer": "ipython3",
   "version": "3.7.6"
  }
 },
 "nbformat": 4,
 "nbformat_minor": 4
}
