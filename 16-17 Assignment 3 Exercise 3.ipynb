{
 "cells": [
  {
   "cell_type": "markdown",
   "metadata": {},
   "source": [
    "Use Jensen’s Inequality to show that for a random variable $X$ with finite mean $\\mu$,\n",
    "\\begin{equation}\n",
    "\\sqrt{\\mathrm{Var}(X)}=\\sigma(X)\\geq E|X − \\mu|,\n",
    "\\end{equation}\n",
    "with equality if and only if $|X − \\mu|$ is degenerate."
   ]
  },
  {
   "cell_type": "markdown",
   "metadata": {},
   "source": [
    "Note that from Jensen's inequality, we have\n",
    "\\begin{equation}\n",
    "(E|X − \\mu|)^2\\leq E(|X-\\mu|^2)=E((X-\\mu)^2)=E((X-EX)^2)=\\mathrm{Var}(X)=(\\sigma(X))^2\n",
    "\\end{equation}\n",
    "Note that (i) $E|X − \\mu|\\geq 0$ because $E$ is a positive (linear) operator and $|X-\\mu|\\geq0$, and (ii) $\\sigma(X)\\geq 0$ by definition.  Hence, we can take the square root of the left-most and the right-most parts of the equations above, and obtain\n",
    "\\begin{equation}\n",
    "E|X − \\mu|\\leq\\sigma(X).\n",
    "\\end{equation}"
   ]
  },
  {
   "cell_type": "markdown",
   "metadata": {},
   "source": [
    "$\\Rightarrow)$ Suppose $\\sigma(X)=0$.  Then $X$ is degenerate, and in particular $X\\equiv \\mu$.  Hence, we have $\\sigma(X)=0\\geq E|X-\\mu|=E|\\mu-\\mu|=0$, and so we see that the inequality is in fact equality."
   ]
  },
  {
   "cell_type": "markdown",
   "metadata": {},
   "source": [
    "$\\Leftarrow)$ Now suppose $X$ is degenerate, so that $X\\equiv \\mu$.  Then $\\sigma(X)=0$, and so we see that $0=E|\\mu-\\mu|=E|X-\\mu|\\leq\\sigma(X)=0$ in fact holds with equality. $\\square$"
   ]
  }
 ],
 "metadata": {
  "kernelspec": {
   "display_name": "Python 3",
   "language": "python",
   "name": "python3"
  },
  "language_info": {
   "codemirror_mode": {
    "name": "ipython",
    "version": 3
   },
   "file_extension": ".py",
   "mimetype": "text/x-python",
   "name": "python",
   "nbconvert_exporter": "python",
   "pygments_lexer": "ipython3",
   "version": "3.7.6"
  }
 },
 "nbformat": 4,
 "nbformat_minor": 4
}
